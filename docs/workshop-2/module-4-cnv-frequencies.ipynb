{
  "cells": [
    {
      "cell_type": "markdown",
      "id": "91a50739-678a-4857-a8b4-0aaa8749b352",
      "metadata": {
        "id": "91a50739-678a-4857-a8b4-0aaa8749b352"
      },
      "source": [
        "![banner](https://github.com/anopheles-genomic-surveillance/anopheles-genomic-surveillance.github.io/blob/master/docs/banner.jpg?raw=1)\n",
        "\n",
        "***[Workshop 2](about) - Training course in data analysis for genomic surveillance of African malaria vectors***\n",
        "\n",
        "---"
      ]
    },
    {
      "cell_type": "markdown",
      "id": "3dfb6a5f-db14-46f6-9537-28fae4942623",
      "metadata": {
        "id": "3dfb6a5f-db14-46f6-9537-28fae4942623"
      },
      "source": [
        "# Module 4 - Analysing CNV frequencies at metabolic resistance genes\n",
        "\n",
        "**Theme: Analysis**\n",
        "\n",
        "\n",
        "In this module we're going to analyse copy number variation in genes that are known to be associated with metabolic insecticide resistance in the *Anopheles gambiae* complex, particularly cytochrome P450 (*Cyp*) genes. We will compute the frequency of copy number variation in these genes of interest, and compare these frequencies between mosquitoes from different time points, geographical locations and species."
      ]
    },
    {
      "cell_type": "markdown",
      "id": "576042b8-8504-46f5-843f-61526b45540f",
      "metadata": {
        "id": "576042b8-8504-46f5-843f-61526b45540f"
      },
      "source": [
        "## Learning objectives\n",
        "\n",
        "At the end of this module you will be able to:\n",
        "\n",
        "* Compute the frequency of gene copy number variation in different mosquito cohorts.\n",
        "* Extract and analyse CNV frequencies for metabolic resistance genes.\n",
        "* Visualise frequencies using heatmaps, time series plots and maps."
      ]
    },
    {
      "cell_type": "markdown",
      "id": "94db0cb9-031e-4ff0-98e6-3d6549c63438",
      "metadata": {
        "tags": [],
        "id": "94db0cb9-031e-4ff0-98e6-3d6549c63438"
      },
      "source": [
        "## Lecture"
      ]
    },
    {
      "cell_type": "markdown",
      "id": "a1b12267-fdf7-443d-8eae-55e83d05363d",
      "metadata": {
        "id": "a1b12267-fdf7-443d-8eae-55e83d05363d"
      },
      "source": [
        "### English"
      ]
    },
    {
      "cell_type": "code",
      "execution_count": null,
      "id": "5744cd86-d5c7-40b4-99be-5d339ce5b354",
      "metadata": {
        "tags": [
          "remove-input"
        ],
        "id": "5744cd86-d5c7-40b4-99be-5d339ce5b354"
      },
      "outputs": [],
      "source": [
        "%%html\n",
        "<iframe width=\"560\" height=\"315\" src=\"https://www.youtube.com/embed/1bwESsRJPdw\" title=\"YouTube video player\" frameborder=\"0\" allow=\"accelerometer; autoplay; clipboard-write; encrypted-media; gyroscope; picture-in-picture\" allowfullscreen></iframe>"
      ]
    },
    {
      "cell_type": "markdown",
      "id": "dd0682fe-e73b-4af4-9818-70d5182bf996",
      "metadata": {
        "id": "dd0682fe-e73b-4af4-9818-70d5182bf996"
      },
      "source": [
        "### Français"
      ]
    },
    {
      "cell_type": "code",
      "execution_count": null,
      "id": "11fcb8de",
      "metadata": {
        "tags": [
          "remove-input"
        ],
        "id": "11fcb8de"
      },
      "outputs": [],
      "source": [
        "%%html\n",
        "<iframe width=\"560\" height=\"315\" src=\"https://www.youtube.com/embed/OzwIukNbu4M\" title=\"YouTube video player\" frameborder=\"0\" allow=\"accelerometer; autoplay; clipboard-write; encrypted-media; gyroscope; picture-in-picture\" allowfullscreen></iframe>"
      ]
    },
    {
      "cell_type": "markdown",
      "id": "56427050",
      "metadata": {
        "id": "56427050"
      },
      "source": [
        "Please note that the code in the cells below might differ from that shown in the video. This can happen because Python packages and their dependencies change due to updates, necessitating tweaks to the code."
      ]
    },
    {
      "cell_type": "markdown",
      "id": "a96928f8-02b3-47ca-8740-2196ea0b00bc",
      "metadata": {
        "id": "a96928f8-02b3-47ca-8740-2196ea0b00bc",
        "tags": []
      },
      "source": [
        "## Setup\n",
        "First, let's install the python packages we will need for our analyses."
      ]
    },
    {
      "cell_type": "code",
      "execution_count": null,
      "id": "66a3c1ac-edf4-4820-9d6f-c1bc7acb01e4",
      "metadata": {
        "tags": [
          "remove-output"
        ],
        "id": "66a3c1ac-edf4-4820-9d6f-c1bc7acb01e4"
      },
      "outputs": [],
      "source": [
        "!pip install -q --no-warn-conflicts malariagen_data -U malariagen_data statsmodels"
      ]
    },
    {
      "cell_type": "markdown",
      "id": "106c0eae-5fde-413e-bf1b-6d26500b7c60",
      "metadata": {
        "id": "106c0eae-5fde-413e-bf1b-6d26500b7c60"
      },
      "source": [
        "Now we've installed `malariagen_data`, we can import it into our environment and set it up to access data in the cloud."
      ]
    },
    {
      "cell_type": "code",
      "execution_count": null,
      "id": "cf0ff546-f031-41dd-885c-8a5ceb2e548d",
      "metadata": {
        "id": "cf0ff546-f031-41dd-885c-8a5ceb2e548d"
      },
      "outputs": [],
      "source": [
        "import malariagen_data"
      ]
    },
    {
      "cell_type": "code",
      "execution_count": null,
      "id": "89bd4047-be44-4c0d-9303-0ae022dd65ec",
      "metadata": {
        "id": "89bd4047-be44-4c0d-9303-0ae022dd65ec"
      },
      "outputs": [],
      "source": [
        "ag3 = malariagen_data.Ag3()\n",
        "ag3"
      ]
    },
    {
      "cell_type": "markdown",
      "id": "924b164f-afb1-427c-a603-29e9e4367cb5",
      "metadata": {
        "id": "924b164f-afb1-427c-a603-29e9e4367cb5",
        "tags": []
      },
      "source": [
        "Above we can see some information about how access to *Anopheles gambiae* genomic data from MalariaGEN has been configured. This tells us where the data are stored (the \"gs\" stands for Google Cloud Storage), which data releases are available to analyse (Ag3.0) and what the default analyses are for cohorts, species and site filters. We can also see that we are using version 3.0.0 of the `malariagen_data` Python package."
      ]
    },
    {
      "cell_type": "markdown",
      "id": "47658aba-7df2-4327-a4ca-d72066d278d7",
      "metadata": {
        "id": "47658aba-7df2-4327-a4ca-d72066d278d7"
      },
      "source": [
        "## Summarising copy number variation by gene\n",
        "\n",
        "For surveillance analyses, it can be convenient to summarise the copy number data for each individual by gene. This allows us to ask questions like, for some metabolic resistance gene of interest, does a given mosquito have any copy number variation at that gene?\n",
        "\n",
        "We've seen in the previous module how the copy number variation data is calculated in 300 base pair windows over the genome, but in general genes are larger than 300 base pairs and so will span multiple windows. So how do we summarise the windowed copy number data by gene?\n",
        "\n",
        "One way to do this is to compute some kind of average over all the windows overlapping a given gene of interest. Because copy number state is a discrete variable, we typically prefer to do this by computing the modal copy number for windows overlapping a gene.\n",
        "\n",
        "The diagram below shows the windowed copy number for a single mosquito for the region of the genome spanning several metabolic resistance genes. We illustrate how the summarisation is done to compute modal copy number by gene."
      ]
    },
    {
      "cell_type": "code",
      "execution_count": null,
      "id": "cac7874b-25a1-4f04-b1b4-cf909378bbd4",
      "metadata": {
        "tags": [
          "remove-input"
        ],
        "id": "cac7874b-25a1-4f04-b1b4-cf909378bbd4"
      },
      "outputs": [],
      "source": [
        "%%html\n",
        "<img width=\"80%\" height=\"80%\"src=\"https://storage.googleapis.com/vo_agam_release/reference/training-images/workshop-2/W2M4-1new.PNG\"/>"
      ]
    },
    {
      "cell_type": "markdown",
      "id": "907dd0ee-92ba-41c4-849a-725d18465542",
      "metadata": {
        "id": "907dd0ee-92ba-41c4-849a-725d18465542"
      },
      "source": [
        "## Computing gene CNV frequencies\n",
        "\n",
        "Now that we know how to summarise the data by gene, the next step is to then summarise these data over multiple individual mosquitoes, so that we can estimate the fraction of mosquitoes from a given time, place and species that carry some form of copy number variation at a given gene of interest. This is ultimately what we are interested in, because we would like to know if metabolic resistance is at low or high frequency and whether this varies over time or between geographical locations or species.\n",
        "\n",
        "Because copy number variation is more complex than single nucleotide polymorphism, we compute the frequency of CNVs in a simplified way. We compute the fraction of individuals that carry some kind of copy number variation at a given gene, ignoring whether the individual was heterozygous or homozygous for that CNV, and also ignoring the number of additional copies that may be present. We also divide this into two types of CNV - amplification and deletion. So, for example, we compute the fraction of individuals which have an amplification at some gene; and similarly we compute the fraction with some deletion. Although generally we're more interested in amplification, because amplification of metabolic resistance genes can cause increased insecticide resistance.\n",
        "\n",
        "The diagram below illustrates this simple calculation of amplification and deletion frequencies for some genes of interest."
      ]
    },
    {
      "cell_type": "code",
      "execution_count": null,
      "id": "89e74e0b-99fa-4ac1-9254-ee859252b3b5",
      "metadata": {
        "id": "89e74e0b-99fa-4ac1-9254-ee859252b3b5",
        "tags": [
          "remove-input"
        ]
      },
      "outputs": [],
      "source": [
        "%%html\n",
        "<img width=\"81%\" height=\"81%\"src=\"https://storage.googleapis.com/vo_agam_release/reference/training-images/workshop-2/W2M4-2new.PNG\"/>"
      ]
    },
    {
      "cell_type": "markdown",
      "id": "0cb529a5-195f-4573-b194-06b1c478a5bb",
      "metadata": {
        "id": "0cb529a5-195f-4573-b194-06b1c478a5bb"
      },
      "source": [
        "Let's now compute gene CNV frequencies. To do this we can use the [`gene_cnv_frequencies()`](https://malariagen.github.io/vector-data/ag3/api.html#gene-cnv-frequencies) function.\n",
        "\n",
        "We can look at the documentation for this function by using \"?\"."
      ]
    },
    {
      "cell_type": "code",
      "execution_count": null,
      "id": "a8d7373f-767b-47b7-8487-18bf6eccfadc",
      "metadata": {
        "tags": [
          "remove-output"
        ],
        "id": "a8d7373f-767b-47b7-8487-18bf6eccfadc"
      },
      "outputs": [],
      "source": [
        "ag3.gene_cnv_frequencies?"
      ]
    },
    {
      "cell_type": "markdown",
      "id": "e81c0026-32d9-43b8-9b22-30470e71ca7e",
      "metadata": {
        "id": "e81c0026-32d9-43b8-9b22-30470e71ca7e"
      },
      "source": [
        "The documentation shows us that there are two required parameters for this function. The `region` parameter is the genomic region that we want to analyse, and the `cohorts` parameter determines how samples are to be grouped into cohorts.\n",
        "\n",
        "Let's initially analyse all genes in the *Cyp6aa/p* cluster on chromosome arm 2R, which starts around position 28,450,000 and ends at around position 28,510,000."
      ]
    },
    {
      "cell_type": "code",
      "execution_count": null,
      "id": "c47332f4-ca8a-4db2-9ceb-f92359a24772",
      "metadata": {
        "id": "c47332f4-ca8a-4db2-9ceb-f92359a24772"
      },
      "outputs": [],
      "source": [
        "cyp6aap_region = \"2R:28,480,000-28,510,000\""
      ]
    },
    {
      "cell_type": "markdown",
      "id": "2db26dca-a0f1-4c5b-bb3d-ae36c9214fda",
      "metadata": {
        "id": "2db26dca-a0f1-4c5b-bb3d-ae36c9214fda"
      },
      "source": [
        "There are different ways to group our mosquitoes in to cohorts (more on this later) but for this analysis we'll group spatially by level 1 administrative divisions within countries, and temporally by year."
      ]
    },
    {
      "cell_type": "code",
      "execution_count": null,
      "id": "1718197b-177c-4bef-870c-5def3afb920c",
      "metadata": {
        "id": "1718197b-177c-4bef-870c-5def3afb920c"
      },
      "outputs": [],
      "source": [
        "cohorts = \"admin1_year\""
      ]
    },
    {
      "cell_type": "markdown",
      "id": "342e8f28-32a9-4eb5-98e6-e2405cf06797",
      "metadata": {
        "id": "342e8f28-32a9-4eb5-98e6-e2405cf06797"
      },
      "source": [
        "Were also going to use one of the optional parameters, `sample_sets`, to analyse just a subset the data.\n",
        "\n",
        "Let's have a look at what sample sets are available in the Ag3.0 data resource."
      ]
    },
    {
      "cell_type": "code",
      "execution_count": null,
      "id": "a2be89f6-f8bd-488e-8e95-d2322c07cabf",
      "metadata": {
        "id": "a2be89f6-f8bd-488e-8e95-d2322c07cabf"
      },
      "outputs": [],
      "source": [
        "ag3.sample_sets()"
      ]
    },
    {
      "cell_type": "markdown",
      "id": "81700cb5-07b8-4e93-8822-1cb9bdac9e54",
      "metadata": {
        "id": "81700cb5-07b8-4e93-8822-1cb9bdac9e54"
      },
      "source": [
        "To keep things simple, for this module we'll focus on mosquitoes from Burkina Faso. There are three sample sets in the Ag3.0 resource providing data on mosquitoes from Burkina Faso."
      ]
    },
    {
      "cell_type": "code",
      "execution_count": null,
      "id": "30b3f46e-aad5-4562-9c29-081b9f8a74e6",
      "metadata": {
        "id": "30b3f46e-aad5-4562-9c29-081b9f8a74e6"
      },
      "outputs": [],
      "source": [
        "sample_sets = [\"AG1000G-BF-A\", \"AG1000G-BF-B\", \"AG1000G-BF-C\"]"
      ]
    },
    {
      "cell_type": "markdown",
      "id": "eeb4ca2f-ebac-4160-a92e-953a0242a018",
      "metadata": {
        "id": "eeb4ca2f-ebac-4160-a92e-953a0242a018"
      },
      "source": [
        "Now we're ready to run the analysis."
      ]
    },
    {
      "cell_type": "code",
      "execution_count": null,
      "id": "55a49d5a-50f2-4388-bcee-4c0df65810b2",
      "metadata": {
        "id": "55a49d5a-50f2-4388-bcee-4c0df65810b2"
      },
      "outputs": [],
      "source": [
        "burkina_cyp6aap_cnv_freqs_df = ag3.gene_cnv_frequencies(\n",
        "    region=cyp6aap_region,\n",
        "    cohorts=cohorts,\n",
        "    sample_sets=sample_sets,\n",
        "    drop_invariant=False,\n",
        ")\n",
        "burkina_cyp6aap_cnv_freqs_df"
      ]
    },
    {
      "cell_type": "markdown",
      "id": "56870489-7158-40c2-87e3-fb27df2b6830",
      "metadata": {
        "id": "56870489-7158-40c2-87e3-fb27df2b6830"
      },
      "source": [
        "The function outputs a pandas DataFrame, where rows represent gene CNVs. There are two rows for each gene, one representing an amplification (\"amp\" - increase in copy number), the other representing a deletion (\"del\" - decrease in copy number). There are 11 annotated genes on the chromosome arms we selected, so there are 2 times 11 = 22 rows in this dataframe."
      ]
    },
    {
      "cell_type": "code",
      "execution_count": null,
      "id": "cd2e19fa-d35a-4ebe-84c0-8bcc9cda54c8",
      "metadata": {
        "id": "cd2e19fa-d35a-4ebe-84c0-8bcc9cda54c8"
      },
      "outputs": [],
      "source": [
        "len(burkina_cyp6aap_cnv_freqs_df)"
      ]
    },
    {
      "cell_type": "markdown",
      "id": "2d9f72dc-789e-4f5c-bf0c-57a46da1b5f9",
      "metadata": {
        "id": "2d9f72dc-789e-4f5c-bf0c-57a46da1b5f9"
      },
      "source": [
        "Let's look at the columns that provide information about the genes."
      ]
    },
    {
      "cell_type": "code",
      "execution_count": null,
      "id": "ce99b5f2-ea6b-4952-99e7-a1b44089bcf7",
      "metadata": {
        "id": "ce99b5f2-ea6b-4952-99e7-a1b44089bcf7"
      },
      "outputs": [],
      "source": [
        "burkina_cyp6aap_cnv_freqs_df[[\"gene_strand\", \"gene_description\", \"contig\", \"start\", \"end\"]]"
      ]
    },
    {
      "cell_type": "markdown",
      "id": "782e9fd7-8a97-4350-8ad0-06b421a18947",
      "metadata": {
        "id": "782e9fd7-8a97-4350-8ad0-06b421a18947",
        "tags": []
      },
      "source": [
        "## Reminder - cohorts\n",
        "\n",
        "When we want to analyse frequencies we first define cohorts, which are simply groups of mosquitoes that we have data for and which we take as representatives of a mosquito population from a given time, place and species.\n",
        "\n",
        "To define these cohorts we group mosquitoes according to these different variables, i.e., geographically, temporally and according to species (taxon). There are different options for doing this, depending on how fine-grained we want our analysis to be, and how many samples are available.\n",
        "\n",
        "When computing frequencies and choosing cohorts, we need to think about two factors:\n",
        "\n",
        "* **Cohort size** - The larger the cohort the lower the uncertainty and the more confident we can be that the frequency we calculate within the cohort is representative of the frequency in the population from which the cohort was sampled. By default, the functions that compute frequencies in the `malariagen_data` package require a minimum cohort size of 10 individuals.\n",
        "\n",
        "* **Heterogeneity** - If we group samples together from a wide geographical area, or from a long time period, we may be losing information about any smaller-scale variation.\n",
        "\n",
        "Often we have to make a compromise, and do the best we can with available data.\n",
        "\n",
        "In the example above, we provided the `cohorts=\"admin1_year\"` parameter, which means that samples will be grouped by species (taxon), administrative level 1 divisions, and year of collection. This gives us frequencies for five cohorts. Let's look at the cohort frequency columns.\n"
      ]
    },
    {
      "cell_type": "code",
      "execution_count": null,
      "id": "d233e331-09b7-40ce-8172-284792d38e6b",
      "metadata": {
        "id": "d233e331-09b7-40ce-8172-284792d38e6b"
      },
      "outputs": [],
      "source": [
        "frequency_columns = [\n",
        "    col for col in burkina_cyp6aap_cnv_freqs_df.columns\n",
        "    if col.startswith(\"frq_\")\n",
        "]\n",
        "frequency_columns"
      ]
    },
    {
      "cell_type": "markdown",
      "id": "b63aa331-8a99-4c1b-9f26-80a9457bdfd3",
      "metadata": {
        "id": "b63aa331-8a99-4c1b-9f26-80a9457bdfd3"
      },
      "source": [
        "Remember, e.g., \"frq_BF-09_gamb_2012\" means the frequency of the allele within the cohort of *Anopheles gambiae* mosquitoes from the BF-09 (Haut-Bassins) region collected in 2012.\n",
        "\n",
        "Let's look at the values of these frequency columns in our DataFrame."
      ]
    },
    {
      "cell_type": "code",
      "execution_count": null,
      "id": "3f450927-8c87-4133-81e2-032045fb7064",
      "metadata": {
        "id": "3f450927-8c87-4133-81e2-032045fb7064"
      },
      "outputs": [],
      "source": [
        "burkina_cyp6aap_cnv_freqs_df[frequency_columns + [\"max_af\", \"windows\"]]"
      ]
    },
    {
      "cell_type": "markdown",
      "id": "474b631e-143e-414d-9402-5727cf71ec04",
      "metadata": {
        "id": "474b631e-143e-414d-9402-5727cf71ec04"
      },
      "source": [
        "Remember frequency values range between 0 and 1. 0 means no individuals have the variant. 1 means all individuals have the variant. 0.5 means 50% of individuals have the variant.\n",
        "\n",
        "\n",
        "The `max_af` column simply shows the highest frequency found in the cohorts and is useful for filtering the output down to just CNVs at appreciable frequency in at least one cohort, and the `windows` columns shows how many 300 bp windows the frequency is calculated over."
      ]
    },
    {
      "cell_type": "markdown",
      "id": "21b1943b-049f-4e63-b49c-46b3f7446627",
      "metadata": {
        "id": "21b1943b-049f-4e63-b49c-46b3f7446627",
        "tags": []
      },
      "source": [
        "## Plotting frequency heatmaps\n",
        "\n",
        "Just like we could with SNP allele frequencies, we can also make gene cnv frequency DataFrames easier to interpret by plotting them as a heat map.\n",
        "\n",
        "Let's also filter our DataFrame by `max_af` to just CNVs present in at least one cohort over 5%, using a pandas query."
      ]
    },
    {
      "cell_type": "code",
      "execution_count": null,
      "id": "f839f3f5-dfed-42f9-8b14-5848992f1a3d",
      "metadata": {
        "id": "f839f3f5-dfed-42f9-8b14-5848992f1a3d"
      },
      "outputs": [],
      "source": [
        "ag3.plot_frequencies_heatmap(\n",
        "    burkina_cyp6aap_cnv_freqs_df.query(\"max_af > 0.05\"),\n",
        "    title=\"Gene CNV frequencies, Burkina Faso, Cyp6aa/p locus\"\n",
        ")"
      ]
    },
    {
      "cell_type": "markdown",
      "id": "55c82ef5-f1dc-42d1-85c4-dfe5a252c726",
      "metadata": {
        "id": "55c82ef5-f1dc-42d1-85c4-dfe5a252c726"
      },
      "source": [
        "We can see clearly now that amplifications appear to be at high frequency within *An. coluzzii* but not *An. gambiae* cohorts, and the amplifications appear to be highest for the *Cyp6aa1* gene."
      ]
    },
    {
      "cell_type": "markdown",
      "id": "cc1818e8-e953-41ca-940b-ff58ac81a2e9",
      "metadata": {
        "id": "cc1818e8-e953-41ca-940b-ff58ac81a2e9"
      },
      "source": [
        "**Exercise 1 (English)**\n",
        "\n",
        "Recall that there are several other cytochrome P450 (*Cyp*) genes and gene clusters associated with insecticide resistance in the genome, so let's make a new region query to look at some other *Cyp* genes of interest and visualise them as heatmaps.\n",
        "\n",
        "First, have a look at the *Cyp9k1* gene on the X chromosome (15,240,000-15,250,000).\n",
        "\n",
        "Hint: `cyp9k1_region = \"X:15,240,000-15,250,000\"`\n",
        "\n",
        "**Exercice 1 (Français)**\n",
        "\n",
        "Il y a d'autres gènes cytochrome P450 (Cyp) et groupes de gènes associés à la réistance aux insecticides dans le génome, utilisons donc une autre requête pour obtenir une région contenant d'autres gènes *Cyp* et les visualiser sous forme de heatmap.\n",
        "\n",
        "D'abord, regardons le gène *Cyp9k1* sur le chromosome X (15,240,000-15,250,000).\n",
        "\n",
        "Indice: `cyp9k1_region = \"X:15,240,000-15,250,000\"`\n"
      ]
    },
    {
      "cell_type": "code",
      "execution_count": null,
      "id": "17e63e18-9f7d-44c6-8d3d-31ab27d64600",
      "metadata": {
        "id": "17e63e18-9f7d-44c6-8d3d-31ab27d64600"
      },
      "outputs": [],
      "source": [
        "# cyp9k1_region = ???\n",
        "\n",
        "# burkina_cyp9k1_cnv_freqs_df = ag3.gene_cnv_frequencies(\n",
        "#     region=cyp9k1_region,\n",
        "#     cohorts=\"admin1_year\",\n",
        "#     sample_sets=[\"AG1000G-BF-A\", \"AG1000G-BF-B\", \"AG1000G-BF-C\"],\n",
        "# )\n",
        "\n",
        "# ag3.plot_frequencies_heatmap(\n",
        "#     burkina_cyp9k1_cnv_freqs_df.query(\"max_af > 0.05\"),\n",
        "# )"
      ]
    },
    {
      "cell_type": "markdown",
      "id": "43a68b7d-d71b-4a9a-95a9-decaf1e87c28",
      "metadata": {
        "id": "43a68b7d-d71b-4a9a-95a9-decaf1e87c28"
      },
      "source": [
        "**Exercise 2 (English)**\n",
        "\n",
        "Next, try the *Cyp6mz* region.\n",
        "\n",
        "Hint: `cyp6mz_region = \"3R:6,924,000-6,980,000\"`\n",
        "\n",
        "**Exercice 2 (Français)**\n",
        "\n",
        "Essayons ensuite la région de *Cyp6mz*.\n",
        "\n",
        "Indice: `cyp6mz_region = \"3R:6,924,000-6,980,000\"`"
      ]
    },
    {
      "cell_type": "code",
      "execution_count": null,
      "id": "92e8570e-184e-40f0-80ac-02876284fb96",
      "metadata": {
        "id": "92e8570e-184e-40f0-80ac-02876284fb96"
      },
      "outputs": [],
      "source": [
        "# cyp6mz_region = ???\n",
        "\n",
        "# burkina_cyp6mz_cnv_freqs_df = ag3.gene_cnv_frequencies(\n",
        "#     region=cyp6mz_region,\n",
        "#     cohorts=\"admin1_year\",\n",
        "#     sample_sets=[\"AG1000G-BF-A\", \"AG1000G-BF-B\", \"AG1000G-BF-C\"],\n",
        "# )\n",
        "\n",
        "# ag3.plot_frequencies_heatmap(\n",
        "#     burkina_cyp6mz_cnv_freqs_df.query(\"max_af > 0.05\"),\n",
        "# )"
      ]
    },
    {
      "cell_type": "markdown",
      "id": "82739751-5a5c-4d05-8a0c-c59de82b3d69",
      "metadata": {
        "id": "82739751-5a5c-4d05-8a0c-c59de82b3d69"
      },
      "source": [
        "**Exercise 3 (English)**\n",
        "\n",
        "Let's also have a look at the *Gste* gene cluster on chromosome arm 3R.  What patterns can you see?\n",
        "\n",
        "Hint: `gste_region = \"3R:28,590,000-28,610,000\"`\n",
        "\n",
        "**Exercice 3 (Français)**\n",
        "\n",
        "Regardons aussi le groupe de gènes *Gste* sur le bras de chromosome 3R. Quel motif observez-vous?\n",
        "\n",
        "Indice: `gste_region = \"3R:28,590,000-28,610,000\"`\n"
      ]
    },
    {
      "cell_type": "code",
      "execution_count": null,
      "id": "60edbd58-3947-4af2-ad3e-0fbe61005a9f",
      "metadata": {
        "id": "60edbd58-3947-4af2-ad3e-0fbe61005a9f"
      },
      "outputs": [],
      "source": [
        "# gste_region = ???\n",
        "\n",
        "# burkina_gste_cnv_freqs_df = ag3.gene_cnv_frequencies(\n",
        "#     region=???,\n",
        "#     cohorts=\"admin1_year\",\n",
        "#     sample_sets=[\"AG1000G-BF-A\", \"AG1000G-BF-B\", \"AG1000G-BF-C\"],\n",
        "# )\n",
        "\n",
        "# ag3.plot_frequencies_heatmap(\n",
        "#     burkina_gste_cnv_freqs_df.query(\"max_af > 0.05\"),\n",
        "# )"
      ]
    },
    {
      "cell_type": "markdown",
      "id": "0c461f62-232f-43f7-bb90-4b03bb9339c6",
      "metadata": {
        "id": "0c461f62-232f-43f7-bb90-4b03bb9339c6"
      },
      "source": [
        "## Using sample queries\n",
        "\n",
        "Sometimes you may want to analyse data across many sample sets, but select only samples from a single country or species. The useful `sample_query` parameter enables us to achieve this easily.\n",
        "\n",
        "For example, if we wanted to analyse the *Cyp6aa/p* gene cluster in all of the Ag3.0 sample sets, but only look at *Anopheles coluzzii* samples in those sample sets, then we would set the `sample_sets` parameter to \"3.0\"..."
      ]
    },
    {
      "cell_type": "code",
      "execution_count": null,
      "id": "5407586c-fdd2-45bb-90e3-6eebd344abe6",
      "metadata": {
        "id": "5407586c-fdd2-45bb-90e3-6eebd344abe6"
      },
      "outputs": [],
      "source": [
        "sample_sets = \"3.0\""
      ]
    },
    {
      "cell_type": "markdown",
      "id": "67734fed-501f-4303-8378-0d0802438ff1",
      "metadata": {
        "id": "67734fed-501f-4303-8378-0d0802438ff1"
      },
      "source": [
        "... and pass a pandas query string to `sample_query`."
      ]
    },
    {
      "cell_type": "code",
      "execution_count": null,
      "id": "bfdad019-f349-4146-ae86-66c624aee89a",
      "metadata": {
        "id": "bfdad019-f349-4146-ae86-66c624aee89a"
      },
      "outputs": [],
      "source": [
        "sample_query = \"taxon == 'coluzzii'\""
      ]
    },
    {
      "cell_type": "code",
      "execution_count": null,
      "id": "7e577c50-be21-4dc2-8564-9dd0ac6d7f19",
      "metadata": {
        "id": "7e577c50-be21-4dc2-8564-9dd0ac6d7f19"
      },
      "outputs": [],
      "source": [
        "coluzzii_cyp6aap_cnv_freqs_df = ag3.gene_cnv_frequencies(\n",
        "    region=cyp6aap_region,\n",
        "    cohorts=cohorts,\n",
        "    sample_sets=sample_sets,\n",
        "    sample_query=sample_query,\n",
        ")\n",
        "coluzzii_cyp6aap_cnv_freqs_df"
      ]
    },
    {
      "cell_type": "markdown",
      "id": "f3955c5f-dbdf-4dbc-b1cc-cd301de8d40b",
      "metadata": {
        "id": "f3955c5f-dbdf-4dbc-b1cc-cd301de8d40b"
      },
      "source": [
        "We can see that our query string has worked by listing the cohort frequency (\"frq\") columns in our output DataFrame. Note that the taxon is \"colu\" in each cohort."
      ]
    },
    {
      "cell_type": "code",
      "execution_count": null,
      "id": "f2fa1258-616f-4b37-903e-9375adc89db7",
      "metadata": {
        "id": "f2fa1258-616f-4b37-903e-9375adc89db7"
      },
      "outputs": [],
      "source": [
        "colu_frequency_columns = [\n",
        "    col for col in coluzzii_cyp6aap_cnv_freqs_df.columns\n",
        "    if col.startswith(\"frq_\")\n",
        "]\n",
        "\n",
        "colu_frequency_columns"
      ]
    },
    {
      "cell_type": "markdown",
      "id": "536838c8-0914-4047-a87e-27af74c1663c",
      "metadata": {
        "id": "536838c8-0914-4047-a87e-27af74c1663c"
      },
      "source": [
        "Now we can visualise data for a locus of interest from this output using a heatmap, just as we did before."
      ]
    },
    {
      "cell_type": "code",
      "execution_count": null,
      "id": "7e97bd70-e311-476e-9ae8-b3823bb289dc",
      "metadata": {
        "id": "7e97bd70-e311-476e-9ae8-b3823bb289dc"
      },
      "outputs": [],
      "source": [
        "ag3.plot_frequencies_heatmap(\n",
        "    coluzzii_cyp6aap_cnv_freqs_df.query(\"max_af > 0.05\"),\n",
        "    title=\"Gene CNV frequencies, An. coluzzii, Cyp6aa/p locus\"\n",
        ")"
      ]
    },
    {
      "cell_type": "markdown",
      "id": "84ba04d7-aeb7-425b-8403-6a5fd4edb2c4",
      "metadata": {
        "id": "84ba04d7-aeb7-425b-8403-6a5fd4edb2c4"
      },
      "source": [
        "We can see CNV frequencies appear to differ between geographical locations drastically. For example, Cote D'Ivoire has the highest frequencies across the most genes in the cluster (\"CI-LG_colu_2012\"), but the collection from the same year in neighbouring Ghana (\"GH-AA_colu_2012\") has no evidence for CNVs at this locus."
      ]
    },
    {
      "cell_type": "markdown",
      "id": "a9a59881-9c8a-4c89-aa7c-65d793b3a400",
      "metadata": {
        "id": "a9a59881-9c8a-4c89-aa7c-65d793b3a400"
      },
      "source": [
        "**Exercise 4 (English)**\n",
        "\n",
        "Look at the same *Cypaa/p* locus, but this time at only *An. gambiae*.  What patterns can you see in the results?\n",
        "\n",
        "Hint: change `sample_query` taxon to \"gambiae\".\n",
        "\n",
        "**Exercice 4 (Français)**\n",
        "\n",
        "Observer le même locus *Cypaa/p*, mais cette fois seulement pour *An. gambiae*. Quels motifs pouvez-vous observer dans ces résultats?\n",
        "\n",
        "Indice: remplacer le taxon dans `sample_query` par \"gambiae\"."
      ]
    },
    {
      "cell_type": "code",
      "execution_count": null,
      "id": "6b7cc20c-ebe0-45eb-b996-c7b37d99ec12",
      "metadata": {
        "id": "6b7cc20c-ebe0-45eb-b996-c7b37d99ec12"
      },
      "outputs": [],
      "source": [
        "# sample_query = ???\n",
        "\n",
        "# gambiae_cyp6aap_cnv_freqs_df = ag3.gene_cnv_frequencies(\n",
        "#     region=cyp6aap_region,\n",
        "#     cohorts=cohorts,\n",
        "#     sample_sets=sample_sets,\n",
        "#     sample_query=sample_query,\n",
        "# )\n",
        "\n",
        "# ag3.plot_frequencies_heatmap(\n",
        "#     gambiae_cyp6aap_cnv_freqs_df.query(\"max_af > 0.05\"),\n",
        "#     title=\"Gene CNV frequencies, An. gambiae, Cyp6aa/p locus\"\n",
        "# )"
      ]
    },
    {
      "cell_type": "markdown",
      "id": "e6dc6088-89b8-4b56-bad2-029f5a8479f4",
      "metadata": {
        "id": "e6dc6088-89b8-4b56-bad2-029f5a8479f4",
        "tags": []
      },
      "source": [
        "## Plotting frequency time series\n",
        "\n",
        "For surveillance it can be very informative to observe changes in CNV frequencies over time for a given sampling location and species. CNVs under selection due to insecticide resistance will increase in frequency over time, and plotting the frequency data as a time series can help to see this. The `malariagen_data` package includes a function [`plot_frequencies_time_series()`](https://malariagen.github.io/vector-data/ag3/api.html#plot-frequencies-time-series) for plotting frequency time series. These are a little more advanced to use, but we'll illustrate them below.\n",
        "\n",
        "*N.B.*, in the Ag3.0 data resource there is only one country where we have data from multiple time points, which is Burkina Faso. However, data in future releases will contain a number of time series, and so it's useful to illustrate this functionality now.\n",
        "\n",
        "First we need to compute the gene CNV frequencies. To obtain the necessary data for time series plotting, we need to use a slightly different function for computing the frequencies - [`gene_cnv_frequencies_advanced()`](https://malariagen.github.io/vector-data/ag3/api.html#gene-cnv-frequencies-advanced)."
      ]
    },
    {
      "cell_type": "code",
      "execution_count": null,
      "id": "3afcf714-789f-4005-afc7-83f7a71b6d9e",
      "metadata": {
        "tags": [
          "remove-output"
        ],
        "id": "3afcf714-789f-4005-afc7-83f7a71b6d9e"
      },
      "outputs": [],
      "source": [
        "ag3.gene_cnv_frequencies_advanced?"
      ]
    },
    {
      "cell_type": "markdown",
      "id": "d77b02f4-f0a1-41eb-9713-a7d13e431f79",
      "metadata": {
        "id": "d77b02f4-f0a1-41eb-9713-a7d13e431f79"
      },
      "source": [
        "We can see alongside `region` there are a couple of new required parameters for this function.\n",
        "\n",
        "The `area_by` parameter determines how to group samples in space - we're going to use \"admin1_iso\" here, which uses the ISO codes for level 1 administrative divisions. (Another option would be \"admin2_name\" to group by level 2 administrative divisions.)\n",
        "\n",
        "The `period_by` parameter determines how to group samples in time, let's do this by \"year\".\n",
        "\n",
        "So let's look at the *Cyp6aa/p* locus, again using just samples from Burkina Faso."
      ]
    },
    {
      "cell_type": "code",
      "execution_count": null,
      "id": "3917be81-695c-4887-948d-9a292a178460",
      "metadata": {
        "id": "3917be81-695c-4887-948d-9a292a178460"
      },
      "outputs": [],
      "source": [
        "burkina_cyp6aap_cnv_ds = ag3.gene_cnv_frequencies_advanced(\n",
        "    region=cyp6aap_region,\n",
        "    area_by=\"admin1_iso\",\n",
        "    period_by=\"year\",\n",
        "    sample_sets=\"3.0\",\n",
        "    sample_query=\"country == 'Burkina Faso'\",\n",
        "    variant_query=\"max_af > 0.05\"\n",
        ")\n",
        "burkina_cyp6aap_cnv_ds"
      ]
    },
    {
      "cell_type": "markdown",
      "id": "b77512c4-847b-4142-9c35-38cf7a025d98",
      "metadata": {
        "id": "b77512c4-847b-4142-9c35-38cf7a025d98"
      },
      "source": [
        "Instead of a pandas DataFrame, this function outputs an [xarray Dataset](https://xarray.pydata.org/en/stable/user-guide/data-structures.html#dataset) containing the gene cnv frequencies alongside associated metadata.\n",
        "\n",
        "We will look at xarray in more detail in later workshops, but for now we can just use this Dataset with our time series plotting function."
      ]
    },
    {
      "cell_type": "code",
      "execution_count": null,
      "id": "07672cea-5423-4c4e-9f51-ed7bed7c6fa9",
      "metadata": {
        "id": "07672cea-5423-4c4e-9f51-ed7bed7c6fa9"
      },
      "outputs": [],
      "source": [
        "ag3.plot_frequencies_time_series(\n",
        "    burkina_cyp6aap_cnv_ds,\n",
        "    height=500,\n",
        "    width=800,\n",
        "    title=\"Gene CNV frequencies, Burkina Faso, Cyp6aa/p locus\"\n",
        ")"
      ]
    },
    {
      "cell_type": "markdown",
      "id": "5de7a40c-f7b3-4e6c-924c-87b38390c8b8",
      "metadata": {
        "id": "5de7a40c-f7b3-4e6c-924c-87b38390c8b8"
      },
      "source": [
        "Note that this figure is interactive, you can hover over points for more information, and zoom into regions of plots.\n",
        "\n",
        "In this plot we have data from two Burkina Faso admin 1 regions, BF-09 (Haut-Bassins) and BF-07 (Centre-Sud). In BF-09 we have data from 2012 and 2014, and so we have the beginning of a time series. In BF-07 we have data only from 2004, so just a single point in time.\n",
        "\n",
        "There are 3 sub-plots, faceted by taxon and area to allow for comparison. The error bars in the plots show 95% confidence intervals for the frequency estimates.\n",
        "\n",
        "We only have two times points in this time series, so we cannot draw strong conclusions. However, future sample sets will contain more time series data."
      ]
    },
    {
      "cell_type": "markdown",
      "id": "5eb23446-0bc6-48ce-a3fa-458ab2c547db",
      "metadata": {
        "id": "5eb23446-0bc6-48ce-a3fa-458ab2c547db",
        "tags": []
      },
      "source": [
        "**Exercise 5 (English)**\n",
        "\n",
        "Plot a CNV frequency time-series for *Gste*.\n",
        "\n",
        "Hint: `gste_region = \"3R:28,590,000-28,610,000\"`\n",
        "\n",
        "**Exercice 5 (Français)**\n",
        "\n",
        "Afficher la série temporelle des CNVs pour *Gste*.\n",
        "\n",
        "Indice: `gste_region = \"3R:28,590,000-28,610,000\"`"
      ]
    },
    {
      "cell_type": "code",
      "execution_count": null,
      "id": "e585a598-bb34-4905-8ffa-a87998f8e5aa",
      "metadata": {
        "id": "e585a598-bb34-4905-8ffa-a87998f8e5aa"
      },
      "outputs": [],
      "source": [
        "#  ??? = ???\n",
        "\n",
        "#  burkina_gste_cnv_ds = ag3.gene_cnv_frequencies_advanced(\n",
        "#     region=???,\n",
        "#     area_by=\"admin1_iso\",\n",
        "#     period_by=\"year\",\n",
        "#     sample_sets=\"3.0\",\n",
        "#     sample_query=\"country == 'Burkina Faso'\",\n",
        "#     variant_query=\"max_af > 0.05\"\n",
        "# )\n",
        "\n",
        "# ag3.plot_frequencies_time_series(\n",
        "#     burkina_gste_cnv_ds,\n",
        "#     height=500,\n",
        "#     width=800,\n",
        "#     title=\"Gene CNV frequencies, Burkina Faso, gste locus\"\n",
        "# )"
      ]
    },
    {
      "cell_type": "markdown",
      "id": "f662c120-4fee-4d3b-883a-50a166d3ccfe",
      "metadata": {
        "id": "f662c120-4fee-4d3b-883a-50a166d3ccfe",
        "tags": []
      },
      "source": [
        "## Plotting frequencies using interactive maps\n",
        "\n",
        "It is often useful, when making geographical comparisons, to plot gene CNV frequencies on a map. We can do this via the [`plot_frequencies_interactive_map()`](https://malariagen.github.io/vector-data/ag3/api.html#plot-frequencies-interactive-map) function in the `malariagen_data` package. Let's demonstrate, analysing the *Cyp6aa/p* gene cluster  using all data in the Ag3.0 resource.\n",
        "\n",
        "As with the time series plots, we first calculate our gene CNV frequencies using the [`gene_cnv_frequencies_advanced()`](https://malariagen.github.io/vector-data/ag3/api.html#gene-cnv-frequencies-advanced) function as this provides additional metadata that we need for plotting data on a map. We will keep all our parameters the same as the time series analysis above, except that this time we will not use a sample query, because we want to include all available samples in the analysis."
      ]
    },
    {
      "cell_type": "code",
      "execution_count": null,
      "id": "5d59ad36-7a59-4352-89fd-a58ed40cee5c",
      "metadata": {
        "id": "5d59ad36-7a59-4352-89fd-a58ed40cee5c"
      },
      "outputs": [],
      "source": [
        "cyp6aap_cnv_ds = ag3.gene_cnv_frequencies_advanced(\n",
        "    region=cyp6aap_region,\n",
        "    area_by=\"admin1_iso\",  # group samples in space by admin level 1\n",
        "    period_by=\"year\",  # group samples in time by year\n",
        "    sample_sets=\"3.0\",\n",
        "    variant_query=\"max_af > 0.05\"\n",
        ")\n",
        "cyp6aap_cnv_ds"
      ]
    },
    {
      "cell_type": "markdown",
      "id": "de40a630-aef0-4e43-8c17-79fb478c89bb",
      "metadata": {
        "id": "de40a630-aef0-4e43-8c17-79fb478c89bb"
      },
      "source": [
        "Then we can pass the xarray Dataset to the interactive map plotting funtion."
      ]
    },
    {
      "cell_type": "code",
      "execution_count": null,
      "id": "9ec77855-594b-4f4e-af64-e3c816841f25",
      "metadata": {
        "id": "9ec77855-594b-4f4e-af64-e3c816841f25"
      },
      "outputs": [],
      "source": [
        "ag3.plot_frequencies_interactive_map(\n",
        "    cyp6aap_cnv_ds,\n",
        "    title=\"Gene CNV frequencies, Cyp6aa/p locus\"\n",
        ")"
      ]
    },
    {
      "cell_type": "markdown",
      "id": "a0c90cc2-c2fc-4e95-8a12-9fd7b2276f20",
      "metadata": {
        "id": "a0c90cc2-c2fc-4e95-8a12-9fd7b2276f20"
      },
      "source": [
        "The drop down menus allow selection of variant, taxon and time period. Gene cnv frequencies are then plotted on the map where samples were collected. The opacity of the marker shows relative frequency, but actual values can be accessed by clicking on the marker."
      ]
    },
    {
      "cell_type": "markdown",
      "id": "0e792f1c-550d-43a9-a34e-f98a428fb7e4",
      "metadata": {
        "id": "0e792f1c-550d-43a9-a34e-f98a428fb7e4",
        "tags": []
      },
      "source": [
        "**Exercise 6 (English)**\n",
        "\n",
        "Using the interactive map we have just created - what is the frequency of *Cyp6aa1* amplifications in *An. gambiae* from Uganda area UG-E in 2012?\n",
        "\n",
        "What is the frequency of *Cyp6p3* amplifications in *An. coluzzii* from Cote D'Ivoire area CI-LG in 2012?\n",
        "\n",
        "**Exercice 6 (Français)**\n",
        "\n",
        "En utilisant la carte interactive que nous venons de créer, quelle est la fréquence de l'amplification de *Cyp6aa1* chez les *An. gambiae* venant de la région de l'Ouganda UG-E en 2012?\n",
        "\n",
        "Quelle est la fréquence de l'amplification de *Cyp6p3* chez les *An. coluzzii* venant de la région CI-LG de la Côte D'Ivoire en 2012?"
      ]
    },
    {
      "cell_type": "markdown",
      "id": "c88299bb-92b9-4b15-9ca9-7fd84c118f60",
      "metadata": {
        "id": "c88299bb-92b9-4b15-9ca9-7fd84c118f60",
        "tags": []
      },
      "source": [
        "## Well done!\n",
        "\n",
        "In this module we have learnt how to analyse CNVs in genes that are associated with metabolic insecticide resistance in the *Anopheles gambiae* complex.\n",
        "\n",
        "We have computed the frequency of copy number variation in genes of interest, and learnt different ways to compare these frequencies between mosquitoes from different time points, geographical locations and species."
      ]
    },
    {
      "cell_type": "markdown",
      "id": "c390d19f-044e-4388-b777-c2747d638d83",
      "metadata": {
        "id": "c390d19f-044e-4388-b777-c2747d638d83"
      },
      "source": [
        "## Exercises\n",
        "\n",
        "### English\n",
        "\n",
        "Open this notebook in Google Colab and run it for yourself from top to bottom. As you run through the notebook, cell by cell, think about what each cell is doing, and try the practical exercises along the way.\n",
        "\n",
        "Have go at the practical exercises, but please don't worry if you don't have time to do them all during the practical session, and please ask the teaching assistants for help if you are stuck.\n",
        "\n",
        "Hint: To open the notebook in Google Colab, click the rocket icon at the top of the page, then select “Colab” from the drop-down menu.\n",
        "\n",
        "### Français\n",
        "\n",
        "Ouvrir ce notebook dans Google Colab et l'exécuter vous-même du début à la fin. Pendant que vous exécutez le notebook, cellule par cellule, pensez à ce que chaque cellule fait et essayez de faire les exercices quand vous les rencontrez.\n",
        "\n",
        "Essayez de faire les exercices mais ne vous inquiétez pas si vous n'avez pas le temps de tout faire pendant la séance appliquée et n'hésitez pas à demander aux enseignants assistants si vous avez besoin d'aide parce que vous êtes bloqués.\n",
        "\n",
        "Indice: Pour ouvrir le notebook dans Google Colab, cliquer sur l'icône de fusée au sommet de cette page puis choisissez \"Colab\" dans le menu déroulant."
      ]
    },
    {
      "cell_type": "code",
      "execution_count": null,
      "id": "fb35866f-232d-4007-a4cf-72690c27176d",
      "metadata": {
        "id": "fb35866f-232d-4007-a4cf-72690c27176d"
      },
      "outputs": [],
      "source": []
    }
  ],
  "metadata": {
    "celltoolbar": "Tags",
    "kernelspec": {
      "display_name": "Python 3 (ipykernel)",
      "language": "python",
      "name": "python3"
    },
    "language_info": {
      "codemirror_mode": {
        "name": "ipython",
        "version": 3
      },
      "file_extension": ".py",
      "mimetype": "text/x-python",
      "name": "python",
      "nbconvert_exporter": "python",
      "pygments_lexer": "ipython3",
      "version": "3.10.11"
    },
    "colab": {
      "provenance": []
    }
  },
  "nbformat": 4,
  "nbformat_minor": 5
}