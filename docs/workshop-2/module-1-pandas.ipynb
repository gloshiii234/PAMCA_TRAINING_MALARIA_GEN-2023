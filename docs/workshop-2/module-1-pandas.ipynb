{
  "cells": [
    {
      "cell_type": "markdown",
      "metadata": {
        "id": "F81ULGNjWK8h"
      },
      "source": [
        "![banner](https://github.com/anopheles-genomic-surveillance/anopheles-genomic-surveillance.github.io/blob/master/docs/banner.jpg?raw=1)\n",
        "\n",
        "***[Workshop 2](about) - Training course in data analysis for genomic surveillance of African malaria vectors***\n",
        "\n",
        "---"
      ]
    },
    {
      "cell_type": "markdown",
      "metadata": {
        "id": "Tf-et1y3WP32"
      },
      "source": [
        "# Module 1 - Introduction to pandas DataFrames\n",
        "\n",
        "**Theme: Tools & Technology**\n",
        "\n",
        "In this module we're going to take a closer look at a Python package called [pandas](https://pandas.pydata.org/), which is an essential part of our data analysis toolkit. We use pandas whenever we need to store, manipulate or analyse tables of data, also known as DataFrames. In this module we'll focus on using pandas to analyse genomic data, but it can be used to analyse any kind of data, so it's a very useful tool to have at your fingertips."
      ]
    },
    {
      "cell_type": "markdown",
      "metadata": {
        "id": "vcfJXBpaYus5"
      },
      "source": [
        "## Learning objectives\n",
        "\n",
        "After this module you will be able to:\n",
        "\n",
        "* Explain what a DataFrame is\n",
        "* Access columns and rows from a DataFrame\n",
        "* Use indexes and queries\n",
        "* Write a DataFrame to a file\n",
        "\n",
        "Please note that this module will cover only a small part of the features that pandas provides - see the links at then end of this notebook if you'd like to go further."
      ]
    },
    {
      "cell_type": "markdown",
      "metadata": {
        "id": "aqlVkzFj1vXQ"
      },
      "source": [
        "## Lecture"
      ]
    },
    {
      "cell_type": "markdown",
      "metadata": {
        "id": "vIC2mFI71vXS"
      },
      "source": [
        "### English"
      ]
    },
    {
      "cell_type": "code",
      "execution_count": null,
      "metadata": {
        "tags": [
          "remove-input"
        ],
        "id": "EoR2aNSK1vXT"
      },
      "outputs": [],
      "source": [
        "%%html\n",
        "<iframe width=\"560\" height=\"315\" src=\"https://www.youtube.com/embed/iIYftkvS0eM\" title=\"YouTube video player\" frameborder=\"0\" allow=\"accelerometer; autoplay; clipboard-write; encrypted-media; gyroscope; picture-in-picture\" allowfullscreen></iframe>"
      ]
    },
    {
      "cell_type": "markdown",
      "metadata": {
        "id": "HhjB0SVP1vXU"
      },
      "source": [
        "### Français"
      ]
    },
    {
      "cell_type": "code",
      "execution_count": null,
      "metadata": {
        "scrolled": true,
        "tags": [
          "remove-input"
        ],
        "id": "DQ7Q2d-G1vXU"
      },
      "outputs": [],
      "source": [
        "%%html\n",
        "<iframe width=\"560\" height=\"315\" src=\"https://www.youtube.com/embed/RdyXA31iHz8\" title=\"YouTube video player\" frameborder=\"0\" allow=\"accelerometer; autoplay; clipboard-write; encrypted-media; gyroscope; picture-in-picture\" allowfullscreen></iframe>\n"
      ]
    },
    {
      "cell_type": "markdown",
      "metadata": {
        "id": "SQ3TOCp_1vXW"
      },
      "source": [
        "Please note that the code in the cells below might differ from that shown in the video. This can happen because Python packages and their dependencies change due to updates, necessitating tweaks to the code."
      ]
    },
    {
      "cell_type": "markdown",
      "metadata": {
        "id": "8U12DTaMZTWE"
      },
      "source": [
        "## Setup\n",
        "\n",
        "Let's install the `malariagen_data` package so we have easy access to some genomic data to demonstrate with. Pandas is already installed on colab."
      ]
    },
    {
      "cell_type": "code",
      "execution_count": null,
      "metadata": {
        "id": "K8Y2IBOSZiYQ",
        "tags": [
          "remove-output"
        ]
      },
      "outputs": [],
      "source": [
        "!pip install -q --no-warn-conflicts malariagen_data"
      ]
    },
    {
      "cell_type": "markdown",
      "metadata": {
        "id": "Oi_DmBZXZkz9"
      },
      "source": [
        "Now import the `malariagen_data` and `pandas` packages. Note that by convention we use `pd` as an abbreviation for `pandas`."
      ]
    },
    {
      "cell_type": "code",
      "execution_count": null,
      "metadata": {
        "id": "EojVhHt6Z7a8"
      },
      "outputs": [],
      "source": [
        "import malariagen_data\n",
        "import pandas as pd"
      ]
    },
    {
      "cell_type": "markdown",
      "metadata": {
        "id": "y_y_FnfTZ9Xj"
      },
      "source": [
        "Set up access to the MalariaGEN Ag3.0 data resource."
      ]
    },
    {
      "cell_type": "code",
      "execution_count": null,
      "metadata": {
        "id": "XEaZOit_aJgT"
      },
      "outputs": [],
      "source": [
        "ag3 = malariagen_data.Ag3()\n",
        "ag3"
      ]
    },
    {
      "cell_type": "markdown",
      "metadata": {
        "id": "e9wRtZLlaLTr"
      },
      "source": [
        "## pandas DataFrames\n",
        "\n",
        "We use the pandas `DataFrame` class whenever we want to store and analyse data that can be structured as a table with rows and columns. Let's take a look at some examples of DataFrames that we met in the [first workshop](https://anopheles-genomic-surveillance.github.io/workshop-1/about.html) of this training course."
      ]
    },
    {
      "cell_type": "markdown",
      "metadata": {
        "id": "bhgLbyf0anqY"
      },
      "source": [
        "### Example: sample metadata\n",
        "\n",
        "In [workshop 1, module 2](https://anopheles-genomic-surveillance.github.io/workshop-1/module-2-sample-metadata.html) we encountered the [sample_metadata()](https://malariagen.github.io/vector-data/ag3/api.html#sample-metadata) function. This function returns a DataFrame of sample metadata. Let's call this function and assign the result to the variable `df_samples`."
      ]
    },
    {
      "cell_type": "code",
      "execution_count": null,
      "metadata": {
        "id": "mAWSZ6htbD8L"
      },
      "outputs": [],
      "source": [
        "df_samples = ag3.sample_metadata(sample_sets=\"3.0\")"
      ]
    },
    {
      "cell_type": "markdown",
      "metadata": {
        "id": "MSHG6MePboMf"
      },
      "source": [
        "Check what type of object we have received."
      ]
    },
    {
      "cell_type": "code",
      "execution_count": null,
      "metadata": {
        "id": "1TlAAuZubsbL"
      },
      "outputs": [],
      "source": [
        "type(df_samples)"
      ]
    },
    {
      "cell_type": "markdown",
      "metadata": {
        "id": "HTtb8kTcbwCm"
      },
      "source": [
        "Inspect the data in the DataFrame by running a code cell containing just the name of the variable."
      ]
    },
    {
      "cell_type": "code",
      "execution_count": null,
      "metadata": {
        "id": "aLmcvRG2b7Gj"
      },
      "outputs": [],
      "source": [
        "df_samples"
      ]
    },
    {
      "cell_type": "markdown",
      "metadata": {
        "id": "pW1PU4SXbIXn"
      },
      "source": [
        "There are 3,081 rows and 26 columns in this DataFrame. Each row provides data about a single mosquito DNA sample that has been sequenced by MalariaGEN. The columns provide data about those mosquitoes, such as the country and year in which the mosquito was originally collected.\n",
        "\n",
        "Note that the representation of the DataFrame above only shows some of the data - there are too many rows and columns to show all at once. The ellipsis character (\"...\") shows where some data have been hidden."
      ]
    },
    {
      "cell_type": "markdown",
      "metadata": {
        "id": "RoHiFEbycbvp"
      },
      "source": [
        "### Example: genome annotations\n",
        "\n",
        "In [workshop 1, module 3](https://anopheles-genomic-surveillance.github.io/workshop-1/module-3-genome.html) we encountered the [geneset()](https://malariagen.github.io/vector-data/ag3/api.html#geneset) function. This function returns a DataFrame of genome annotations. Let's call the function and assign the result to the variable `df_geneset`."
      ]
    },
    {
      "cell_type": "code",
      "execution_count": null,
      "metadata": {
        "id": "qL_ruddQfnsR"
      },
      "outputs": [],
      "source": [
        "df_geneset = ag3.geneset()\n",
        "df_geneset"
      ]
    },
    {
      "cell_type": "markdown",
      "metadata": {
        "id": "iUhgSwjOfrTm"
      },
      "source": [
        "There are 196,145 rows and 12 columns in this DataFrame. Each row provides data about an annotated feature on the *Anopheles gambiae* AgamP4 reference genome, such as a gene. The columns provide data about those features, such as the contig (chromosome arm) on which the feature occurs, and the start and end coordinates."
      ]
    },
    {
      "cell_type": "markdown",
      "metadata": {
        "id": "0CN4toaqgJYy"
      },
      "source": [
        "### Example: SNP allele frequencies\n",
        "\n",
        "In [workshop 1, module 4](https://anopheles-genomic-surveillance.github.io/workshop-1/module-4-vgsc-snps.html), we encountered the [snp_allele_frequencies()](https://malariagen.github.io/vector-data/ag3/api.html#snp-allele-frequencies) function. This function returns a DataFrame of single nucleotide polymorphisms (SNPs) together with their allele frequencies in different mosquito cohorts. Let's call this function and assign the result to the variable `snp_freqs_df`."
      ]
    },
    {
      "cell_type": "code",
      "execution_count": null,
      "metadata": {
        "id": "9AkogecDggxf"
      },
      "outputs": [],
      "source": [
        "snp_freqs_df = ag3.snp_allele_frequencies(\n",
        "    transcript=\"AGAP004707-RD\",\n",
        "    cohorts=\"admin1_year\",\n",
        "    sample_sets=[\"AG1000G-BF-A\", \"AG1000G-BF-B\", \"AG1000G-BF-C\"],\n",
        ")\n",
        "snp_freqs_df"
      ]
    },
    {
      "cell_type": "markdown",
      "metadata": {
        "id": "9fLTcL1gg3dO"
      },
      "source": [
        "There are 9,675 rows and 18 columns in this DataFrame. Each row provides data about a SNP. The columns provide data about those SNPs, such as their effect, and the alternate allele frequency in a particular cohort of mosquitoes, e.g., the column named \"frq_BF-09_colu_2012\" provides the frequency in *Anopheles coluzzii* mosquitoes collected in the BF-09 (Hauts-Bassins) administrative region of Burkina Faso in 2012."
      ]
    },
    {
      "cell_type": "markdown",
      "metadata": {
        "id": "_wOS0MqhglCn"
      },
      "source": [
        "### Aside: variable naming styles\n",
        "\n",
        "You may have noticed that in the examples above, whenever we assigned a DataFrame to a variable, the name of the variable either started with the prefix \"`df_`\" or ended with the suffix \"`_df`\". Here \"df\" stands for DataFrame, and is used just as a helpful reminder that the value of the variable is a pandas DataFrame. Using a prefix of suffix on the variable name like this is entirely optional and is up to your own coding style. You can name these variables whatever you like. Different instructors in this course prefer different styles, and you will see different styles being used in different modules."
      ]
    },
    {
      "cell_type": "markdown",
      "metadata": {
        "id": "dsd17UfSiDkJ"
      },
      "source": [
        "### Example: reading from a CSV file\n",
        "\n",
        "You can also create a pandas DataFrame by reading data from a file, such as a comma-separated value (CSV) file, or an Excel workbook file. Let's use the pandas [read_csv()](https://pandas.pydata.org/docs/reference/api/pandas.read_csv.html) function to read data from a CSV file containing data from a US census that colab provides as example data for you to play with."
      ]
    },
    {
      "cell_type": "code",
      "execution_count": null,
      "metadata": {
        "id": "UWbulj8Rih5a"
      },
      "outputs": [],
      "source": [
        "df_housing = pd.read_csv(\"sample_data/california_housing_train.csv\")\n",
        "df_housing"
      ]
    },
    {
      "cell_type": "markdown",
      "metadata": {
        "id": "NXpzrmFJiirP"
      },
      "source": [
        "This DataFrame has 17,000 rows and 9 columns. Each row provides data about a block of housing. The columns provide data about the houses within a block, such as the total number of bedrooms and the number of households.\n",
        "\n",
        "Note that you can upload your own files to Colab if you want to read in and analyse some of your own data with pandas."
      ]
    },
    {
      "cell_type": "markdown",
      "metadata": {
        "id": "Iz3pj9lxjWnw"
      },
      "source": [
        "### Example: creating a DataFrame from scratch\n",
        "\n",
        "You can also create a DataFrame by providing the data within your code. To demonstrate this, let's create a DataFrame with data about characters in a famous science fiction book called The Hitchhiker's Guide to the Galaxy."
      ]
    },
    {
      "cell_type": "code",
      "execution_count": null,
      "metadata": {
        "id": "ADpDVj0Rj6O4"
      },
      "outputs": [],
      "source": [
        "df_hitchhikers = pd.DataFrame(data={\n",
        "    \"name\": [\"Arthur Dent\", \"Tricia McMillan\", \"Ford Prefect\", \"Zaphod Beeblebrox\", \"Marvin the Paranoid Android\"],\n",
        "    \"taxon\": [\"human\", \"human\", \"betelgeusian\", \"betelgeusian\", \"robot\"],\n",
        "    \"gender\": [\"male\", \"female\", \"male\", \"male\", None],\n",
        "    \"number_of_heads\": [1, 1, 1, 2, 1],\n",
        "    \"intelligence\": [100, 180, 120, 30, 5_000_000]\n",
        "})\n",
        "df_hitchhikers"
      ]
    },
    {
      "cell_type": "markdown",
      "metadata": {
        "id": "_M6B_PWCj9Ko"
      },
      "source": [
        "This DataFrame has 5 rows and 5 columns. Each row provides data about a fictional character in the book. The columns provide data about each character, such as their name, taxon and number of heads (some alien species can have more than one)."
      ]
    },
    {
      "cell_type": "markdown",
      "metadata": {
        "id": "VH1TCKeZllgW"
      },
      "source": [
        "## Structure of a DataFrame\n",
        "\n",
        "Hopefully this will already be obvious from the examples above, but a [pandas DataFrame](https://pandas.pydata.org/docs/user_guide/dsintro.html#dataframe) is a data structure that is organised into **rows** and **columns**. Each DataFrame also has an **index**, which is a special column (or set of columns) that is shown in bold at the left of a DataFrame, and which we'll look at in more detail later."
      ]
    },
    {
      "cell_type": "code",
      "execution_count": null,
      "metadata": {
        "id": "SnWxiOdNmmiS",
        "tags": []
      },
      "outputs": [],
      "source": [
        "%%html\n",
        "<img width=\"90%\" height=\"90%\"src=\"https://storage.googleapis.com/vo_agam_release/reference/training-images/workshop-2/W2M1-1.PNG\"/>"
      ]
    },
    {
      "cell_type": "markdown",
      "metadata": {
        "id": "ADnREH7M2uvI"
      },
      "source": [
        "## Counting rows and columns\n",
        "\n",
        "If a DataFrame is large, you may find it useful to know how many rows and columns it contains. The representation of a DataFrame shows at the bottom how many rows and columns are present in the DataFrame, but you can also use the built-in `len()` function if you want to access the number of rows or columns in your code."
      ]
    },
    {
      "cell_type": "code",
      "execution_count": null,
      "metadata": {
        "id": "Udn0EKW424i4"
      },
      "outputs": [],
      "source": [
        "num_rows = len(df_hitchhikers)\n",
        "num_rows"
      ]
    },
    {
      "cell_type": "code",
      "execution_count": null,
      "metadata": {
        "id": "7VibMfSL26ih"
      },
      "outputs": [],
      "source": [
        "num_cols = len(df_hitchhikers.columns)\n",
        "num_cols"
      ]
    },
    {
      "cell_type": "markdown",
      "metadata": {
        "id": "C3qZvCOK292x"
      },
      "source": [
        "**Exercise 1 (English)**\n",
        "\n",
        "* Count the number of rows and columns in the `df_samples` DataFrame.\n",
        "\n",
        "**Exercice 1 (Français)**\n",
        "\n",
        "* Compter le nombre de lignes et de colonnes du DataFrame `df_samples`."
      ]
    },
    {
      "cell_type": "markdown",
      "metadata": {
        "id": "9jHvUkXtpjjp"
      },
      "source": [
        "## Accessing columns\n",
        "\n",
        "Often you will have a DataFrame with many columns, and you many only need to work with data from a smaller number of columns, or just a single column. Accessing one or more columns from a DataFrame can be done using the square bracket syntax after the name of a DataFrame variable. Let's see how this works.\n"
      ]
    },
    {
      "cell_type": "markdown",
      "metadata": {
        "id": "SqXl9_4vxCMC"
      },
      "source": [
        "### Accessing column names\n",
        "\n",
        "First, let's access the names of all the columns in a DataFrame, to see what columns are available. You can do this by accessing the `columns` property of a DataFrame. For simplicity, let's also convert the result to a Python list, using the built-in `list()` function."
      ]
    },
    {
      "cell_type": "code",
      "execution_count": null,
      "metadata": {
        "id": "U9ngNlI5wxSf"
      },
      "outputs": [],
      "source": [
        "col_names = list(df_hitchhikers.columns)\n",
        "col_names"
      ]
    },
    {
      "cell_type": "markdown",
      "metadata": {
        "id": "HfxPbsPLxKfY"
      },
      "source": [
        "This can be useful especially if you have a lot of columns in a DataFrame."
      ]
    },
    {
      "cell_type": "markdown",
      "metadata": {
        "id": "G1yQn9rQyFS1"
      },
      "source": [
        "**Exercise 2 (English)**\n",
        "\n",
        "* Access the column names of the `df_samples` DataFrame.\n",
        "\n",
        "**Exercice 2 (Français)**\n",
        "\n",
        "* Afficher les noms des colonnes du DataFrame `df_samples`."
      ]
    },
    {
      "cell_type": "markdown",
      "metadata": {
        "id": "QGsTJZAjplEJ"
      },
      "source": [
        "### Accessing a single column\n",
        "\n",
        "To access a single column, give the column name as a string inside square brackets. Let's access the \"name\" column from the DataFrame of book characters, and assign the result to a new variable `character_name`."
      ]
    },
    {
      "cell_type": "code",
      "execution_count": null,
      "metadata": {
        "id": "76Nu7kQmsSAx"
      },
      "outputs": [],
      "source": [
        "character_name = df_hitchhikers[\"name\"]"
      ]
    },
    {
      "cell_type": "markdown",
      "metadata": {
        "id": "wntWvW5pslFg"
      },
      "source": [
        "When you access a single column or row from a DataFrame, pandas returns a [Series](https://pandas.pydata.org/docs/user_guide/dsintro.html#series) object to you. Pandas uses the Series class to hold data either from a single column or a single row, i.e., a one-dimensional sequence of data values."
      ]
    },
    {
      "cell_type": "code",
      "execution_count": null,
      "metadata": {
        "id": "EkRQdkOHs2iJ"
      },
      "outputs": [],
      "source": [
        "type(character_name)"
      ]
    },
    {
      "cell_type": "markdown",
      "metadata": {
        "id": "y6rIlYVVs4Kg"
      },
      "source": [
        "We can also inspect the data in the column."
      ]
    },
    {
      "cell_type": "code",
      "execution_count": null,
      "metadata": {
        "id": "s9r8WXwds7T5"
      },
      "outputs": [],
      "source": [
        "character_name"
      ]
    },
    {
      "cell_type": "markdown",
      "metadata": {
        "id": "Lk0SIeittnUs"
      },
      "source": [
        "### Investigating data in a column\n",
        "\n",
        "The pandas Series class has some useful functions for investigating the data in a DataFrame.\n",
        "\n",
        "E.g., let's access the \"taxon\" column and use the `value_counts()` functions to get a summary of the categorical data in the column."
      ]
    },
    {
      "cell_type": "code",
      "execution_count": null,
      "metadata": {
        "id": "qYB5R5wut186"
      },
      "outputs": [],
      "source": [
        "character_taxon = df_hitchhikers[\"taxon\"]\n",
        "character_taxon.value_counts()"
      ]
    },
    {
      "cell_type": "markdown",
      "metadata": {
        "id": "Itmhf4-muFta"
      },
      "source": [
        "The pandas Series class also has a `describe()` function which can be useful for investigating numerical data. Let's use it with the `number_of_heads` column."
      ]
    },
    {
      "cell_type": "code",
      "execution_count": null,
      "metadata": {
        "id": "6M483UnBuM5u"
      },
      "outputs": [],
      "source": [
        "character_heads = df_hitchhikers[\"number_of_heads\"]\n",
        "character_heads.describe()"
      ]
    },
    {
      "cell_type": "markdown",
      "metadata": {
        "id": "CSb2BzFMvOdW"
      },
      "source": [
        "The characters in our DataFrame have at least (min) 1 and at most (max) 2 heads. The mean number of heads is 1.2, but of course this a bit silly, because number of heads is not a continuous variable."
      ]
    },
    {
      "cell_type": "markdown",
      "metadata": {
        "id": "R5oYGx1FyxmN"
      },
      "source": [
        "**Exercise 3 (English)**\n",
        "\n",
        "* Access the \"country\" column from the `df_samples` DataFrame, and then use the `value_counts()` function to show the number of mosquito samples from each country.\n",
        "\n",
        "* Access the \"type\" column from the `df_geneset` DataFrame, and then use the `value_counts()` function to show the number of genome annotations of different types.\n",
        "\n",
        "* Access the \"effect\" column from the `snp_freqs_df` DataFrame, and then use the `value_counts()` function to show the number of SNPs with different effects.\n",
        "\n",
        "**Exercice 3 (Français)**\n",
        "\n",
        "* Obtenir la colonne \"country\" du DataFrame `df_samples` et utiliser la fonction `value_counts()` pour afficher le nombre de moustiques capturés dans chaque pays.\n",
        "\n",
        "* Obtenir la colonne \"type\" du DataFrame `df_geneset` et utiliser la fonction `value_counts()` pour afficher le nombre d'annotations du génome de chaque type.\n",
        "\n",
        "* Obtenir la colonne \"effect\" du DataFrame `snp_freqs_df` et utiliser la fonction `value_counts()` pour afficher le nombre de SNPs pour chaque effet possible."
      ]
    },
    {
      "cell_type": "markdown",
      "metadata": {
        "id": "uirMvaSAs8WN"
      },
      "source": [
        "### Accessing multiple columns\n",
        "\n",
        "To access multiple columns, provide the column names as a list of strings. Let's access the \"name\", \"taxon\" and \"number_of_heads\" columns from the DataFrame of book characters, and assign the resulting DataFrame to a new variable `df_hh`."
      ]
    },
    {
      "cell_type": "code",
      "execution_count": null,
      "metadata": {
        "id": "vhyLPKestFAl"
      },
      "outputs": [],
      "source": [
        "selected_cols = [\"name\", \"taxon\", \"number_of_heads\"]\n",
        "df_hh = df_hitchhikers[selected_cols]\n",
        "df_hh"
      ]
    },
    {
      "cell_type": "markdown",
      "metadata": {
        "id": "Ls3ZW84Txynz"
      },
      "source": [
        "You can also put the list of columns directly inside the square brackets, which would give the same result."
      ]
    },
    {
      "cell_type": "code",
      "execution_count": null,
      "metadata": {
        "id": "pSZ0AcDjwToZ"
      },
      "outputs": [],
      "source": [
        "df_hh = df_hitchhikers[[\"name\", \"taxon\", \"number_of_heads\"]]\n",
        "df_hh"
      ]
    },
    {
      "cell_type": "markdown",
      "metadata": {
        "id": "rf5z1-pN0RK6"
      },
      "source": [
        "**Exercise 4 (English)**\n",
        "\n",
        "* Create a new DataFrame containing only the \"sample_id\", \"country\" and \"year\" columns from the `df_samples` DataFrame.\n",
        "* Create a new DataFrame containing only the \"ID\", \"contig\", \"start\" and \"end\" columns from the `df_geneset` DataFrame.\n",
        "* Create a new DataFrame containing only the frequency columns from the `snp_freqs_df` DataFrame (hint: the names of these columns all begin with \"frq_\").\n",
        "\n",
        "**Exercice 4 (Français)**\n",
        "\n",
        "* Créer un nouveau DataFrame contenant seulement les colonnes \"sample_id\", \"country\" et \"year\" du DataFrame `df_samples`.\n",
        "\n",
        "* Créer un nouveau DataFrame contenant seulement les colonnes \"ID\", \"contig\", \"start\" et \"end\" du DataFrame `df_geneset`.\n",
        "\n",
        "* Créer un nouveau DataFrame contenant seulement les colonnes contenant les fréquences du DataFrame `snp_freqs_df` (Indice: les noms de ces colonnes commencent tous par \"frq_\")."
      ]
    },
    {
      "cell_type": "markdown",
      "metadata": {
        "id": "2yPSfEA8t-eO"
      },
      "source": [
        "## Accessing rows\n",
        "\n",
        "Now we've seen how to access columns, let's see how to access rows. To access rows by their position within a DataFrame, we can use the `iloc` property.\n",
        "\n"
      ]
    },
    {
      "cell_type": "markdown",
      "metadata": {
        "id": "VDyo26aZvj6W"
      },
      "source": [
        "### Accessing a single row\n",
        "\n",
        "To access a single row, we use the `iloc` property, then provide the row number as an integer inside square brackets, remembering that numbering starts from 0 in Python. For example, access the first row of our DataFrame of book characters, and assign the result to a variable `first_row`."
      ]
    },
    {
      "cell_type": "code",
      "execution_count": null,
      "metadata": {
        "id": "ouCva7AMuy9r"
      },
      "outputs": [],
      "source": [
        "first_row = df_hitchhikers.iloc[0]"
      ]
    },
    {
      "cell_type": "markdown",
      "metadata": {
        "id": "CgAe2p-bu24X"
      },
      "source": [
        "When accessing a single row, pandas returns a Series."
      ]
    },
    {
      "cell_type": "code",
      "execution_count": null,
      "metadata": {
        "id": "brqH5awiu-CV"
      },
      "outputs": [],
      "source": [
        "type(first_row)"
      ]
    },
    {
      "cell_type": "markdown",
      "metadata": {
        "id": "ZrEnZFthu-17"
      },
      "source": [
        "Inspect the data in the row."
      ]
    },
    {
      "cell_type": "code",
      "execution_count": null,
      "metadata": {
        "id": "-xYECrFPvAz1"
      },
      "outputs": [],
      "source": [
        "first_row"
      ]
    },
    {
      "cell_type": "markdown",
      "metadata": {
        "id": "2ye0BNa2vBeH"
      },
      "source": [
        "Access specific data values within the row."
      ]
    },
    {
      "cell_type": "code",
      "execution_count": null,
      "metadata": {
        "id": "LU8unspMvQjL"
      },
      "outputs": [],
      "source": [
        "first_row[\"name\"]"
      ]
    },
    {
      "cell_type": "code",
      "execution_count": null,
      "metadata": {
        "id": "GhPIE1uMvRc2"
      },
      "outputs": [],
      "source": [
        "first_row[\"number_of_heads\"]"
      ]
    },
    {
      "cell_type": "markdown",
      "metadata": {
        "id": "xmh7SFESwdlY"
      },
      "source": [
        "**Exercise 5 (English)**\n",
        "\n",
        "* Access the 81st row in the `df_samples` DataFrame. What country did this mosquito sample come from? (Remember: numbering starts from 0 in Python.)\n",
        "\n",
        "* Access the 73,287th row in the `df_geneset` DataFrame. What type of annotation is this? What is its Name?\n",
        "\n",
        "**Exercice 5 (Français)**\n",
        "\n",
        "* Obtenir la 81ème ligne du DataFrame `df_samples`. De quel pays est issu ce moustique? (Indice: les indices commencent à 0 en Python)\n",
        "\n",
        "* Obtenir la 73 287ème ligne du DataFrame `df_geneset`. De quel type d'annotation s'agit-il? Quel est son nom?"
      ]
    },
    {
      "cell_type": "markdown",
      "metadata": {
        "id": "bQHt4MX_vTdE"
      },
      "source": [
        "### Accessing multiple rows\n",
        "\n",
        "We can also use `iloc` to access multiple rows,from some start position to some end position. To do this we provide two integers separated by a colon (\":\") which is called a slice.\n",
        "\n",
        "As well as remembering that numbering starts from zero, we also have to remember that slices include the start position but do not include the stop position. E.g., to access the first two rows, provide the start and stop positions 0 and 2. This returns a new DataFrame with just the selected rows within the slice."
      ]
    },
    {
      "cell_type": "code",
      "execution_count": null,
      "metadata": {
        "id": "efZuA4KIwJU7"
      },
      "outputs": [],
      "source": [
        "first_two_rows = df_hitchhikers.iloc[0:2]\n",
        "first_two_rows"
      ]
    },
    {
      "cell_type": "markdown",
      "metadata": {
        "id": "4VdkWfTowQKS"
      },
      "source": [
        "**Exercise 6 (English)**\n",
        "\n",
        "* Access rows starting from the 6th row up to and including the 10th row in the `df_samples` DataFrame.\n",
        "\n",
        "**Exercice 6 (Français)**\n",
        "\n",
        "* Obtenir toutes les lignes entre la 6ème et la 10ème (incluses) du DataFrame `df_samples`."
      ]
    },
    {
      "cell_type": "markdown",
      "metadata": {
        "id": "ue-L-N5DzUEB"
      },
      "source": [
        "## Indexes\n",
        "\n",
        "Every pandas DataFrame has an index, which is a special column (or set of columns) which can be used to access rows quickly and conveniently. In particular, indexes can be used to assign a label to every row, and then use that label to locate and access matching rows.\n",
        "\n",
        "For example, when working with our DataFrame of book characters, we might want to access rows using the name of the character. To do this, we can set the \"name\" column as the index."
      ]
    },
    {
      "cell_type": "code",
      "execution_count": null,
      "metadata": {
        "id": "y3RWIwGE1Erf"
      },
      "outputs": [],
      "source": [
        "df_hitchhikers_indexed = df_hitchhikers.set_index(\"name\")\n",
        "df_hitchhikers_indexed"
      ]
    },
    {
      "cell_type": "markdown",
      "metadata": {
        "id": "pJAt0P-xOHII"
      },
      "source": [
        "The DataFrame `df_hitchhikers_indexed` has the same data as before, but notice that the \"name\" column has moved to the left and is shown in bold. This shows us that the \"name\" column is now being used as the DataFrame index.\n",
        "\n",
        "Now that we've set a useful index, we can use the `loc` property to locate rows with a particular name. E.g., locate the row where the character's name is \"Tricia McMillan\"."
      ]
    },
    {
      "cell_type": "code",
      "execution_count": null,
      "metadata": {
        "id": "O2fJrsU-1Kpq"
      },
      "outputs": [],
      "source": [
        "trillian = df_hitchhikers_indexed.loc[\"Tricia McMillan\"]"
      ]
    },
    {
      "cell_type": "markdown",
      "metadata": {
        "id": "bBr_AodQi_ow"
      },
      "source": [
        "This indexing action locates a single row, and so pandas returns a Series."
      ]
    },
    {
      "cell_type": "code",
      "execution_count": null,
      "metadata": {
        "id": "ygww6pG8PEoF"
      },
      "outputs": [],
      "source": [
        "type(trillian)"
      ]
    },
    {
      "cell_type": "markdown",
      "metadata": {
        "id": "RDeAhvMEjHz3"
      },
      "source": [
        "Inspect the row of data we located."
      ]
    },
    {
      "cell_type": "code",
      "execution_count": null,
      "metadata": {
        "id": "CevCnVvsPFZl"
      },
      "outputs": [],
      "source": [
        "trillian"
      ]
    },
    {
      "cell_type": "markdown",
      "metadata": {
        "id": "6LJy_TBIPV65"
      },
      "source": [
        "It's also useful to know that you can always reset the index back to the default, using the `reset_index()` function. The default is to index the DataFrame with integers."
      ]
    },
    {
      "cell_type": "code",
      "execution_count": null,
      "metadata": {
        "id": "cX7a4HCJ1SBR"
      },
      "outputs": [],
      "source": [
        "df_hitchhikers_reset = df_hitchhikers_indexed.reset_index()\n",
        "df_hitchhikers_reset"
      ]
    },
    {
      "cell_type": "markdown",
      "metadata": {
        "id": "lA_7Pq0731xR"
      },
      "source": [
        "**Exercise 7 (English)**\n",
        "\n",
        "* Set the \"sample_id\" column as the index on the `df_samples` DataFrame, then locate the row with sample identifier \"BK0055-C\". Where was this mosquito collected?\n",
        "* Set the \"ID\" column as the index on the `df_geneset` DataFrame, then locate the row with identifier \"AGAP000818\". What is the name of this gene?\n",
        "\n",
        "**Exercice 7 (Français)**\n",
        "\n",
        "* Faire de la colonne \"sample_id\" l'index du DataFrame `df_samples` et ensuite trouver la ligne avec comme identificant d'échantillon \"BK0055-C\". D'où est issu ce moustique?\n",
        "\n",
        "* Faire de la colonne \"ID\" l'index du DataFrame `df_geneset` et ensuite trouver la ligne avec comme identifiant \"AGAP000818\". Quel est le nom de ce gène?\n"
      ]
    },
    {
      "cell_type": "markdown",
      "metadata": {
        "id": "WY34jzl7zQAN"
      },
      "source": [
        "## Queries\n",
        "\n",
        "DataFrames also provide a `query()` function, which can be used to select rows matching some condition or combination of conditions. The `query()` function accepts a string containing a query expression.\n",
        "\n",
        "Let's query the book characters DataFrame to select only rows where the value of the \"taxon\" column is \"human\". To match a value we use the \"==\" operator.\n"
      ]
    },
    {
      "cell_type": "code",
      "execution_count": null,
      "metadata": {
        "id": "tGPztYVS1Znb"
      },
      "outputs": [],
      "source": [
        "df_human_hitchhikers = df_hitchhikers.query(\"taxon == 'human'\")\n",
        "df_human_hitchhikers"
      ]
    },
    {
      "cell_type": "markdown",
      "metadata": {
        "id": "8-Febl1q4y4k"
      },
      "source": [
        "Let's do the opposite, selecting only rows where the value of the \"taxon\" column is not \"human\", using the \"!=\" operator."
      ]
    },
    {
      "cell_type": "code",
      "execution_count": null,
      "metadata": {
        "id": "PIm7z0wQ1qyo"
      },
      "outputs": [],
      "source": [
        "df_non_human_hitchhikers = df_hitchhikers.query(\"taxon != 'human'\")\n",
        "df_non_human_hitchhikers"
      ]
    },
    {
      "cell_type": "markdown",
      "metadata": {
        "id": "ryk08tOV46ro"
      },
      "source": [
        "Let's query a numerical field using the \">\" greater than operator."
      ]
    },
    {
      "cell_type": "code",
      "execution_count": null,
      "metadata": {
        "id": "LfoFiOpL1gGQ"
      },
      "outputs": [],
      "source": [
        "df_multi_headed_hitchhikers = df_hitchhikers.query(\"number_of_heads > 1\")\n",
        "df_multi_headed_hitchhikers"
      ]
    },
    {
      "cell_type": "markdown",
      "metadata": {
        "id": "EoI5yzEE5BNJ"
      },
      "source": [
        "A query expression can combine conditions on multiple columns using \"and\" and \"or\". E.g., find rows where the value of the \"taxon\" column is \"human\" and the value of the \"number_of_heads\" column is 1."
      ]
    },
    {
      "cell_type": "code",
      "execution_count": null,
      "metadata": {
        "id": "8DAz9x_q2rRg"
      },
      "outputs": [],
      "source": [
        "df_non_human_one_headed_hitchhikers = df_hitchhikers.query(\n",
        "    \"taxon != 'human' and number_of_heads == 1\"\n",
        ")\n",
        "df_non_human_one_headed_hitchhikers"
      ]
    },
    {
      "cell_type": "markdown",
      "metadata": {
        "id": "wnmBpoGd35Jk"
      },
      "source": [
        "**Exercise 8 (English)**\n",
        "\n",
        "* Query the `df_samples` DataFrame to select mosquitoes collected in Burkina Faso.\n",
        "* Query the `df_samples` DataFrame to select mosquitoes collected in Burkina Faso in 2014.\n",
        "* Query the `df_samples` DataFrame to select Anopheles coluzzii mosquitoes collected in Burkina Faso in 2014 (hint: `taxon == 'coluzzii'`).\n",
        "* Query the `snp_freqs_df` DataFrame to select SNPs which change the protein sequence (hint: `effect == 'NON_SYNONYMOUS_CODING'`).\n",
        "* Query the `snp_freqs_df` DataFrame to select SNPs which change the protein sequence and which occur above 5% frequency in at least one cohort (hint: `max_af > 0.05`).\n",
        "\n",
        "**Exercice 8 (Français)**\n",
        "\n",
        "* Sélectionner parmi les moustiques du DataFrame `df_samples` ceux qui ont été capturés au Burkina Faso.\n",
        "\n",
        "* Sélectionner parmi les moustiques du DataFrame `df_samples` ceux qui ont été capturés au Burkina Faso en 2014.\n",
        "\n",
        "* Sélectionner parmi les moustiques du DataFrame `df_samples` les Anophèles coluzzii qui ont été capturés au Burkina Faso en 2014. (Indice: `taxon == 'coluzzii'`).\n",
        "\n",
        "* Sélectionner parmi les SNPs du DataFrame `snp_freqs_df` ceux qui modifient la séquence d'une protéine (Indice: `effect == 'NON_SYNONYMOUS_CODING'`).\n",
        "\n",
        "* Sélectionner parmi les SNPs du DataFrame `snp_freqs_df` ceux qui modifient la séquence d'une protéine et apparaissent avec une fréquence supérieure à 5% dans au moins une cohorte (Indice: `max_af > 0.05`).\n"
      ]
    },
    {
      "cell_type": "markdown",
      "metadata": {
        "id": "dgcxkAi6zkS2"
      },
      "source": [
        "## Input/output\n",
        "\n",
        "We saw at the beginning of this module how to read in data from a file. Let's look finally at how to write data out to a file.\n",
        "\n",
        "To write a DataFrame out to a CSV file, use the [to_csv()](https://pandas.pydata.org/docs/reference/api/pandas.DataFrame.to_csv.html) function. E.g., let's write out the book characters DataFrame to a CSV file.\n"
      ]
    },
    {
      "cell_type": "code",
      "execution_count": null,
      "metadata": {
        "id": "oIW1NmB13Joi"
      },
      "outputs": [],
      "source": [
        "df_hitchhikers.to_csv(\"hitchhikers.csv\")"
      ]
    },
    {
      "cell_type": "markdown",
      "metadata": {
        "id": "7STAA1TR6rLK"
      },
      "source": [
        "You can download this file to your local computer by opening the file browser tab to the left in colab.\n",
        "\n",
        "There are several other file formats you can write to. E.g., you could write to an Excel file. Here, we use the"
      ]
    },
    {
      "cell_type": "code",
      "execution_count": null,
      "metadata": {
        "id": "3NFO88Ps3N5u"
      },
      "outputs": [],
      "source": [
        "df_hitchhikers.to_excel(\"hitchhikers.xlsx\")"
      ]
    },
    {
      "cell_type": "markdown",
      "metadata": {
        "id": "gC8w3iMm66UB"
      },
      "source": [
        "Any of the DataFrames we created in this module could be written out in the same way. E.g., we could write a DataFrame that we obtained by querying the book characters for only humans."
      ]
    },
    {
      "cell_type": "code",
      "execution_count": null,
      "metadata": {
        "id": "wpwifsEr3rJh"
      },
      "outputs": [],
      "source": [
        "df_human_hitchhikers.to_excel(\"hh_human.xlsx\")"
      ]
    },
    {
      "cell_type": "markdown",
      "metadata": {
        "id": "m3FE5cIs38W-"
      },
      "source": [
        "**Exercise 9 (English)**\n",
        "\n",
        "* Write the `df_samples` DataFrame out to an Excel file.\n",
        "* Query the `df_samples` DataFrame to select only mosquitoes from Burkina Faso, then write the resulting DataFrame out to a CSV file.\n",
        "\n",
        "**Exercice 9 (Français)**\n",
        "\n",
        "* Enregistrer le DataFrame `df_samples` sous forme de fichier Excel.\n",
        "* Sélectionner parmi les moustiques du DataFrame `df_samples` ceux provenant du Burkina Faso et enregistrer le DataFrame ainsi créé sous forme de fichier CSV."
      ]
    },
    {
      "cell_type": "markdown",
      "metadata": {
        "id": "nmdGxE59zjx2"
      },
      "source": [
        "## Topics not covered here\n",
        "\n",
        "Please note that this module has only covered a few of the many features that pandas supports. Here are a few of the features that we have not covered, but which you might like to learn more about through other online tutorials.\n",
        "\n",
        "* Grouping and aggregation\n",
        "* Pivot tables\n",
        "* Joining and merging\n",
        "* Concatenating\n",
        "* Advanced indexing (multi-level indexes; Boolean indexing; ...)\n",
        "* Modifying data\n",
        "* Apply\n",
        "* Missing data\n",
        "* Time series\n",
        "* Plotting\n",
        "* Text\n",
        "* ...\n"
      ]
    },
    {
      "cell_type": "markdown",
      "metadata": {
        "id": "lX-mI70C0XZ0"
      },
      "source": [
        "## Further reading\n",
        "\n",
        "Here are a few links to online resources providing further information about pandas for new users.\n",
        "\n",
        "* [pandas getting started](https://pandas.pydata.org/pandas-docs/stable/getting_started/index.html)\n",
        "* [pandas user guide](https://pandas.pydata.org/docs/user_guide/index.html) (in particular see [10 minutes to pandas](https://pandas.pydata.org/docs/user_guide/10min.html))\n",
        "* [pandas community tutorials](https://pandas.pydata.org/pandas-docs/stable/getting_started/tutorials.html)"
      ]
    },
    {
      "cell_type": "code",
      "execution_count": null,
      "metadata": {
        "id": "HfcZRmQd1vYM"
      },
      "outputs": [],
      "source": []
    }
  ],
  "metadata": {
    "colab": {
      "name": "Workshop 2 - Module 1 - Introduction to pandas DataFrames - 2022-03-16.ipynb",
      "provenance": []
    },
    "kernelspec": {
      "display_name": "developer-developer-training-nb-maintenance-mgen-7.10.0",
      "language": "python",
      "name": "conda-env-developer-developer-training-nb-maintenance-mgen-7.10.0-py"
    },
    "language_info": {
      "codemirror_mode": {
        "name": "ipython",
        "version": 3
      },
      "file_extension": ".py",
      "mimetype": "text/x-python",
      "name": "python",
      "nbconvert_exporter": "python",
      "pygments_lexer": "ipython3",
      "version": "3.10.11"
    }
  },
  "nbformat": 4,
  "nbformat_minor": 0
}