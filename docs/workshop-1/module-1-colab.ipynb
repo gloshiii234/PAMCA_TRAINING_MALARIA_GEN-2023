{
  "cells": [
    {
      "cell_type": "markdown",
      "metadata": {
        "id": "09zg9pLwb_Mo"
      },
      "source": [
        "![banner](https://github.com/anopheles-genomic-surveillance/anopheles-genomic-surveillance.github.io/blob/master/docs/banner.jpg?raw=1)\n",
        "\n",
        "***[Workshop 1](about) - Training course in data analysis for genomic surveillance of African malaria vectors***\n",
        "\n",
        "---"
      ]
    },
    {
      "cell_type": "markdown",
      "metadata": {
        "id": "QPvqgYQHAfKF"
      },
      "source": [
        "# Module 1 - Interactive cloud computing with Google Colaboratory\n",
        "\n",
        "**Theme: Tools & Technology**\n",
        "\n",
        "This first technology module introduces Google Colaboratory (a.k.a. Colab), an interactive cloud computing service for data analysis, which we will be using for practical exercises throughout the course."
      ]
    },
    {
      "cell_type": "markdown",
      "metadata": {
        "id": "TOnaa1RkDDIB"
      },
      "source": [
        "## Learning objectives\n",
        "\n",
        "After completing this module, you will be able to:\n",
        "\n",
        "* Explain what colab is\n",
        "* Explain what a notebook is\n",
        "* Access Colab and use it to create and run notebooks\n",
        "* Edit notebooks and create code and text cells\n",
        "* Be familiar with some basic coding in Python\n",
        "* Import and install packages\n",
        "* Share Colab notebooks via Google Drive"
      ]
    },
    {
      "cell_type": "markdown",
      "metadata": {
        "id": "-JKyzOkc6xBI"
      },
      "source": [
        "## Lecture"
      ]
    },
    {
      "cell_type": "markdown",
      "metadata": {
        "id": "lVcQYAO56xBJ"
      },
      "source": [
        "### English"
      ]
    },
    {
      "cell_type": "code",
      "execution_count": null,
      "metadata": {
        "id": "PAdLd3lB6xBL",
        "tags": [
          "remove-input"
        ]
      },
      "outputs": [],
      "source": [
        "%%html\n",
        "<iframe width=\"560\" height=\"315\" src=\"https://www.youtube.com/embed/99PEyyJFzZ4\" title=\"YouTube video player\" frameborder=\"0\" allow=\"accelerometer; autoplay; clipboard-write; encrypted-media; gyroscope; picture-in-picture\" allowfullscreen></iframe>"
      ]
    },
    {
      "cell_type": "markdown",
      "metadata": {
        "id": "_DiEDV6K6xBQ"
      },
      "source": [
        "### Français"
      ]
    },
    {
      "cell_type": "code",
      "execution_count": null,
      "metadata": {
        "id": "8s3zGws66xBS",
        "tags": [
          "remove-input"
        ]
      },
      "outputs": [],
      "source": [
        "%%html\n",
        "<iframe width=\"560\" height=\"315\" src=\"https://www.youtube.com/embed/QlgcbjrVUHs\" title=\"YouTube video player\" frameborder=\"0\" allow=\"accelerometer; autoplay; clipboard-write; encrypted-media; gyroscope; picture-in-picture\" allowfullscreen></iframe>"
      ]
    },
    {
      "cell_type": "markdown",
      "metadata": {
        "id": "FFwdnsOSD_hI"
      },
      "source": [
        "## What is Colab?\n",
        "\n",
        "Colab is an interactive cloud computing service provided for free by Google. To access Colab, visit the following address in your Web browser:\n",
        "\n",
        "* [https://colab.research.google.com](https://colab.research.google.com)\n",
        "\n",
        "To access Colab you will need a Google account. If you don't already have one, [create an account](https://accounts.google.com/SignUp) and then log in.\n",
        "\n",
        "Colab allows you to write and execute code using your Web browser. There are two important features of Colab that are very useful for data analysis:\n",
        "\n",
        "* **Interactive notebooks** - You can explore and analyse data one step at a time, by writing small pieces of code, running them, inspecting the results, and then writing further code. \n",
        "* **Cloud computing** - You can get access to computers hosted by Google and use them to run your code, without having to install any software or download any data onto your own computer.  "
      ]
    },
    {
      "cell_type": "markdown",
      "metadata": {
        "id": "JpsZnq9mDsTw"
      },
      "source": [
        "## What is a notebook?\n",
        "\n",
        "A notebook is an interactive, editable document that you can use to:\n",
        "\n",
        "* Write and execute code \n",
        "* Create plots, tables, written text and other types of content\n",
        "\n",
        "A notebook is built up from **cells**. There are two main types of cells in a notebook: **code cells** and **text cells**.\n"
      ]
    },
    {
      "cell_type": "markdown",
      "metadata": {
        "id": "Ge_jS8PZJTEK"
      },
      "source": [
        "## Code cells\n",
        "\n",
        "A code cell contains [Python code](https://www.python.org/). To add a code cell to your notebook, click the **`+ Code`** button at the top of the notebook.\n",
        "\n",
        "Below is an example code cell."
      ]
    },
    {
      "cell_type": "code",
      "execution_count": 1,
      "metadata": {
        "colab": {
          "base_uri": "https://localhost:8080/"
        },
        "id": "sTPWWaGdECK_",
        "outputId": "bdf1499e-20f6-43fd-95c0-7e4835522b8c"
      },
      "outputs": [
        {
          "output_type": "stream",
          "name": "stdout",
          "text": [
            "Hello world!\n"
          ]
        }
      ],
      "source": [
        "print(\"Hello world!\")"
      ]
    },
    {
      "cell_type": "code",
      "source": [
        "print(\"My name is Gloria\"\"\\n\"\"I am happy to be part of the colab environment\")"
      ],
      "metadata": {
        "id": "XW5aymoXS1sy",
        "outputId": "26d22c93-dbd9-4842-d489-af78fa207a86",
        "colab": {
          "base_uri": "https://localhost:8080/"
        }
      },
      "execution_count": 2,
      "outputs": [
        {
          "output_type": "stream",
          "name": "stdout",
          "text": [
            "My name is Gloria\n",
            "I am happy to be part of the colab environment\n"
          ]
        }
      ]
    },
    {
      "cell_type": "markdown",
      "metadata": {
        "id": "2rNDe9sEJia5"
      },
      "source": [
        "### Executing a code cell\n",
        "\n",
        "To execute a code cell, click on the **play icon** next to the cell. You can also type **Shift+Enter**, which will run the cell and move the focus to the next cell."
      ]
    },
    {
      "cell_type": "markdown",
      "metadata": {
        "id": "Q5DwRnvNKvRQ"
      },
      "source": [
        "### Cell output\n",
        "\n",
        "The code cell above uses the built-in `print` function, which prints the string `\"Hello world!\"` as output. If a code cell generates some output when it is run, the output is displayed below the cell.\n",
        "\n",
        "Cells do not always have output. For example, the code cell below declares a variable named `foo` and assigns the integer value `42`, but does not create an output."
      ]
    },
    {
      "cell_type": "code",
      "execution_count": 3,
      "metadata": {
        "id": "rh-0eJ5WKRAo"
      },
      "outputs": [],
      "source": [
        "foo = 42"
      ]
    },
    {
      "cell_type": "code",
      "source": [
        "foo"
      ],
      "metadata": {
        "id": "CgIp83ZXTRi4",
        "outputId": "19d0b094-852c-46f5-da0d-eaf293485867",
        "colab": {
          "base_uri": "https://localhost:8080/"
        }
      },
      "execution_count": 4,
      "outputs": [
        {
          "output_type": "execute_result",
          "data": {
            "text/plain": [
              "42"
            ]
          },
          "metadata": {},
          "execution_count": 4
        }
      ]
    },
    {
      "cell_type": "markdown",
      "metadata": {
        "id": "-mvUD8sYKnly"
      },
      "source": [
        "### Inspecting a variable\n",
        "\n",
        "If you have declared a variable, such as `foo` in the code cell above, and you want to inspect its value, you can do this by writing a code cell where the variable is written on the last line."
      ]
    },
    {
      "cell_type": "code",
      "execution_count": 5,
      "metadata": {
        "colab": {
          "base_uri": "https://localhost:8080/"
        },
        "id": "ClhJT3ZaK8jr",
        "outputId": "3563082b-e333-4dbb-91d3-08280e79983e"
      },
      "outputs": [
        {
          "output_type": "execute_result",
          "data": {
            "text/plain": [
              "42"
            ]
          },
          "metadata": {},
          "execution_count": 5
        }
      ],
      "source": [
        "foo"
      ]
    },
    {
      "cell_type": "markdown",
      "metadata": {
        "id": "85ZduRtCK9ta"
      },
      "source": [
        "Running this code cell will print the value of the variable as the cell output. Let's try modifying this variable, and inspecting it again."
      ]
    },
    {
      "cell_type": "code",
      "execution_count": 6,
      "metadata": {
        "colab": {
          "base_uri": "https://localhost:8080/"
        },
        "id": "3dUmVSxyLGP_",
        "outputId": "9782573d-830d-4af2-d502-79071d34c3d5"
      },
      "outputs": [
        {
          "output_type": "execute_result",
          "data": {
            "text/plain": [
              "43"
            ]
          },
          "metadata": {},
          "execution_count": 6
        }
      ],
      "source": [
        "foo = foo + 1\n",
        "foo"
      ]
    },
    {
      "cell_type": "code",
      "source": [
        "foo = foo + 10\n",
        "foo"
      ],
      "metadata": {
        "id": "Rrojnp53TdfR",
        "outputId": "7ef1a30e-92c7-47e4-fd49-1653aab2c56d",
        "colab": {
          "base_uri": "https://localhost:8080/"
        }
      },
      "execution_count": 11,
      "outputs": [
        {
          "output_type": "execute_result",
          "data": {
            "text/plain": [
              "53"
            ]
          },
          "metadata": {},
          "execution_count": 11
        }
      ]
    },
    {
      "cell_type": "markdown",
      "metadata": {
        "id": "6Z3vIIfLhY3u"
      },
      "source": [
        "It can also sometimes be useful to use the built-in `type()` function inspect what type of object has been assigned to a variable, e.g.:"
      ]
    },
    {
      "cell_type": "code",
      "execution_count": 7,
      "metadata": {
        "colab": {
          "base_uri": "https://localhost:8080/"
        },
        "id": "LramF1Wohebd",
        "outputId": "c65df735-772c-4b8b-d34a-f951e4d8f362"
      },
      "outputs": [
        {
          "output_type": "execute_result",
          "data": {
            "text/plain": [
              "int"
            ]
          },
          "metadata": {},
          "execution_count": 7
        }
      ],
      "source": [
        "type(foo)"
      ]
    },
    {
      "cell_type": "markdown",
      "metadata": {
        "id": "Q3swoV1CLLrT"
      },
      "source": [
        "## Text cells\n",
        "\n",
        "As well as code cells, you can also create text cells, which create text that you write, and can use different types of text formatting such as bold, italic, indented lists, hyperlinks and mathematical equations.\n",
        "\n",
        "To add a text cell to your notebook, click the **`+ Text`** button at the top of the notebook.\n",
        "\n",
        "To edit an existing text cell in a notebook, **double click** on the cell."
      ]
    },
    {
      "cell_type": "markdown",
      "metadata": {
        "id": "pPNPia5xNApP"
      },
      "source": [
        "### Formatting text\n",
        "\n",
        "Text cells can be formatted using a special syntax called **markdown**. \n",
        "\n",
        "Here is a quick summary of some useful markdown syntax for formatting text:\n",
        "\n",
        "Markdown syntax | Preview\n",
        "--- | ---\n",
        "`**bold text**` | **bold text**\n",
        "`*italicized text*` | *italicized text*\n",
        "`` `monospace text` `` | `Monospace`\n",
        "`[A link](https://en.wikipedia.org/wiki/Anopheles_gambiae)` | [A link](https://en.wikipedia.org/wiki/Anopheles_gambiae)"
      ]
    },
    {
      "cell_type": "markdown",
      "source": [
        "This is my first text. Let me edit it\n",
        "**This is my first text in bold**\n",
        "*This is the text again in italics*\n",
        "Adding emojis to my text::::\n",
        "\n",
        "---\n",
        "\n",
        "\n",
        "\n",
        "*   Gloria,Anna\n",
        "*   Mangoes, apples\n",
        "\n"
      ],
      "metadata": {
        "id": "hpyPtD_PULde"
      }
    },
    {
      "cell_type": "markdown",
      "metadata": {
        "id": "ybXp7jCDOt98"
      },
      "source": [
        "\n",
        "### Creating lists\n",
        "\n",
        "Unordered lists can be created by putting each list item on a new line, starting with the `*` character, e.g.:\n",
        "\n",
        "```\n",
        "* A list item\n",
        "* Another list item\n",
        "* Yet another list item\n",
        "```\n",
        "\n",
        "Ordered lists can be created by starting each list item with `1.`, e.g.:\n",
        "\n",
        "```\n",
        "1. First item\n",
        "1. Second item\n",
        "1. Third item\n",
        "```"
      ]
    },
    {
      "cell_type": "markdown",
      "metadata": {
        "id": "szC-JV13OwpH"
      },
      "source": [
        "### Creating section headings\n",
        "\n",
        "To create a section heading within a notebook, begin a line of text with the `#` character. E.g.:\n",
        "\n",
        "```\n",
        "# This is a section heading\n",
        "```\n",
        "\n",
        "To create a sub-section heading, begin a line of text with `##`, E.g.:\n",
        "\n",
        "```\n",
        "## This is a sub-section heading\n",
        "```"
      ]
    },
    {
      "cell_type": "markdown",
      "source": [
        "#FIRST PAMCA WORKSHOP\n",
        "## COLAB"
      ],
      "metadata": {
        "id": "WhrwNGNlU-Oh"
      }
    },
    {
      "cell_type": "markdown",
      "metadata": {
        "id": "yecbLv7WNzvv"
      },
      "source": [
        "### Adding images\n",
        "\n",
        "You can include an image in a notebook, if the image is published on the Web and you know it's address. E.g., the markdown syntax below includes an image of an *Anopheles gambiae* mosquito available from [wikipedia](https://commons.wikimedia.org/wiki/File:AnophelesGambiaemosquito.jpg):\n",
        "\n",
        "```\n",
        "![Anopheles gambiae](https://upload.wikimedia.org/wikipedia/commons/0/0a/AnophelesGambiaemosquito.jpg)\n",
        "```\n",
        "\n",
        "Here is the image as it will appear in the notebook:\n",
        "\n",
        "![Anopheles gambiae](https://upload.wikimedia.org/wikipedia/commons/0/0a/AnophelesGambiaemosquito.jpg)\n"
      ]
    },
    {
      "cell_type": "code",
      "source": [
        "from IPython.display import Image\n",
        "\n",
        "# Path to the image file\n",
        "image_path = \"https://upload.wikimedia.org/wikipedia/commons/0/0a/AnophelesGambiaemosquito.jpg\"\n",
        "\n",
        "# Display the image\n",
        "Image(url=image_path)\n"
      ],
      "metadata": {
        "id": "b5TcLfYrVWtT",
        "outputId": "f7a95f47-3e5c-4374-95a7-442122bfb9a3",
        "colab": {
          "base_uri": "https://localhost:8080/",
          "height": 479
        }
      },
      "execution_count": 13,
      "outputs": [
        {
          "output_type": "execute_result",
          "data": {
            "text/html": [
              "<img src=\"https://upload.wikimedia.org/wikipedia/commons/0/0a/AnophelesGambiaemosquito.jpg\"/>"
            ],
            "text/plain": [
              "<IPython.core.display.Image object>"
            ]
          },
          "metadata": {},
          "execution_count": 13
        }
      ]
    },
    {
      "cell_type": "markdown",
      "metadata": {
        "id": "wA7GGyY7QMVp"
      },
      "source": [
        "## Adding, moving and deleting cells\n",
        "\n",
        "A new cell can be added by using the **`+ Code`** and **`+ Text`** at the top of the notebook, or that show when you hover between cells.\n",
        "\n",
        "Cells can be moved within the notebook by clicking on the **up and down arrows** in the cell toolbar.\n",
        "\n",
        "A cell can be deleted by clicking the **dustbin icon** within the cell toolbar."
      ]
    },
    {
      "cell_type": "markdown",
      "metadata": {
        "id": "Pgh6vPWzhfsk"
      },
      "source": [
        "## Coding basics\n",
        "\n",
        "Here are a few examples of things you can do using Python code. For this course we don't expect you to be an experienced coder, but some familiarity with features like arithmetic, for loops and functions will be useful."
      ]
    },
    {
      "cell_type": "markdown",
      "metadata": {
        "id": "xQ71d_d4dvk2"
      },
      "source": [
        "### Math\n",
        "\n",
        "You can do arithmetic."
      ]
    },
    {
      "cell_type": "code",
      "execution_count": null,
      "metadata": {
        "id": "pwsHi0Hod_AV"
      },
      "outputs": [],
      "source": [
        "x = 10\n",
        "y = 3 + (4 * x) - 1\n",
        "y"
      ]
    },
    {
      "cell_type": "code",
      "source": [
        "a = 32\n",
        "b = 78\n",
        "c = (a**2)*(b+a)**3\n",
        "print(f\"This is a super number {c}!\")"
      ],
      "metadata": {
        "id": "rSYiT6xHWDal",
        "outputId": "e809b9ca-a995-4ce6-848f-aaad499fdca4",
        "colab": {
          "base_uri": "https://localhost:8080/"
        }
      },
      "execution_count": 15,
      "outputs": [
        {
          "output_type": "stream",
          "name": "stdout",
          "text": [
            "This is a super number 1362944000!\n"
          ]
        }
      ]
    },
    {
      "cell_type": "markdown",
      "metadata": {
        "id": "xCw8S3HMeRMR"
      },
      "source": [
        "### For loops\n",
        "\n",
        "You can use a for loop to iterate over a sequence of values. E.g., you can iterative over a sequence of numbers using a for loop together with the built-in [`range()` function](https://docs.python.org/3.7/library/stdtypes.html#typesseq-range)."
      ]
    },
    {
      "cell_type": "code",
      "execution_count": 16,
      "metadata": {
        "colab": {
          "base_uri": "https://localhost:8080/"
        },
        "id": "dq79jxwjeSzx",
        "outputId": "de05c508-a7aa-4d2b-8661-9506a6ed5736"
      },
      "outputs": [
        {
          "output_type": "stream",
          "name": "stdout",
          "text": [
            "0\n",
            "1\n",
            "2\n",
            "3\n",
            "4\n"
          ]
        }
      ],
      "source": [
        "for i in range(5):\n",
        "    print(i)"
      ]
    },
    {
      "cell_type": "code",
      "source": [
        "for a in range(1,10):\n",
        "  print(a)"
      ],
      "metadata": {
        "id": "Dos0fHICWqoe",
        "outputId": "4546fbf2-9b2e-4dea-a0fa-77b59ca4a3fa",
        "colab": {
          "base_uri": "https://localhost:8080/"
        }
      },
      "execution_count": 17,
      "outputs": [
        {
          "output_type": "stream",
          "name": "stdout",
          "text": [
            "1\n",
            "2\n",
            "3\n",
            "4\n",
            "5\n",
            "6\n",
            "7\n",
            "8\n",
            "9\n"
          ]
        }
      ]
    },
    {
      "cell_type": "markdown",
      "metadata": {
        "id": "uRJQN0B_dq9K"
      },
      "source": [
        "### Defining and calling functions\n",
        "\n",
        "You can organise your code into functions with parameters. E.g., here we define a function `greet()` with a single parameter `name`. "
      ]
    },
    {
      "cell_type": "code",
      "execution_count": 18,
      "metadata": {
        "id": "Jlc1NDFmdRiA"
      },
      "outputs": [],
      "source": [
        "def greet(name):\n",
        "    print(f\"Hello {name}!\")"
      ]
    },
    {
      "cell_type": "markdown",
      "metadata": {
        "id": "EN0NnIZM6xBm"
      },
      "source": [
        "You can then call the function with different parameter values."
      ]
    },
    {
      "cell_type": "code",
      "execution_count": 19,
      "metadata": {
        "colab": {
          "base_uri": "https://localhost:8080/"
        },
        "id": "2lRMGm6NdYen",
        "outputId": "90fc141e-4abb-4dd2-815f-3ad9b73e21bc"
      },
      "outputs": [
        {
          "output_type": "stream",
          "name": "stdout",
          "text": [
            "Hello Mario Coluzzi!\n"
          ]
        }
      ],
      "source": [
        "greet(\"Mario Coluzzi\")"
      ]
    },
    {
      "cell_type": "code",
      "execution_count": 20,
      "metadata": {
        "colab": {
          "base_uri": "https://localhost:8080/"
        },
        "id": "mRJj59rG6xBn",
        "outputId": "a65450a4-ff3a-4377-f47a-ab8c77d69632"
      },
      "outputs": [
        {
          "output_type": "stream",
          "name": "stdout",
          "text": [
            "Hello Ronald Ross!\n"
          ]
        }
      ],
      "source": [
        "greet(\"Ronald Ross\")"
      ]
    },
    {
      "cell_type": "code",
      "source": [
        "greet(\"Gloria Kirabo\")"
      ],
      "metadata": {
        "id": "eErAO7etW3ot",
        "outputId": "626808df-b5fb-4f35-ef4d-d0cfd68c516e",
        "colab": {
          "base_uri": "https://localhost:8080/"
        }
      },
      "execution_count": 21,
      "outputs": [
        {
          "output_type": "stream",
          "name": "stdout",
          "text": [
            "Hello Gloria Kirabo!\n"
          ]
        }
      ]
    },
    {
      "cell_type": "markdown",
      "metadata": {
        "id": "bwAxxpvYRDKw"
      },
      "source": [
        "## Importing and installing Python packages\n",
        "\n",
        "Python packages are collections of functions that other people have already created, and which you can import into your notebook and use. \n",
        "\n",
        "There are some functions which are \"built-in\" to Python, like the `print()` and `range()` functions we've already seen, which are always available and you don't need to import.\n",
        "\n",
        "There are a lot more functions available as part of the [Python standard library](https://docs.python.org/3.7/library/), which will already be installed, but you do need to import them before you can use them.\n",
        "\n",
        "There are loads more functions available through \"third-party packages\" which are packages provided by other developers in the Python community. E.g., a very useful package for numerical computing is [NumPy](https://numpy.org/). On colab, numpy is already installed, and so you can just import it. By convention we abbreviate \"numpy\" to \"np\" just to reduce the amount of typing we have to do. "
      ]
    },
    {
      "cell_type": "code",
      "execution_count": 22,
      "metadata": {
        "id": "5kq8iET8ewpe"
      },
      "outputs": [],
      "source": [
        "import numpy as np"
      ]
    },
    {
      "cell_type": "markdown",
      "metadata": {
        "id": "OTqJmw3D6xBp"
      },
      "source": [
        "Now that we've imported NumPy we can call functions. E.g., let's generate some random numbers using the [np.random.randint()](https://numpy.org/doc/stable/reference/random/generated/numpy.random.randint.html) function."
      ]
    },
    {
      "cell_type": "code",
      "execution_count": 23,
      "metadata": {
        "colab": {
          "base_uri": "https://localhost:8080/"
        },
        "id": "udVhR9jJfJTW",
        "outputId": "e2de0e99-8884-4249-c91b-f2a5d5804b98"
      },
      "outputs": [
        {
          "output_type": "execute_result",
          "data": {
            "text/plain": [
              "array([48, 21,  3, 11, 81, 52, 94, 25, 16, 94])"
            ]
          },
          "metadata": {},
          "execution_count": 23
        }
      ],
      "source": [
        "y = np.random.randint(low=0, high=100, size=10)\n",
        "y"
      ]
    },
    {
      "cell_type": "markdown",
      "metadata": {
        "id": "c0STeqKU6xBp"
      },
      "source": [
        "Some third-party packages are not pre-installed on colab, and so you need to install them. Installing packages can be done with the special `!pip` command. E.g., let's installed the [malariagen_data](https://github.com/malariagen/malariagen-data-python) package."
      ]
    },
    {
      "cell_type": "code",
      "execution_count": null,
      "metadata": {
        "id": "u_38N9g4I6jF"
      },
      "outputs": [],
      "source": [
        "!pip install -q --no-warn-conflicts malariagen_data"
      ]
    },
    {
      "cell_type": "markdown",
      "metadata": {
        "id": "Tror3nEM6xBq"
      },
      "source": [
        "Once it's installed, we can import it like we did for numpy."
      ]
    },
    {
      "cell_type": "code",
      "execution_count": null,
      "metadata": {
        "id": "ZhGji1ZygB_9"
      },
      "outputs": [],
      "source": [
        "import malariagen_data"
      ]
    },
    {
      "cell_type": "markdown",
      "metadata": {
        "id": "OhNexc5i6xBq"
      },
      "source": [
        "And we can start using the package to set up access to some data."
      ]
    },
    {
      "cell_type": "code",
      "execution_count": null,
      "metadata": {
        "id": "-GGTroWDgHuQ"
      },
      "outputs": [],
      "source": [
        "ag3 = malariagen_data.Ag3()\n",
        "ag3"
      ]
    },
    {
      "cell_type": "markdown",
      "metadata": {
        "id": "5pqoYxbLS2qQ"
      },
      "source": [
        "## Viewing dataframes\n",
        "\n",
        "Often when analysing data you will work with [pandas DataFrames](https://pandas.pydata.org/pandas-docs/stable/user_guide/dsintro.html#dataframe), which are tables of data organised into rows and columns. We will look at DataFrames in more detail later in the course, but for now it's useful to know that you can get a preview of the data in a DataFrame.\n",
        "\n",
        "E.g., if we call the `sample_metadata()` function below, this returns a DataFrame."
      ]
    },
    {
      "cell_type": "code",
      "execution_count": null,
      "metadata": {
        "id": "lI6zJymMgNA_"
      },
      "outputs": [],
      "source": [
        "df_samples = ag3.sample_metadata(sample_sets=\"3.0\")"
      ]
    },
    {
      "cell_type": "code",
      "execution_count": null,
      "metadata": {
        "id": "Ies8k2f-hNfa"
      },
      "outputs": [],
      "source": [
        "type(df_samples)"
      ]
    },
    {
      "cell_type": "markdown",
      "metadata": {
        "id": "iDir_Rfk6xBs"
      },
      "source": [
        "If we now inspect the value of this variable, we get a preview of the data in the DataFrame, showing the first five rows and the last five rows."
      ]
    },
    {
      "cell_type": "code",
      "execution_count": null,
      "metadata": {
        "id": "ceEI6R2EhQHd"
      },
      "outputs": [],
      "source": [
        "df_samples"
      ]
    },
    {
      "cell_type": "markdown",
      "metadata": {
        "id": "lJtQ2mcqTAWA"
      },
      "source": [
        "## Creating plots\n",
        "\n",
        "You can also create plots within notebooks. There are several plotting packages available for Python, but three popular and useful plotting packages are [matplotlib](https://matplotlib.org/), [plotly express](https://matplotlib.org/), and [bokeh](https://docs.bokeh.org/en/latest/index.html). Let's illustrate making some plots with these packages.\n",
        "\n",
        "First let's generate some random data to plot."
      ]
    },
    {
      "cell_type": "code",
      "execution_count": null,
      "metadata": {
        "id": "0eTx4ltEj1ww"
      },
      "outputs": [],
      "source": [
        "x = np.random.binomial(n=30, p=0.5, size=10_000)\n",
        "x"
      ]
    },
    {
      "cell_type": "markdown",
      "metadata": {
        "id": "tJY3E8yGTDC_"
      },
      "source": [
        "### Matplotlib\n",
        "\n",
        "Here's how to import and activate matplotlib in a notebook."
      ]
    },
    {
      "cell_type": "code",
      "execution_count": null,
      "metadata": {
        "id": "SiolTVY8hyfH"
      },
      "outputs": [],
      "source": [
        "import matplotlib.pyplot as plt\n",
        "%matplotlib inline"
      ]
    },
    {
      "cell_type": "markdown",
      "metadata": {
        "id": "Z37r1mE46xBt"
      },
      "source": [
        "Here's how to create a histogram."
      ]
    },
    {
      "cell_type": "code",
      "execution_count": null,
      "metadata": {
        "id": "nWAXQguFhy6J"
      },
      "outputs": [],
      "source": [
        "fig, ax = plt.subplots()\n",
        "ax.hist(x)\n",
        "ax.set_xlabel(\"x\")\n",
        "ax.set_ylabel(\"Count\")\n",
        "ax.set_title(\"The binomial distribution\");"
      ]
    },
    {
      "cell_type": "markdown",
      "metadata": {
        "id": "xYqfzVjmTLCM"
      },
      "source": [
        "### Plotly Express\n",
        "\n",
        "Here's how to import plotly express."
      ]
    },
    {
      "cell_type": "code",
      "execution_count": null,
      "metadata": {
        "id": "DJgxWVfzjLQg"
      },
      "outputs": [],
      "source": [
        "import plotly.express as px"
      ]
    },
    {
      "cell_type": "markdown",
      "metadata": {
        "id": "5MFMXUfH6xBu"
      },
      "source": [
        "Here's how to plot a histogram."
      ]
    },
    {
      "cell_type": "code",
      "execution_count": null,
      "metadata": {
        "id": "JLPR8ISZjMP4"
      },
      "outputs": [],
      "source": [
        "fig = px.histogram(\n",
        "    x=x, \n",
        "    title=\"The binomial distribution\",\n",
        "    width=600,\n",
        "    height=400\n",
        ")\n",
        "fig.show()"
      ]
    },
    {
      "cell_type": "markdown",
      "metadata": {
        "id": "v0gmADhLTNJY"
      },
      "source": [
        "### Bokeh\n",
        "\n",
        "Here's how to import bokeh and activate it for use in a notebook."
      ]
    },
    {
      "cell_type": "code",
      "execution_count": null,
      "metadata": {
        "id": "cSjm8O4VkQEU"
      },
      "outputs": [],
      "source": [
        "import bokeh.plotting as bkplt\n",
        "import bokeh.io as bkio\n",
        "bkio.output_notebook()"
      ]
    },
    {
      "cell_type": "markdown",
      "metadata": {
        "id": "EIcZvJbX6xBv"
      },
      "source": [
        "Here's how to make a histogram."
      ]
    },
    {
      "cell_type": "code",
      "execution_count": null,
      "metadata": {
        "id": "Kn-nNT2TkQ8h"
      },
      "outputs": [],
      "source": [
        "fig = bkplt.figure(title=\"The binomial distribution\", width=600, height=400)\n",
        "hist, edges = np.histogram(x)\n",
        "fig.quad(top=hist, bottom=0, left=edges[:-1], right=edges[1:])\n",
        "bkplt.show(fig)"
      ]
    },
    {
      "cell_type": "markdown",
      "metadata": {
        "id": "p1HcXsK1TPPf"
      },
      "source": [
        "## Accessing help documentation (docstrings)\n",
        "\n",
        "Often you'll want to get access to documentation about the packages and functions you're using. An easy way to access documentation (the docstring) for a function is to type the function name then add a question mark (?). This will cause the docstring to appear next to the notebook."
      ]
    },
    {
      "cell_type": "code",
      "execution_count": null,
      "metadata": {
        "id": "8MriYreYTaHp"
      },
      "outputs": [],
      "source": [
        "np.random.binomial?"
      ]
    },
    {
      "cell_type": "markdown",
      "metadata": {
        "id": "EvHgrWJ06xBw"
      },
      "source": [
        "You can also search the web. Most packages will have good documentation on their website. E.g., here's the online documentation for [np.random.binomial()](https://numpy.org/doc/stable/reference/random/generated/numpy.random.binomial.html)."
      ]
    },
    {
      "cell_type": "markdown",
      "metadata": {
        "id": "GZHxDB1EUFLY"
      },
      "source": [
        "## Sharing notebooks via Google Drive\n",
        "\n",
        "Finally, you can share your notebooks with colleagues to show them the results of your data analysis. Colab notebooks are stored in your Google Drive and you can share them just like any other Google doc. Click the \"share\" button at the top right to begin sharing. An easy way to share is to create a link, which you can then copy and paste to share with colleagues."
      ]
    },
    {
      "cell_type": "markdown",
      "metadata": {
        "id": "resb3397UjKI"
      },
      "source": [
        "## Practical exercises\n",
        "\n",
        "### English\n",
        "\n",
        "That's it for this module, well done for beginning your data analysis journey! When you're ready, please now try the practical exercises below.\n",
        "\n",
        "1. Go to [https://colab.research.google.com](https://colab.research.google.com) and create a new notebook.\n",
        "1. Add a code cell, type some Python code, and run (execute) the cell.\n",
        "1. Add a text cell and type some text, using markdown to format the text, e.g., bold, italic, hyperlinks, etc.\n",
        "1. Practice adding, deleting and moving cells within the notebook.\n",
        "1. Import a package (e.g., `numpy`) and call a function from that package (e.g., `numpy.random.randint()`). Hint: use `?` to display the function parameters if you can't remember them.\n",
        "1. Add a code cell which creates a pandas `DataFrame`. Hint: you can search the web for pandas code examples, and copy-paste the code into your notebook.\n",
        "1. Add a code cell which creates a matplotlib plot. Hint: try the [matplotlib examples gallery](https://matplotlib.org/stable/gallery/index.html) for some code examples to try.\n",
        "1. Add a code cell which creates a plotly plot. Hint: try the [plotly express docs](https://plotly.com/python/plotly-express/#gallery) for some code examples to try.\n",
        "1. Add a code cell which creates a bokeh plot. Hint: try the [bokeh gallery](https://docs.bokeh.org/en/latest/docs/gallery.html#standalone-examples) for some code examples to try.\n",
        "\n",
        "\n",
        "### Français\n",
        "\n",
        "C'est tout pour ce module, félicitations pour le début de votre voyage dans le monde de l'analyse des données! Quand vous êtes prêts, essayez les exercices appliqués ci-dessous.\n",
        "\n",
        "1. Se rendre sur https://colab.research.google.com et créer un nouveau notebook.\n",
        "1. Créer une nouvelle cellule de code, entrer du code Python et exécuter la cellule.\n",
        "1. Ajouter une cellule de texte et entrer du texte, utiliser le markdown pour modifier son format, par exemple en mettant en gras ou en italique certains mots ou en ajoutant un hyperlien.\n",
        "1. S'entrainer à ajouter, supprimer et déplacer les cellules.\n",
        "1. Importer un paquet (par exemple, numpy) et utiliser une fonction de ce paquet (par exemple, numpy.random.randint()). Indice: utiliser ? pour afficher les paramètres si vous les avez oubliés.\n",
        "1. Ajouter une cellule de code qui crée un DataFrame pandas. Indice: vous pouvez chercher un exemple de code pour pandas sur internet et copier-coller le code dans votre notebook.\n",
        "1. Ajouter une cellule de code qui crée un graphe matplotlib. Indice: essayer [la gallerie d'exemples matplotlib](https://matplotlib.org/stable/gallery/index.html) pour des exemples de code.\n",
        "1. Ajouter une cellule de code qui crée un graphe plotly. Indice essayer [les docs plotly express](https://plotly.com/python/plotly-express/#gallery) pour des exemples de code.\n",
        "1. Ajouter une cellule de code qui crée un graphe bokeh. Indice: essayer la [gallerie bokeh](https://docs.bokeh.org/en/latest/docs/gallery.html#standalone-examples) pour des exemples de code."
      ]
    },
    {
      "cell_type": "code",
      "execution_count": null,
      "metadata": {
        "id": "y2iVYMYhSFCp"
      },
      "outputs": [],
      "source": []
    }
  ],
  "metadata": {
    "colab": {
      "name": "Workshop 1 - Module 1 - Interactive cloud computing with Google Colaboratory - 2022-03-03.ipynb",
      "provenance": []
    },
    "kernelspec": {
      "display_name": "developer-developer-training-nb-maintenance-mgen-7.10.0",
      "language": "python",
      "name": "conda-env-developer-developer-training-nb-maintenance-mgen-7.10.0-py"
    },
    "language_info": {
      "codemirror_mode": {
        "name": "ipython",
        "version": 3
      },
      "file_extension": ".py",
      "mimetype": "text/x-python",
      "name": "python",
      "nbconvert_exporter": "python",
      "pygments_lexer": "ipython3",
      "version": "3.10.11"
    }
  },
  "nbformat": 4,
  "nbformat_minor": 0
}