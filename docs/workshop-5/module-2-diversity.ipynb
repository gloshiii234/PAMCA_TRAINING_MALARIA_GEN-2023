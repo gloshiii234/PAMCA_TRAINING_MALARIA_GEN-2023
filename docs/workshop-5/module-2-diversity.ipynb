{
  "cells": [
    {
      "cell_type": "markdown",
      "id": "a20914ce",
      "metadata": {
        "id": "a20914ce"
      },
      "source": [
        "![banner](https://github.com/anopheles-genomic-surveillance/anopheles-genomic-surveillance.github.io/blob/master/docs/banner.jpg?raw=1)\n",
        "\n",
        "***[Workshop 5](about) - Training course in data analysis for genomic surveillance of African malaria vectors***\n",
        "\n",
        "---"
      ]
    },
    {
      "cell_type": "markdown",
      "id": "7ed63b34-d54d-448d-bcb9-55e4aa87e982",
      "metadata": {
        "id": "7ed63b34-d54d-448d-bcb9-55e4aa87e982"
      },
      "source": [
        "# Module 2 - Introduction to genetic diversity\n",
        "\n",
        "**Theme: Biology**\n",
        "\n",
        "This module introduces the biology of genetic diversity, which allows us to characterise and quantify how individuals sampled from a population are genetically different from each other. The study of genetic diversity has many scientific applications, and in particular we will begin to examine how diversity could be used to monitor populations of mosquitoes and other organisms."
      ]
    },
    {
      "cell_type": "markdown",
      "id": "434e79a6-34ff-45f6-b259-0d3c7858e250",
      "metadata": {
        "id": "434e79a6-34ff-45f6-b259-0d3c7858e250"
      },
      "source": [
        "## Learning objectives\n",
        "\n",
        "In this module, we will cover:\n",
        "\n",
        "* Types of genetic diversity\n",
        "* Quantifying genetic diversity\n",
        "* What forces affect genetic diversity\n",
        "* How can genetic diversity be used to monitor populations?\n"
      ]
    },
    {
      "cell_type": "markdown",
      "id": "b66bb5b8",
      "metadata": {
        "id": "b66bb5b8"
      },
      "source": [
        "## Lecture"
      ]
    },
    {
      "cell_type": "markdown",
      "id": "5c688ab3",
      "metadata": {
        "id": "5c688ab3"
      },
      "source": [
        "### English"
      ]
    },
    {
      "cell_type": "code",
      "execution_count": null,
      "id": "c5e8aeda",
      "metadata": {
        "tags": [
          "remove-input"
        ],
        "id": "c5e8aeda",
        "outputId": "a853f398-13bf-4878-8069-b7cf3041fbeb"
      },
      "outputs": [
        {
          "data": {
            "text/html": [
              "<iframe width=\"560\" height=\"315\" src=\"https://www.youtube.com/embed/ZKuoKcKx1nY\" title=\"YouTube video player\" frameborder=\"0\" allow=\"accelerometer; autoplay; clipboard-write; encrypted-media; gyroscope; picture-in-picture\" allowfullscreen></iframe>\n"
            ],
            "text/plain": [
              "<IPython.core.display.HTML object>"
            ]
          },
          "metadata": {},
          "output_type": "display_data"
        }
      ],
      "source": [
        "%%html\n",
        "<iframe width=\"560\" height=\"315\" src=\"https://www.youtube.com/embed/ZKuoKcKx1nY\" title=\"YouTube video player\" frameborder=\"0\" allow=\"accelerometer; autoplay; clipboard-write; encrypted-media; gyroscope; picture-in-picture\" allowfullscreen></iframe>"
      ]
    },
    {
      "cell_type": "markdown",
      "id": "c64766c0",
      "metadata": {
        "id": "c64766c0"
      },
      "source": [
        "### Français\n"
      ]
    },
    {
      "cell_type": "code",
      "execution_count": null,
      "id": "e7e8ae53",
      "metadata": {
        "tags": [
          "remove-input"
        ],
        "id": "e7e8ae53",
        "outputId": "0ba3ef12-0919-4d8c-b417-31240ea6ce97"
      },
      "outputs": [
        {
          "data": {
            "text/html": [
              "<iframe width=\"560\" height=\"315\" src=\"https://www.youtube.com/embed/tyxWvmmD_mY\" title=\"YouTube video player\" frameborder=\"0\" allow=\"accelerometer; autoplay; clipboard-write; encrypted-media; gyroscope; picture-in-picture\" allowfullscreen></iframe>\n"
            ],
            "text/plain": [
              "<IPython.core.display.HTML object>"
            ]
          },
          "metadata": {},
          "output_type": "display_data"
        }
      ],
      "source": [
        "%%html\n",
        "<iframe width=\"560\" height=\"315\" src=\"https://www.youtube.com/embed/tyxWvmmD_mY\" title=\"YouTube video player\" frameborder=\"0\" allow=\"accelerometer; autoplay; clipboard-write; encrypted-media; gyroscope; picture-in-picture\" allowfullscreen></iframe>"
      ]
    }
  ],
  "metadata": {
    "celltoolbar": "Tags",
    "kernelspec": {
      "display_name": "developer-developer-training-nb-maintenance-mgen-7.11.0",
      "language": "python",
      "name": "conda-env-developer-developer-training-nb-maintenance-mgen-7.11.0-py"
    },
    "language_info": {
      "codemirror_mode": {
        "name": "ipython",
        "version": 3
      },
      "file_extension": ".py",
      "mimetype": "text/x-python",
      "name": "python",
      "nbconvert_exporter": "python",
      "pygments_lexer": "ipython3",
      "version": "3.10.11"
    },
    "colab": {
      "provenance": []
    }
  },
  "nbformat": 4,
  "nbformat_minor": 5
}