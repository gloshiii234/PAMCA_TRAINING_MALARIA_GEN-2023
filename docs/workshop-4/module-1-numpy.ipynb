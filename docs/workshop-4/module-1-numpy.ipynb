{
  "cells": [
    {
      "cell_type": "markdown",
      "metadata": {
        "id": "PegF1K0D1ZnS"
      },
      "source": [
        "![banner](https://github.com/anopheles-genomic-surveillance/anopheles-genomic-surveillance.github.io/blob/master/docs/banner.jpg?raw=1)\n",
        "\n",
        "***[Workshop 4](about) - Training course in data analysis for genomic surveillance of African malaria vectors***\n",
        "\n",
        "---"
      ]
    },
    {
      "cell_type": "markdown",
      "metadata": {
        "id": "IWbYSGsC1vhV"
      },
      "source": [
        "# Module 1 - NumPy arrays\n",
        "\n",
        "**Theme: Tools & technology**\n",
        "\n",
        "NumPy (Numerical Python) is a Python package for working with numerical data. It is right at the heart of the scientific computing ecosystem in Python, and is a powerful tool for fast and memory-efficient analysis of large genomic datasets. This module introduces NumPy arrays, which are the fundamental data structure that NumPy provides for storing and computing with numerical data.\n",
        "\n",
        "This module borrows heavily from [NumPy: the absolute basics for beginners](https://numpy.org/doc/stable/user/absolute_beginners.html) by the NumPy team and [A visual Intro to NumPy and Data Representation](https://jalammar.github.io/visual-numpy/) by Jay Alammar."
      ]
    },
    {
      "cell_type": "markdown",
      "metadata": {
        "id": "WiKt280J13oB"
      },
      "source": [
        "## Learning objectives\n",
        "\n",
        "At the end of this module you will be able to:\n",
        "\n",
        "* Explain why we use NumPy for genomic data analysis.\n",
        "* Create NumPy arrays.\n",
        "* Access data in an array using indexing and slicing.\n",
        "* Perform simple mathematical computations with arrays.\n",
        "* Perform simple aggregations with arrays."
      ]
    },
    {
      "cell_type": "markdown",
      "metadata": {
        "id": "8lsWIUr7RnXX"
      },
      "source": [
        "## Lecture"
      ]
    },
    {
      "cell_type": "markdown",
      "metadata": {
        "id": "b0s5dfxkRnXY"
      },
      "source": [
        "### English"
      ]
    },
    {
      "cell_type": "code",
      "execution_count": null,
      "metadata": {
        "tags": [
          "remove-input"
        ],
        "id": "752lQFqiRnXZ"
      },
      "outputs": [],
      "source": [
        "%%html\n",
        "<iframe width=\"560\" height=\"315\" src=\"https://www.youtube.com/embed/N0TkJ2KITK0\" title=\"YouTube video player\" frameborder=\"0\" allow=\"accelerometer; autoplay; clipboard-write; encrypted-media; gyroscope; picture-in-picture\" allowfullscreen></iframe>"
      ]
    },
    {
      "cell_type": "markdown",
      "metadata": {
        "id": "4UhpKdcSRnXa"
      },
      "source": [
        "### Français"
      ]
    },
    {
      "cell_type": "code",
      "execution_count": null,
      "metadata": {
        "scrolled": true,
        "tags": [
          "remove-input"
        ],
        "id": "nhO3F_1-RnXb"
      },
      "outputs": [],
      "source": [
        "%%html\n",
        "<iframe width=\"560\" height=\"315\" src=\"https://www.youtube.com/embed/1IaraoWkySA\" title=\"YouTube video player\" frameborder=\"0\" allow=\"accelerometer; autoplay; clipboard-write; encrypted-media; gyroscope; picture-in-picture\" allowfullscreen></iframe>"
      ]
    },
    {
      "cell_type": "markdown",
      "metadata": {
        "id": "NcDJidIeRnXd"
      },
      "source": [
        "Please note that the code in the cells below might differ from that shown in the video. This can happen because Python packages and their dependencies change due to updates, necessitating tweaks to the code."
      ]
    },
    {
      "cell_type": "markdown",
      "metadata": {
        "id": "O4aWuag_LWgf"
      },
      "source": [
        "## Why use NumPy?\n",
        "\n",
        "In this course we want to perform analyses with large datasets using cloud computing services. Because the datasets are large, we need to be careful about how we use memory (RAM).\n",
        "\n",
        "We also want to perform those analyses interactively.\n",
        "\n",
        "Interactivity means computations need to run quickly, so we don't have to wait and can continue straight on with the next step in our exploration of the data.\n",
        "\n",
        "Interactivity also means we don't want to spend hours writing complicated code for each step in the analysis. We want simple code that can be written quickly and adapted as needed.\n",
        "\n",
        "In summary, we want to store numerical data so that:\n",
        "\n",
        "* **Memory is used efficiently**\n",
        "* **Computations are fast**\n",
        "* **Code is simple and concise**"
      ]
    },
    {
      "cell_type": "markdown",
      "metadata": {
        "id": "CJGGNBmGSVV6"
      },
      "source": [
        "## What is a NumPy array?\n",
        "\n",
        "A NumPy array is a data structure where the data values are arranged in an N-dimensional grid. Let's look at some examples of data that can be stored using NumPy arrays.\n",
        "\n"
      ]
    },
    {
      "cell_type": "markdown",
      "metadata": {
        "id": "6Wz4l0IsVaU9"
      },
      "source": [
        "### 1-D array (vector)\n",
        "\n",
        "An audio recording is an example of data that can be represented as a 1-dimensional (1-D) array. A 1-D array is also sometimes called a \"vector\".\n",
        "\n",
        "Here the data values in the array are the amplitude values sampled at regular time intervals, and the first (and only) dimension of the array corresponds to the time at which each audio sample should be played."
      ]
    },
    {
      "cell_type": "markdown",
      "metadata": {
        "id": "Ls8fJ7jkVArK"
      },
      "source": [
        "<img src=\"https://jalammar.github.io/images/numpy/numpy-audio.png\"/>"
      ]
    },
    {
      "cell_type": "markdown",
      "metadata": {
        "id": "rghiwjY2VeCm"
      },
      "source": [
        "### 2-D array (matrix)\n",
        "\n",
        "A black-and-white image is an example of data that can be represented as a 2-dimensional (2-D) array. A 2-D array is also sometimes called a \"matrix\".\n",
        "\n",
        "Here the data values in the array correspond to the colour of a pixel, where 0 represents black, 255 represents white, and numbers in between correspond to shades of grey.\n",
        "\n",
        "The first dimension of the array corresponds to the vertical position of pixels within the image, and the second dimension corresponds to the horizontal position of the pixels."
      ]
    },
    {
      "cell_type": "markdown",
      "metadata": {
        "id": "LHh4zzGSVFG3"
      },
      "source": [
        "<img src=\"https://jalammar.github.io/images/numpy/numpy-grayscale-image.png\"/>"
      ]
    },
    {
      "cell_type": "markdown",
      "metadata": {
        "id": "DA3P34b1Vg3y"
      },
      "source": [
        "### 3-D array (tensor)\n",
        "\n",
        "A colour image is an example of data that can be represented as a 3-dimensional (3-D) array. A 3-D array is sometimes also called a \"tensor\".\n",
        "\n",
        "Here the data values represent the intensity of each pixel in three separate colour channels - red, green and blue.\n",
        "\n",
        "As with the black-and-white image, the first dimension of the array corresponds to the vertical position of pixels within the image, and the second dimension corresponds to the horizontal position of the pixels. Here now there is also a third dimension of length three, which represents the three colour channels."
      ]
    },
    {
      "cell_type": "markdown",
      "metadata": {
        "id": "rqNkYBW8VIpF"
      },
      "source": [
        "<img src=\"https://jalammar.github.io/images/numpy/numpy-color-image.png\"/>"
      ]
    },
    {
      "cell_type": "markdown",
      "metadata": {
        "id": "wceY3NRtujba"
      },
      "source": [
        "Genotype calls are another example of data that can be stored as a 3-D array.\n",
        "\n",
        "Here each data value is an allele encoded numerically, where 0 encodes the reference allele, and higher values encode alternate alleles.\n",
        "\n",
        "The first dimension (rows) corresponds to the positions in the reference genome; the second dimension (columns) corresponds to the individual organisms that were sequenced; and the third dimension corresponds to the ploidy of the organisms (2 for animals such as humans or mosquitoes)."
      ]
    },
    {
      "cell_type": "markdown",
      "metadata": {
        "id": "EpJjT63TIg1Z"
      },
      "source": [
        "<img src=\"https://storage.googleapis.com/vo_agam_release/reference/training-images/workshop-4/mosquito-genotype-array.png\"/>"
      ]
    },
    {
      "cell_type": "markdown",
      "metadata": {
        "id": "p6y1HwLmLNxC"
      },
      "source": [
        "## Importing NumPy\n",
        "\n",
        "On colab, NumPy is already installed, so we can go ahead and import it."
      ]
    },
    {
      "cell_type": "code",
      "execution_count": 2,
      "metadata": {
        "id": "giiF2vNELRXr"
      },
      "outputs": [],
      "source": [
        "import numpy as np"
      ]
    },
    {
      "cell_type": "markdown",
      "metadata": {
        "id": "Am-Q3UnrLSZE"
      },
      "source": [
        "## Creating an array from existing data\n",
        "\n",
        "There are various ways to create a NumPy array. One way is to create an array from some existing data, via the [`np.array()`](https://numpy.org/doc/stable/reference/generated/numpy.array.html#numpy.array) function."
      ]
    },
    {
      "cell_type": "markdown",
      "metadata": {
        "id": "O_oGejY1m1Et"
      },
      "source": [
        "### Creating a 1-D array\n",
        "\n",
        "Let's create a 1-D array storing the data values `[1, 2, 3]`. We'll assign this array to a variable named `data`, but this variable could be named whatever you like."
      ]
    },
    {
      "cell_type": "code",
      "execution_count": 2,
      "metadata": {
        "colab": {
          "base_uri": "https://localhost:8080/"
        },
        "id": "2iLJDe5FMomJ",
        "outputId": "264cd586-f71a-4b69-9cf0-9aaaca263d51"
      },
      "outputs": [
        {
          "output_type": "execute_result",
          "data": {
            "text/plain": [
              "array([1, 2, 3])"
            ]
          },
          "metadata": {},
          "execution_count": 2
        }
      ],
      "source": [
        "data = np.array([1, 2, 3])\n",
        "data"
      ]
    },
    {
      "cell_type": "code",
      "source": [
        "##Creating a 2D array\n",
        "dat = np.array([[2,4,5],[4,6,7]])\n",
        "dat"
      ],
      "metadata": {
        "colab": {
          "base_uri": "https://localhost:8080/"
        },
        "id": "8F6gxM5hc3V-",
        "outputId": "c1dbc1cb-d142-44ed-896a-1bd3b24ee87b"
      },
      "execution_count": 5,
      "outputs": [
        {
          "output_type": "execute_result",
          "data": {
            "text/plain": [
              "array([[2, 4, 5],\n",
              "       [4, 6, 7]])"
            ]
          },
          "metadata": {},
          "execution_count": 5
        }
      ]
    },
    {
      "cell_type": "code",
      "source": [
        "##Checking type for my array\n",
        "\n",
        "type(dat)"
      ],
      "metadata": {
        "colab": {
          "base_uri": "https://localhost:8080/"
        },
        "id": "CZ6jbpCrdcU2",
        "outputId": "bf048cb7-f602-4c75-8009-75268cbfbec4"
      },
      "execution_count": 6,
      "outputs": [
        {
          "output_type": "execute_result",
          "data": {
            "text/plain": [
              "numpy.ndarray"
            ]
          },
          "metadata": {},
          "execution_count": 6
        }
      ]
    },
    {
      "cell_type": "code",
      "execution_count": 3,
      "metadata": {
        "colab": {
          "base_uri": "https://localhost:8080/"
        },
        "id": "RFCnVWjy5J8i",
        "outputId": "ae746446-560e-4627-df94-65eb051a8d87"
      },
      "outputs": [
        {
          "output_type": "execute_result",
          "data": {
            "text/plain": [
              "numpy.ndarray"
            ]
          },
          "metadata": {},
          "execution_count": 3
        }
      ],
      "source": [
        "type(data)"
      ]
    },
    {
      "cell_type": "markdown",
      "metadata": {
        "id": "-C7UncnVwQup"
      },
      "source": [
        "Here is a visual illustration of the array we just created."
      ]
    },
    {
      "cell_type": "markdown",
      "metadata": {
        "id": "hSWfU325Mqa-"
      },
      "source": [
        "<img src=\"https://numpy.org/doc/stable/_images/np_array.png\"></img>"
      ]
    },
    {
      "cell_type": "markdown",
      "metadata": {
        "id": "GD5mL0sYwXYe"
      },
      "source": [
        "Every NumPy array has some useful attributes which tell us something about the array.\n",
        "\n",
        "Here is the number of dimensions:"
      ]
    },
    {
      "cell_type": "code",
      "execution_count": 7,
      "metadata": {
        "colab": {
          "base_uri": "https://localhost:8080/"
        },
        "id": "8uxPzKJ0M7IW",
        "outputId": "f9ef6643-cfb6-4c44-c6a5-0b227992d50d"
      },
      "outputs": [
        {
          "output_type": "execute_result",
          "data": {
            "text/plain": [
              "1"
            ]
          },
          "metadata": {},
          "execution_count": 7
        }
      ],
      "source": [
        "data.ndim"
      ]
    },
    {
      "cell_type": "code",
      "source": [
        "##Checking dimensions for my array\n",
        "dat.ndim"
      ],
      "metadata": {
        "colab": {
          "base_uri": "https://localhost:8080/"
        },
        "id": "rfb-eFIWdlcZ",
        "outputId": "1ac1f51a-1f8e-45c3-8b69-477ca8a51c2e"
      },
      "execution_count": 8,
      "outputs": [
        {
          "output_type": "execute_result",
          "data": {
            "text/plain": [
              "2"
            ]
          },
          "metadata": {},
          "execution_count": 8
        }
      ]
    },
    {
      "cell_type": "markdown",
      "metadata": {
        "id": "ZRM0xvDhwgrb"
      },
      "source": [
        "Here is the total number of elements in the array:"
      ]
    },
    {
      "cell_type": "code",
      "execution_count": 9,
      "metadata": {
        "colab": {
          "base_uri": "https://localhost:8080/"
        },
        "id": "H4v8NS3DLW52",
        "outputId": "9bcb0467-f182-414a-a995-ece5d339d917"
      },
      "outputs": [
        {
          "output_type": "execute_result",
          "data": {
            "text/plain": [
              "3"
            ]
          },
          "metadata": {},
          "execution_count": 9
        }
      ],
      "source": [
        "data.size"
      ]
    },
    {
      "cell_type": "code",
      "source": [
        "##Getting the total number of elements in my array\n",
        "\n",
        "dat.size"
      ],
      "metadata": {
        "colab": {
          "base_uri": "https://localhost:8080/"
        },
        "id": "PkGY6PTpds0n",
        "outputId": "f082a09c-2d80-473d-d8e5-57bdbe5bb3cc"
      },
      "execution_count": 10,
      "outputs": [
        {
          "output_type": "execute_result",
          "data": {
            "text/plain": [
              "6"
            ]
          },
          "metadata": {},
          "execution_count": 10
        }
      ]
    },
    {
      "cell_type": "markdown",
      "metadata": {
        "id": "56Wj1peqwml-"
      },
      "source": [
        "Here is the shape of the array, which tells us the lengths of each of the dimensions. This returns a [tuple](https://docs.python.org/3/tutorial/datastructures.html#tuples-and-sequences) of numbers, one length for each dimension. Here there is only one dimension, so we get a tuple of length one."
      ]
    },
    {
      "cell_type": "code",
      "execution_count": 11,
      "metadata": {
        "colab": {
          "base_uri": "https://localhost:8080/"
        },
        "id": "r077TtRLNgz_",
        "outputId": "48612f40-a319-438a-a8e3-da0a2a620e10"
      },
      "outputs": [
        {
          "output_type": "execute_result",
          "data": {
            "text/plain": [
              "(3,)"
            ]
          },
          "metadata": {},
          "execution_count": 11
        }
      ],
      "source": [
        "data.shape"
      ]
    },
    {
      "cell_type": "code",
      "source": [
        "##Getting the shape of my array\n",
        "\n",
        "dat.shape"
      ],
      "metadata": {
        "colab": {
          "base_uri": "https://localhost:8080/"
        },
        "id": "q96FP9BPd3jB",
        "outputId": "73592a35-ddb4-4691-fe96-b4a73c68c522"
      },
      "execution_count": 12,
      "outputs": [
        {
          "output_type": "execute_result",
          "data": {
            "text/plain": [
              "(2, 3)"
            ]
          },
          "metadata": {},
          "execution_count": 12
        }
      ]
    },
    {
      "cell_type": "markdown",
      "metadata": {
        "id": "WCnvwe4Iw9oj"
      },
      "source": [
        "Every array also has a data type (dtype) which defines the type of all of the data values."
      ]
    },
    {
      "cell_type": "code",
      "execution_count": 13,
      "metadata": {
        "colab": {
          "base_uri": "https://localhost:8080/"
        },
        "id": "t30fImEINhgy",
        "outputId": "db795bf9-67bc-4ca7-895b-fb2b72160694"
      },
      "outputs": [
        {
          "output_type": "execute_result",
          "data": {
            "text/plain": [
              "dtype('int64')"
            ]
          },
          "metadata": {},
          "execution_count": 13
        }
      ],
      "source": [
        "data.dtype"
      ]
    },
    {
      "cell_type": "markdown",
      "metadata": {
        "id": "TTSJaprLxD8s"
      },
      "source": [
        "Here \"int\" means [integer](https://en.wikipedia.org/wiki/Integer), i.e., data values in this array should be interpreted as whole numbers."
      ]
    },
    {
      "cell_type": "code",
      "source": [
        "##Getting the dtype of values in my array\n",
        "\n",
        "dat.dtype"
      ],
      "metadata": {
        "colab": {
          "base_uri": "https://localhost:8080/"
        },
        "id": "qY0cgGeKeJvj",
        "outputId": "0a0df2dd-210b-46ae-a331-ae7aa0d2c22f"
      },
      "execution_count": 14,
      "outputs": [
        {
          "output_type": "execute_result",
          "data": {
            "text/plain": [
              "dtype('int64')"
            ]
          },
          "metadata": {},
          "execution_count": 14
        }
      ]
    },
    {
      "cell_type": "markdown",
      "metadata": {
        "id": "tDNogdx2Nim_"
      },
      "source": [
        "### Creating a 2-D array\n",
        "\n",
        "Let's create a 2-D array with three rows and two columns."
      ]
    },
    {
      "cell_type": "code",
      "execution_count": 15,
      "metadata": {
        "colab": {
          "base_uri": "https://localhost:8080/"
        },
        "id": "oDFUi_uxNpCI",
        "outputId": "90ea8259-de48-4902-b697-c02472f56fd0"
      },
      "outputs": [
        {
          "output_type": "execute_result",
          "data": {
            "text/plain": [
              "array([[1, 2],\n",
              "       [3, 4],\n",
              "       [5, 6]])"
            ]
          },
          "metadata": {},
          "execution_count": 15
        }
      ],
      "source": [
        "data_2d = np.array([[1, 2], [3, 4], [5, 6]])\n",
        "data_2d"
      ]
    },
    {
      "cell_type": "markdown",
      "metadata": {
        "id": "CiHOWGL5xacL"
      },
      "source": [
        "Here is a visual illustration of this 2-D array."
      ]
    },
    {
      "cell_type": "markdown",
      "metadata": {
        "id": "XZmuxfdJNrh5"
      },
      "source": [
        "<img src=\"https://numpy.org/doc/stable/_images/np_create_matrix.png\"></img>"
      ]
    },
    {
      "cell_type": "markdown",
      "metadata": {
        "id": "S1IfdXFaxexw"
      },
      "source": [
        "Again, let's access the attributes of this array to find out more about it."
      ]
    },
    {
      "cell_type": "code",
      "execution_count": 16,
      "metadata": {
        "colab": {
          "base_uri": "https://localhost:8080/"
        },
        "id": "om9MGsz3NzSz",
        "outputId": "dfed0f0e-aa8b-4867-bac8-62f4700fc52e"
      },
      "outputs": [
        {
          "output_type": "execute_result",
          "data": {
            "text/plain": [
              "2"
            ]
          },
          "metadata": {},
          "execution_count": 16
        }
      ],
      "source": [
        "data_2d.ndim"
      ]
    },
    {
      "cell_type": "code",
      "execution_count": 17,
      "metadata": {
        "colab": {
          "base_uri": "https://localhost:8080/"
        },
        "id": "-xdfDO_qL3ao",
        "outputId": "25b2289a-e21f-4b5c-f465-59d149179867"
      },
      "outputs": [
        {
          "output_type": "execute_result",
          "data": {
            "text/plain": [
              "6"
            ]
          },
          "metadata": {},
          "execution_count": 17
        }
      ],
      "source": [
        "data_2d.size"
      ]
    },
    {
      "cell_type": "code",
      "execution_count": 18,
      "metadata": {
        "colab": {
          "base_uri": "https://localhost:8080/"
        },
        "id": "UNEaU457N0ap",
        "outputId": "26c24124-8673-4c6b-9ba2-34f503c8d254"
      },
      "outputs": [
        {
          "output_type": "execute_result",
          "data": {
            "text/plain": [
              "(3, 2)"
            ]
          },
          "metadata": {},
          "execution_count": 18
        }
      ],
      "source": [
        "data_2d.shape"
      ]
    },
    {
      "cell_type": "code",
      "execution_count": 19,
      "metadata": {
        "colab": {
          "base_uri": "https://localhost:8080/"
        },
        "id": "ZM9MQB7oN1Cn",
        "outputId": "424e34e3-b8b7-420d-f538-059d47baae9c"
      },
      "outputs": [
        {
          "output_type": "execute_result",
          "data": {
            "text/plain": [
              "dtype('int64')"
            ]
          },
          "metadata": {},
          "execution_count": 19
        }
      ],
      "source": [
        "data_2d.dtype"
      ]
    },
    {
      "cell_type": "markdown",
      "metadata": {
        "id": "rcEMdbGRXL5y"
      },
      "source": [
        "### Creating a 3-D array\n",
        "\n",
        "Let's now create a 3-D array, with shape (2, 2, 2) - i.e., all dimensions are length 2."
      ]
    },
    {
      "cell_type": "code",
      "execution_count": 20,
      "metadata": {
        "colab": {
          "base_uri": "https://localhost:8080/"
        },
        "id": "D9cA3D4uXOsY",
        "outputId": "d3c293a8-9540-4f39-d278-fa9e83bb0da8"
      },
      "outputs": [
        {
          "output_type": "execute_result",
          "data": {
            "text/plain": [
              "array([[[1, 2],\n",
              "        [3, 4]],\n",
              "\n",
              "       [[5, 6],\n",
              "        [7, 8]]])"
            ]
          },
          "metadata": {},
          "execution_count": 20
        }
      ],
      "source": [
        "data_3d = np.array([[[1, 2], [3, 4]],\n",
        "                    [[5, 6], [7, 8]]])\n",
        "data_3d"
      ]
    },
    {
      "cell_type": "markdown",
      "metadata": {
        "id": "XVF_1StCXUkH"
      },
      "source": [
        "<img src=\"https://jalammar.github.io/images/numpy/numpy-3d-array.png\"/>"
      ]
    },
    {
      "cell_type": "markdown",
      "metadata": {
        "id": "2du6NmyAOSzy"
      },
      "source": [
        "## Some other array creation functions\n",
        "\n",
        "Often it is useful to create an array and initialise it such that all data values are set for us by NumPy. There are several functions for doing this, including [`np.ones()`](https://numpy.org/doc/stable/reference/generated/numpy.ones.html), [`np.zeros()`](https://numpy.org/doc/stable/reference/generated/numpy.zeros.html) and [`np.random.random()`](https://numpy.org/doc/stable/reference/random/generated/numpy.random.Generator.random.html#numpy.random.Generator.random)."
      ]
    },
    {
      "cell_type": "markdown",
      "metadata": {
        "id": "rwVA7htlmYDu"
      },
      "source": [
        "### 1-D arrays"
      ]
    },
    {
      "cell_type": "markdown",
      "metadata": {
        "id": "Wgg7ezLzy35e"
      },
      "source": [
        "Create an array with all data values initialised to one."
      ]
    },
    {
      "cell_type": "code",
      "execution_count": 21,
      "metadata": {
        "colab": {
          "base_uri": "https://localhost:8080/"
        },
        "id": "AFK46CLHOAKa",
        "outputId": "86dac92b-4f1e-4264-9382-5f25b60e2952"
      },
      "outputs": [
        {
          "output_type": "execute_result",
          "data": {
            "text/plain": [
              "array([1., 1., 1.])"
            ]
          },
          "metadata": {},
          "execution_count": 21
        }
      ],
      "source": [
        "ones = np.ones(3)\n",
        "ones"
      ]
    },
    {
      "cell_type": "code",
      "source": [
        "##Creating 4 ones\n",
        "one = np.ones(4)\n",
        "one"
      ],
      "metadata": {
        "colab": {
          "base_uri": "https://localhost:8080/"
        },
        "id": "7BwwUKX1fRKy",
        "outputId": "21772c0d-2afa-4af0-a138-661ae4a2315e"
      },
      "execution_count": 22,
      "outputs": [
        {
          "output_type": "execute_result",
          "data": {
            "text/plain": [
              "array([1., 1., 1., 1.])"
            ]
          },
          "metadata": {},
          "execution_count": 22
        }
      ]
    },
    {
      "cell_type": "code",
      "execution_count": 23,
      "metadata": {
        "colab": {
          "base_uri": "https://localhost:8080/"
        },
        "id": "X4M-jpjcQS7n",
        "outputId": "2e5a439b-3f7c-4b3b-c621-df432959b770"
      },
      "outputs": [
        {
          "output_type": "execute_result",
          "data": {
            "text/plain": [
              "1"
            ]
          },
          "metadata": {},
          "execution_count": 23
        }
      ],
      "source": [
        "ones.ndim"
      ]
    },
    {
      "cell_type": "code",
      "source": [
        "one.ndim"
      ],
      "metadata": {
        "colab": {
          "base_uri": "https://localhost:8080/"
        },
        "id": "Qgv4vRlUfbMa",
        "outputId": "8ab624c6-871b-408c-ec65-b9465bec0971"
      },
      "execution_count": 24,
      "outputs": [
        {
          "output_type": "execute_result",
          "data": {
            "text/plain": [
              "1"
            ]
          },
          "metadata": {},
          "execution_count": 24
        }
      ]
    },
    {
      "cell_type": "code",
      "execution_count": 25,
      "metadata": {
        "colab": {
          "base_uri": "https://localhost:8080/"
        },
        "id": "tXWlnFydMUVs",
        "outputId": "48ea7624-d6e2-4933-db72-abd4ed5dab18"
      },
      "outputs": [
        {
          "output_type": "execute_result",
          "data": {
            "text/plain": [
              "3"
            ]
          },
          "metadata": {},
          "execution_count": 25
        }
      ],
      "source": [
        "ones.size"
      ]
    },
    {
      "cell_type": "code",
      "source": [
        "one.size"
      ],
      "metadata": {
        "colab": {
          "base_uri": "https://localhost:8080/"
        },
        "id": "XuxcUJRJfk4X",
        "outputId": "539e133f-15de-4b37-b739-bc96aa859a7c"
      },
      "execution_count": 27,
      "outputs": [
        {
          "output_type": "execute_result",
          "data": {
            "text/plain": [
              "4"
            ]
          },
          "metadata": {},
          "execution_count": 27
        }
      ]
    },
    {
      "cell_type": "code",
      "execution_count": 28,
      "metadata": {
        "colab": {
          "base_uri": "https://localhost:8080/"
        },
        "id": "qf3yC0_WQRGJ",
        "outputId": "c90202a4-bfc2-482b-8da1-81735de23cb5"
      },
      "outputs": [
        {
          "output_type": "execute_result",
          "data": {
            "text/plain": [
              "(3,)"
            ]
          },
          "metadata": {},
          "execution_count": 28
        }
      ],
      "source": [
        "ones.shape"
      ]
    },
    {
      "cell_type": "code",
      "source": [
        "one.shape"
      ],
      "metadata": {
        "colab": {
          "base_uri": "https://localhost:8080/"
        },
        "id": "c2ilR8R3fuDS",
        "outputId": "31dc64a6-dc27-4b29-b6ed-ba49090135bc"
      },
      "execution_count": 29,
      "outputs": [
        {
          "output_type": "execute_result",
          "data": {
            "text/plain": [
              "(4,)"
            ]
          },
          "metadata": {},
          "execution_count": 29
        }
      ]
    },
    {
      "cell_type": "code",
      "execution_count": 30,
      "metadata": {
        "colab": {
          "base_uri": "https://localhost:8080/"
        },
        "id": "evZhzKcTQRtK",
        "outputId": "6b8808ca-67a8-4097-856b-e18ee21c3c5b"
      },
      "outputs": [
        {
          "output_type": "execute_result",
          "data": {
            "text/plain": [
              "dtype('float64')"
            ]
          },
          "metadata": {},
          "execution_count": 30
        }
      ],
      "source": [
        "ones.dtype"
      ]
    },
    {
      "cell_type": "code",
      "source": [
        "one.dtype"
      ],
      "metadata": {
        "colab": {
          "base_uri": "https://localhost:8080/"
        },
        "id": "SfrGRp-Bfx3O",
        "outputId": "7612fc42-6c43-409d-aba4-3e4daa6a9b61"
      },
      "execution_count": 31,
      "outputs": [
        {
          "output_type": "execute_result",
          "data": {
            "text/plain": [
              "dtype('float64')"
            ]
          },
          "metadata": {},
          "execution_count": 31
        }
      ]
    },
    {
      "cell_type": "markdown",
      "metadata": {
        "id": "981gyIwKy8QO"
      },
      "source": [
        "Note here the dtype is \"float64\". Here \"float\" means [floating-point number](https://en.wikipedia.org/wiki/Floating-point_arithmetic#Floating-point_numbers), i.e., the data values should be interpreted as real numbers (i.e., continuous quantities) with some degree of precision."
      ]
    },
    {
      "cell_type": "markdown",
      "metadata": {
        "id": "YnHgMcOBzl_z"
      },
      "source": [
        "Similarly, create an array with all data values initialised to zero."
      ]
    },
    {
      "cell_type": "code",
      "execution_count": 32,
      "metadata": {
        "colab": {
          "base_uri": "https://localhost:8080/"
        },
        "id": "xIVtPVk9OEO8",
        "outputId": "5c0710d4-b264-4c49-9098-cd6a22064b33"
      },
      "outputs": [
        {
          "output_type": "execute_result",
          "data": {
            "text/plain": [
              "array([0., 0., 0.])"
            ]
          },
          "metadata": {},
          "execution_count": 32
        }
      ],
      "source": [
        "zeros = np.zeros(3)\n",
        "zeros"
      ]
    },
    {
      "cell_type": "code",
      "source": [
        "##Creating 5 zeros\n",
        "zero = np.zeros(5)\n",
        "zero"
      ],
      "metadata": {
        "colab": {
          "base_uri": "https://localhost:8080/"
        },
        "id": "ysBxlickf8b2",
        "outputId": "cd2f7d8e-b718-43ba-d964-ed6cfedd4eeb"
      },
      "execution_count": 33,
      "outputs": [
        {
          "output_type": "execute_result",
          "data": {
            "text/plain": [
              "array([0., 0., 0., 0., 0.])"
            ]
          },
          "metadata": {},
          "execution_count": 33
        }
      ]
    },
    {
      "cell_type": "markdown",
      "metadata": {
        "id": "vaPcZy1Azqxb"
      },
      "source": [
        "Create an array with data values initialised using a random number generator."
      ]
    },
    {
      "cell_type": "code",
      "execution_count": 34,
      "metadata": {
        "colab": {
          "base_uri": "https://localhost:8080/"
        },
        "id": "XFJxImHaOIXP",
        "outputId": "23f60dd0-6bc2-4ed9-fe02-1af9223f9a46"
      },
      "outputs": [
        {
          "output_type": "execute_result",
          "data": {
            "text/plain": [
              "array([0.26620398, 0.43653661, 0.62576161])"
            ]
          },
          "metadata": {},
          "execution_count": 34
        }
      ],
      "source": [
        "foo = np.random.random(3)\n",
        "foo"
      ]
    },
    {
      "cell_type": "markdown",
      "metadata": {
        "id": "mgfPoHDkzxQD"
      },
      "source": [
        "Here are visual illustrations of the three arrays we just created."
      ]
    },
    {
      "cell_type": "markdown",
      "metadata": {
        "id": "_6vhDMWtOKvQ"
      },
      "source": [
        "<img src=\"https://numpy.org/doc/stable/_images/np_ones_zeros_random.png\"></img>"
      ]
    },
    {
      "cell_type": "markdown",
      "metadata": {
        "id": "n3y_HqwMRnYE"
      },
      "source": [
        "**Exercise 1 (English)**\n",
        "\n",
        "Uncomment and run the code cells below to answer the following questions.\n",
        "\n",
        "What is the number of dimensions of the `foo` array we created above?\n",
        "\n",
        "What is the number of items (size) of the `foo` array?\n",
        "\n",
        "What is the shape of the `foo` array?\n",
        "\n",
        "What is the data type of the `foo` array?\n",
        "\n",
        "Create an array of ten zeros.\n",
        "\n",
        "Create an array of one million random numbers.\n",
        "\n",
        "**Exercice 1 (Français)**\n",
        "\n",
        "Décommenter et exécuter les cellules de code ci-dessous pour répondre aux questions suivantes.\n",
        "\n",
        "Combien de dimensions a l'array `foo` que nous avons créé plus haut?\n",
        "\n",
        "Combien d'objets (taille) l'array `foo` contient-il?\n",
        "\n",
        "Quel est le type des données de l'array `foo`?\n",
        "\n",
        "Créer un array contenant dix zéros.\n",
        "\n",
        "Créer un array contenant un million de nombres aléatoires."
      ]
    },
    {
      "cell_type": "code",
      "execution_count": 35,
      "metadata": {
        "colab": {
          "base_uri": "https://localhost:8080/"
        },
        "id": "2tr8OsxLRnYE",
        "outputId": "bf2e0351-68c5-470e-f376-c452b54e982d"
      },
      "outputs": [
        {
          "output_type": "execute_result",
          "data": {
            "text/plain": [
              "1"
            ]
          },
          "metadata": {},
          "execution_count": 35
        }
      ],
      "source": [
        "##Dimensions of the foo array\n",
        "foo.ndim"
      ]
    },
    {
      "cell_type": "code",
      "execution_count": 37,
      "metadata": {
        "colab": {
          "base_uri": "https://localhost:8080/"
        },
        "id": "OOB_yO87RnYF",
        "outputId": "8ff19e5a-8bb5-43ce-e71a-52dfa795753e"
      },
      "outputs": [
        {
          "output_type": "execute_result",
          "data": {
            "text/plain": [
              "3"
            ]
          },
          "metadata": {},
          "execution_count": 37
        }
      ],
      "source": [
        "#Getting the number of items in foo\n",
        "foo.size"
      ]
    },
    {
      "cell_type": "code",
      "execution_count": 38,
      "metadata": {
        "colab": {
          "base_uri": "https://localhost:8080/"
        },
        "id": "22o0eUQ6RnYF",
        "outputId": "3d6518f4-dda3-48a6-afcb-8e9b739d4783"
      },
      "outputs": [
        {
          "output_type": "execute_result",
          "data": {
            "text/plain": [
              "(3,)"
            ]
          },
          "metadata": {},
          "execution_count": 38
        }
      ],
      "source": [
        "#Number 3\n",
        "foo.shape"
      ]
    },
    {
      "cell_type": "code",
      "execution_count": 39,
      "metadata": {
        "colab": {
          "base_uri": "https://localhost:8080/"
        },
        "id": "Sm8n2WUHRnYG",
        "outputId": "67815cc9-94e0-4962-9060-46e0b839d2d6"
      },
      "outputs": [
        {
          "output_type": "execute_result",
          "data": {
            "text/plain": [
              "dtype('float64')"
            ]
          },
          "metadata": {},
          "execution_count": 39
        }
      ],
      "source": [
        "#Number 4\n",
        "foo.dtype"
      ]
    },
    {
      "cell_type": "code",
      "execution_count": 40,
      "metadata": {
        "colab": {
          "base_uri": "https://localhost:8080/"
        },
        "id": "iPoIkI19RnYG",
        "outputId": "e93ef1e5-d6e0-4b90-8f07-91350d94b0de"
      },
      "outputs": [
        {
          "output_type": "execute_result",
          "data": {
            "text/plain": [
              "array([0., 0., 0., 0., 0., 0., 0., 0., 0., 0.])"
            ]
          },
          "metadata": {},
          "execution_count": 40
        }
      ],
      "source": [
        "#Number 5\n",
        "bar = np.zeros(10)\n",
        "bar"
      ]
    },
    {
      "cell_type": "code",
      "execution_count": 41,
      "metadata": {
        "colab": {
          "base_uri": "https://localhost:8080/"
        },
        "id": "5z-afvhNRnYH",
        "outputId": "dfbb5cd1-6d14-4aec-c608-62e53f496697"
      },
      "outputs": [
        {
          "output_type": "execute_result",
          "data": {
            "text/plain": [
              "array([0.13621868, 0.21757417, 0.37261654, ..., 0.47380519, 0.52312024,\n",
              "       0.55785225])"
            ]
          },
          "metadata": {},
          "execution_count": 41
        }
      ],
      "source": [
        "##Number 6\n",
        "baz = np.random.random(1_000_000)\n",
        "baz"
      ]
    },
    {
      "cell_type": "markdown",
      "metadata": {
        "id": "awfb2jYTmd5V"
      },
      "source": [
        "### 2-D arrays\n",
        "\n",
        "We can also created 2-D arrays via the same functions, by passing the shape of the desired array as the first parameter.\n",
        "\n",
        "E.g., create an array with three rows and two columns with all data values initialised to one."
      ]
    },
    {
      "cell_type": "code",
      "execution_count": 42,
      "metadata": {
        "colab": {
          "base_uri": "https://localhost:8080/"
        },
        "id": "QmhSadw9N1u7",
        "outputId": "dcf45b31-ce81-4266-f74e-96b57297d8ed"
      },
      "outputs": [
        {
          "output_type": "execute_result",
          "data": {
            "text/plain": [
              "array([[1., 1.],\n",
              "       [1., 1.],\n",
              "       [1., 1.]])"
            ]
          },
          "metadata": {},
          "execution_count": 42
        }
      ],
      "source": [
        "ones_2d = np.ones((3, 2))\n",
        "ones_2d"
      ]
    },
    {
      "cell_type": "markdown",
      "metadata": {
        "id": "xUu50zbc0ibk"
      },
      "source": [
        "E.g., create an array with three rows and two columns with all data values initialised to zero."
      ]
    },
    {
      "cell_type": "code",
      "execution_count": 43,
      "metadata": {
        "colab": {
          "base_uri": "https://localhost:8080/"
        },
        "id": "3B3PdaCnPv9l",
        "outputId": "195145a9-6ee0-4597-e9f7-1903e9031cad"
      },
      "outputs": [
        {
          "output_type": "execute_result",
          "data": {
            "text/plain": [
              "array([[0., 0.],\n",
              "       [0., 0.],\n",
              "       [0., 0.]])"
            ]
          },
          "metadata": {},
          "execution_count": 43
        }
      ],
      "source": [
        "zeros_2d = np.zeros((3, 2))\n",
        "zeros_2d"
      ]
    },
    {
      "cell_type": "markdown",
      "metadata": {
        "id": "sx6bUSr70sWr"
      },
      "source": [
        "E.g., create an array with three rows and two columns, initialised with random numbers."
      ]
    },
    {
      "cell_type": "code",
      "execution_count": 44,
      "metadata": {
        "colab": {
          "base_uri": "https://localhost:8080/"
        },
        "id": "7pMr6IOKPzMv",
        "outputId": "6861e12e-b457-4c75-925e-83bb03e0f1e3"
      },
      "outputs": [
        {
          "output_type": "execute_result",
          "data": {
            "text/plain": [
              "array([[0.32725795, 0.76165834],\n",
              "       [0.22427149, 0.33326978],\n",
              "       [0.55795253, 0.99740032]])"
            ]
          },
          "metadata": {},
          "execution_count": 44
        }
      ],
      "source": [
        "bar = np.random.random((3, 2))\n",
        "bar"
      ]
    },
    {
      "cell_type": "markdown",
      "metadata": {
        "id": "JJU4psxV0xbe"
      },
      "source": [
        "Here's an illustration of the 2-D arrays we created."
      ]
    },
    {
      "cell_type": "markdown",
      "metadata": {
        "id": "OVDysxxqP2cO"
      },
      "source": [
        "<img src=\"https://numpy.org/doc/stable/_images/np_ones_zeros_matrix.png\"/>"
      ]
    },
    {
      "cell_type": "markdown",
      "metadata": {
        "id": "59yrd15HRnYK"
      },
      "source": [
        "**Exercise 2 (English)**\n",
        "\n",
        "Create a 2-D array of random numbers with 1,000 rows and 500 columns. Check the values of the `ndim`, `size`, `shape` and `dtype` attributes.\n",
        "\n",
        "**Exercice 2 (Français)**\n",
        "\n",
        "Créer un array de dimension 2 contenant 1000 lignes et 500 colonnes de nombres aléatoires. Vérifier les valeurs des attributs `ndim`, `size`, `shape` et `dtype`."
      ]
    },
    {
      "cell_type": "code",
      "source": [
        "##Exercise 2\n",
        "best = np.random.random((1000,500))\n",
        "\n",
        "#Getting ndim\n",
        "print(best.ndim)\n",
        "print(best.size)\n",
        "print(best.shape)\n",
        "print(best.dtype)\n"
      ],
      "metadata": {
        "colab": {
          "base_uri": "https://localhost:8080/"
        },
        "id": "TbFk8TM4hqkZ",
        "outputId": "5600d457-78bc-451e-ccad-268fa7cf495b"
      },
      "execution_count": 47,
      "outputs": [
        {
          "output_type": "stream",
          "name": "stdout",
          "text": [
            "2\n",
            "500000\n",
            "(1000, 500)\n",
            "float64\n"
          ]
        }
      ]
    },
    {
      "cell_type": "markdown",
      "metadata": {
        "id": "Go95PYOeQCSW"
      },
      "source": [
        "## Accessing elements of an array (indexing and slicing)\n",
        "\n",
        "The data values of an array can be accessed by using the square bracket notation. Remember that indices start from zero in Python."
      ]
    },
    {
      "cell_type": "markdown",
      "metadata": {
        "id": "Y2aB3O7HZI3T"
      },
      "source": [
        "### 1-D arrays"
      ]
    },
    {
      "cell_type": "code",
      "execution_count": 48,
      "metadata": {
        "colab": {
          "base_uri": "https://localhost:8080/"
        },
        "id": "nriRtxTEOBt9",
        "outputId": "3ebcade7-4916-4dd0-a7ec-c16abd4d5a72"
      },
      "outputs": [
        {
          "output_type": "execute_result",
          "data": {
            "text/plain": [
              "array([1, 2, 3])"
            ]
          },
          "metadata": {},
          "execution_count": 48
        }
      ],
      "source": [
        "data = np.array([1, 2, 3])\n",
        "data"
      ]
    },
    {
      "cell_type": "markdown",
      "metadata": {
        "id": "rkTa4PhwYFbG"
      },
      "source": [
        "<img src=\"https://numpy.org/doc/stable/_images/np_array.png\"></img>"
      ]
    },
    {
      "cell_type": "markdown",
      "metadata": {
        "id": "T7YG72B81HKV"
      },
      "source": [
        "For 1-D arrays, we write a single index in the square brackets.\n",
        "\n",
        "E.g., access the data value in the first element of the array:"
      ]
    },
    {
      "cell_type": "code",
      "execution_count": 49,
      "metadata": {
        "colab": {
          "base_uri": "https://localhost:8080/"
        },
        "id": "6GvCF-sxOG6Q",
        "outputId": "aa433b87-4bd8-4e2c-b111-197d0e535ba9"
      },
      "outputs": [
        {
          "output_type": "execute_result",
          "data": {
            "text/plain": [
              "1"
            ]
          },
          "metadata": {},
          "execution_count": 49
        }
      ],
      "source": [
        "data[0]"
      ]
    },
    {
      "cell_type": "markdown",
      "metadata": {
        "id": "c0PHm6R41SUS"
      },
      "source": [
        "Access the second element:"
      ]
    },
    {
      "cell_type": "code",
      "execution_count": 50,
      "metadata": {
        "colab": {
          "base_uri": "https://localhost:8080/"
        },
        "id": "lZqN1WhqOH6N",
        "outputId": "98cdc7bd-00f0-4849-8cd4-e431dd730d76"
      },
      "outputs": [
        {
          "output_type": "execute_result",
          "data": {
            "text/plain": [
              "2"
            ]
          },
          "metadata": {},
          "execution_count": 50
        }
      ],
      "source": [
        "data[1]"
      ]
    },
    {
      "cell_type": "markdown",
      "metadata": {
        "id": "LEPLH8TZ1Ujh"
      },
      "source": [
        "We can also access a contiguous region of an array using the slicing notation, by writing the start and stop indices separated by a colon. Note that this will return a new array. Remember that the start index is included, but the stop index is not.\n",
        "\n",
        "E.g., access the first two elements:"
      ]
    },
    {
      "cell_type": "code",
      "execution_count": 51,
      "metadata": {
        "colab": {
          "base_uri": "https://localhost:8080/"
        },
        "id": "ZEnRpHHlOIc5",
        "outputId": "02682832-38fa-4c44-f7d2-1edf5093eec6"
      },
      "outputs": [
        {
          "output_type": "execute_result",
          "data": {
            "text/plain": [
              "array([1, 2])"
            ]
          },
          "metadata": {},
          "execution_count": 51
        }
      ],
      "source": [
        "data[0:2]"
      ]
    },
    {
      "cell_type": "markdown",
      "metadata": {
        "id": "CDcEcJfh1g07"
      },
      "source": [
        "Access the second and all subsequent elements:"
      ]
    },
    {
      "cell_type": "code",
      "execution_count": 52,
      "metadata": {
        "colab": {
          "base_uri": "https://localhost:8080/"
        },
        "id": "2iB353RbOJZm",
        "outputId": "9cf505b7-9b0f-4591-a635-daaca0dd7e56"
      },
      "outputs": [
        {
          "output_type": "execute_result",
          "data": {
            "text/plain": [
              "array([2, 3])"
            ]
          },
          "metadata": {},
          "execution_count": 52
        }
      ],
      "source": [
        "data[1:]"
      ]
    },
    {
      "cell_type": "markdown",
      "metadata": {
        "id": "Z34qHq7r1mff"
      },
      "source": [
        "Negative indices can also be used, and count backwards from the end of an array.\n",
        "\n",
        "E.g., access the second from last and all subsequent elements:"
      ]
    },
    {
      "cell_type": "code",
      "execution_count": 53,
      "metadata": {
        "colab": {
          "base_uri": "https://localhost:8080/"
        },
        "id": "BwCImQn1OKNl",
        "outputId": "47493b3c-b250-4dbf-cce5-7830b724722c"
      },
      "outputs": [
        {
          "output_type": "execute_result",
          "data": {
            "text/plain": [
              "array([2, 3])"
            ]
          },
          "metadata": {},
          "execution_count": 53
        }
      ],
      "source": [
        "data[-2:]"
      ]
    },
    {
      "cell_type": "markdown",
      "metadata": {
        "id": "qrvToOJ51ulq"
      },
      "source": [
        "Here is an illustration of the array we created, and the results of indexing the array in different ways."
      ]
    },
    {
      "cell_type": "markdown",
      "metadata": {
        "id": "m2xIVfODONop"
      },
      "source": [
        "<img src=\"https://numpy.org/doc/stable/_images/np_indexing.png\"/>"
      ]
    },
    {
      "cell_type": "markdown",
      "metadata": {
        "id": "Tuz1J9CmRnYS"
      },
      "source": [
        "**Exercise 3 (English)**\n",
        "\n",
        "Create a new 1-D array initialised with the data values `[0, 5, 23, 37, 42, 54, 61, 79, 88, 90]`.\n",
        "\n",
        "Using indexing to access the data value in the fifth element of the array.\n",
        "\n",
        "Access the final element of the array.\n",
        "\n",
        "Using slicing to access the third, fourth and fifth elements of the array.\n",
        "\n",
        "**Exercice 3 (Français)**\n",
        "\n",
        "Créer un array de dimension 1 contenant les valeurs `[0, 5, 23, 37, 42, 54, 61, 79, 88, 90]`.\n",
        "\n",
        "Utiliser un index pour accéder à la valeur du cinquième élément de cet array.\n",
        "\n",
        "Accéder au dernier élément de cet array.\n",
        "\n",
        "Utiliser une tranche pour accéder au troisième, quatrième et cinquième éléments de cet array."
      ]
    },
    {
      "cell_type": "code",
      "source": [
        "##Exercise 3\n",
        "\n",
        "new = np.array([0, 5, 23, 37, 42, 54, 61, 79, 88, 90])\n",
        "print(new)\n",
        "#Fifth element\n",
        "print(new[4])\n",
        "print(new[-1])\n",
        "print(new[2:5])"
      ],
      "metadata": {
        "colab": {
          "base_uri": "https://localhost:8080/"
        },
        "id": "sZtBU9K8jw_9",
        "outputId": "89aad1db-3c91-472a-8d6f-f4b11e120ad1"
      },
      "execution_count": 4,
      "outputs": [
        {
          "output_type": "stream",
          "name": "stdout",
          "text": [
            "[ 0  5 23 37 42 54 61 79 88 90]\n",
            "42\n",
            "90\n",
            "[23 37 42]\n"
          ]
        }
      ]
    },
    {
      "cell_type": "markdown",
      "metadata": {
        "id": "ZBQq3WjMZK3p"
      },
      "source": [
        "### 2-D arrays\n",
        "\n",
        "2-D arrays can also be indexed using the square bracket notation. Here, because there are two dimensions, we need to provide two indices, one for each dimension."
      ]
    },
    {
      "cell_type": "code",
      "execution_count": 5,
      "metadata": {
        "colab": {
          "base_uri": "https://localhost:8080/"
        },
        "id": "PeIvS7SKOT_O",
        "outputId": "7c37cf75-8589-4038-e2e6-d3ce6578c4db"
      },
      "outputs": [
        {
          "output_type": "execute_result",
          "data": {
            "text/plain": [
              "array([[1, 2],\n",
              "       [3, 4],\n",
              "       [5, 6]])"
            ]
          },
          "metadata": {},
          "execution_count": 5
        }
      ],
      "source": [
        "data = np.array([[1, 2], [3, 4], [5, 6]])\n",
        "data"
      ]
    },
    {
      "cell_type": "markdown",
      "metadata": {
        "id": "R_LNPHQLX4r3"
      },
      "source": [
        "<img src=\"https://numpy.org/doc/stable/_images/np_create_matrix.png\"/>"
      ]
    },
    {
      "cell_type": "markdown",
      "metadata": {
        "id": "WfLnpg4V2DWw"
      },
      "source": [
        "E.g., access the data value in the first row, second column:"
      ]
    },
    {
      "cell_type": "code",
      "execution_count": 6,
      "metadata": {
        "colab": {
          "base_uri": "https://localhost:8080/"
        },
        "id": "joJpQNFtYRTb",
        "outputId": "aca90bed-7d4c-4638-9bac-c1462d6ec358"
      },
      "outputs": [
        {
          "output_type": "execute_result",
          "data": {
            "text/plain": [
              "2"
            ]
          },
          "metadata": {},
          "execution_count": 6
        }
      ],
      "source": [
        "data[0, 1]"
      ]
    },
    {
      "cell_type": "markdown",
      "metadata": {
        "id": "Pd6X8ikq2HFr"
      },
      "source": [
        "We can also slice 2-D arrays.\n",
        "\n",
        "E.g., access the second and all subsequent rows, and all columns:"
      ]
    },
    {
      "cell_type": "code",
      "execution_count": 7,
      "metadata": {
        "colab": {
          "base_uri": "https://localhost:8080/"
        },
        "id": "qVfIg6PBYTM8",
        "outputId": "39c8fcee-33fa-4a1d-b8f3-c1eb95a1a56d"
      },
      "outputs": [
        {
          "output_type": "execute_result",
          "data": {
            "text/plain": [
              "array([[3, 4],\n",
              "       [5, 6]])"
            ]
          },
          "metadata": {},
          "execution_count": 7
        }
      ],
      "source": [
        "data[1:3]"
      ]
    },
    {
      "cell_type": "markdown",
      "metadata": {
        "id": "7Oq9LT09Tdhi"
      },
      "source": [
        "To be more explicit, we could also provide the slice we require along the second dimension, i.e., all columns:"
      ]
    },
    {
      "cell_type": "code",
      "execution_count": 8,
      "metadata": {
        "colab": {
          "base_uri": "https://localhost:8080/"
        },
        "id": "aPiaCS6Q9606",
        "outputId": "f27cba4e-9762-4485-fd11-69376f422aac"
      },
      "outputs": [
        {
          "output_type": "execute_result",
          "data": {
            "text/plain": [
              "array([[3, 4],\n",
              "       [5, 6]])"
            ]
          },
          "metadata": {},
          "execution_count": 8
        }
      ],
      "source": [
        "data[1:3, :]"
      ]
    },
    {
      "cell_type": "markdown",
      "metadata": {
        "id": "BV1vcgd92LKq"
      },
      "source": [
        "Access the first two rows, first column:"
      ]
    },
    {
      "cell_type": "code",
      "execution_count": 9,
      "metadata": {
        "colab": {
          "base_uri": "https://localhost:8080/"
        },
        "id": "8Kn_nAu_YUtQ",
        "outputId": "c7afc09a-fe3d-4b2f-c4fc-a0630c8774d5"
      },
      "outputs": [
        {
          "output_type": "execute_result",
          "data": {
            "text/plain": [
              "array([1, 3])"
            ]
          },
          "metadata": {},
          "execution_count": 9
        }
      ],
      "source": [
        "data[0:2, 0]"
      ]
    },
    {
      "cell_type": "markdown",
      "metadata": {
        "id": "St_bXl4x2OrJ"
      },
      "source": [
        "Here's an illustration of these indexing operations on a 2-D array:"
      ]
    },
    {
      "cell_type": "markdown",
      "metadata": {
        "id": "7yv5k32hYXhJ"
      },
      "source": [
        "<img src=\"https://numpy.org/doc/stable/_images/np_matrix_indexing.png\"/>"
      ]
    },
    {
      "cell_type": "markdown",
      "metadata": {
        "id": "65mEdJS1RnYe"
      },
      "source": [
        "**Exercise 4 (English)**\n",
        "\n",
        "Create a new 2-D array initialised with the data values `[[0, 5, 23], [37, 42, 54], [61, 79, 88]]`.\n",
        "\n",
        "Use indexing to access the data value in second row, third column of the array.\n",
        "\n",
        "Use slicing to access the first and second rows of the array.\n",
        "\n",
        "Access the last two values in the second column of the array.\n",
        "\n",
        "**Exercice 4 (Français)**\n",
        "\n",
        "Créer un nouvel array de dimension 2 contenant les valeurs `[[0, 5, 23], [37, 42, 54], [61, 79, 88]]`.\n",
        "\n",
        "Utiliser les indexes pour accéder à la valeur se trouvant à la deuxième ligne, troisième colonne de cet array.\n",
        "\n",
        "Utiliser une tranche pour accéder à la première et à la seconde ligne de cet array.\n",
        "\n",
        "Accéder aux deux dernières valeurs de la seconde colonne de cet array."
      ]
    },
    {
      "cell_type": "markdown",
      "metadata": {
        "id": "gmUr7sRlYbT3"
      },
      "source": [
        "## Basic mathematical operations with arrays\n",
        "\n",
        "One of the most powerful features of NumPy arrays is that you can use them to perform mathematical operations. In particular, you can apply mathematical operations between entire arrays, without having to write any `for` loops. Let's see this in action."
      ]
    },
    {
      "cell_type": "markdown",
      "metadata": {
        "id": "wbn0J1GjbLCc"
      },
      "source": [
        "### 1-D arrays\n",
        "\n",
        "To demonstrate, let's create two arrays."
      ]
    },
    {
      "cell_type": "code",
      "execution_count": 11,
      "metadata": {
        "id": "lhlgJLq3ZaGh"
      },
      "outputs": [],
      "source": [
        "data = np.array([1, 2])\n",
        "ones = np.ones(2)"
      ]
    },
    {
      "cell_type": "markdown",
      "metadata": {
        "id": "-biCC58QZdcs"
      },
      "source": [
        "<img src=\"https://numpy.org/doc/stable/_images/np_array_dataones.png\"/>"
      ]
    },
    {
      "cell_type": "markdown",
      "metadata": {
        "id": "Mo_ZDoXS8xSP"
      },
      "source": [
        "Now, add these two arrays together."
      ]
    },
    {
      "cell_type": "code",
      "execution_count": 12,
      "metadata": {
        "colab": {
          "base_uri": "https://localhost:8080/"
        },
        "id": "IZ2dmw-eZgU4",
        "outputId": "137d5270-fc14-426d-8013-31f4474faf74"
      },
      "outputs": [
        {
          "output_type": "execute_result",
          "data": {
            "text/plain": [
              "array([2., 3.])"
            ]
          },
          "metadata": {},
          "execution_count": 12
        }
      ],
      "source": [
        "result = data + ones\n",
        "result"
      ]
    },
    {
      "cell_type": "markdown",
      "metadata": {
        "id": "bOKOuaVm83G_"
      },
      "source": [
        "Each element of the `data` array has been added to each element of the `ones` array, to create a new array that we've assigned to the variable named `result`. This is an example of an elementwise computation that NumPy performs for us.\n",
        "\n",
        "Here's an illustration of this computation:"
      ]
    },
    {
      "cell_type": "markdown",
      "metadata": {
        "id": "R4ODsQr7Zir_"
      },
      "source": [
        "<img src=\"https://numpy.org/doc/stable/_images/np_data_plus_ones.png\"/>"
      ]
    },
    {
      "cell_type": "markdown",
      "metadata": {
        "id": "QjVtOgDC9U3Q"
      },
      "source": [
        "Similarly, we can subtract, multiply and divide arrays."
      ]
    },
    {
      "cell_type": "code",
      "execution_count": 13,
      "metadata": {
        "colab": {
          "base_uri": "https://localhost:8080/"
        },
        "id": "JjRK8TeBZn08",
        "outputId": "b0f41d0a-f31c-483e-bb23-3695592d6ab7"
      },
      "outputs": [
        {
          "output_type": "execute_result",
          "data": {
            "text/plain": [
              "array([0., 1.])"
            ]
          },
          "metadata": {},
          "execution_count": 13
        }
      ],
      "source": [
        "data - ones"
      ]
    },
    {
      "cell_type": "code",
      "execution_count": 14,
      "metadata": {
        "colab": {
          "base_uri": "https://localhost:8080/"
        },
        "id": "jLu-aB6cZuio",
        "outputId": "c65253da-6b5b-4fc2-a5ab-4ba704f9ae72"
      },
      "outputs": [
        {
          "output_type": "execute_result",
          "data": {
            "text/plain": [
              "array([1, 4])"
            ]
          },
          "metadata": {},
          "execution_count": 14
        }
      ],
      "source": [
        "data * data"
      ]
    },
    {
      "cell_type": "code",
      "execution_count": 15,
      "metadata": {
        "colab": {
          "base_uri": "https://localhost:8080/"
        },
        "id": "n6ZmOISrZv-c",
        "outputId": "aeee9edc-50db-4f44-923c-7c4e0833b945"
      },
      "outputs": [
        {
          "output_type": "execute_result",
          "data": {
            "text/plain": [
              "array([1., 1.])"
            ]
          },
          "metadata": {},
          "execution_count": 15
        }
      ],
      "source": [
        "data / data"
      ]
    },
    {
      "cell_type": "markdown",
      "metadata": {
        "id": "aO5NPxA7Zxo2"
      },
      "source": [
        "<img src=\"https://numpy.org/doc/stable/_images/np_sub_mult_divide.png\"/>"
      ]
    },
    {
      "cell_type": "markdown",
      "metadata": {
        "id": "lKiAkG2-9v3v"
      },
      "source": [
        "You can also perform arithmetic between arrays and a single number (also known as a scalar). E.g., multiply all values in the `data` array by the number 1.6:"
      ]
    },
    {
      "cell_type": "code",
      "execution_count": 16,
      "metadata": {
        "colab": {
          "base_uri": "https://localhost:8080/"
        },
        "id": "Ki_Zg2CLZ1EX",
        "outputId": "89213953-36cb-4dd3-b0e5-00c99c049752"
      },
      "outputs": [
        {
          "output_type": "execute_result",
          "data": {
            "text/plain": [
              "array([1.6, 3.2])"
            ]
          },
          "metadata": {},
          "execution_count": 16
        }
      ],
      "source": [
        "data * 1.6"
      ]
    },
    {
      "cell_type": "markdown",
      "metadata": {
        "id": "BeUy9KmF95X5"
      },
      "source": [
        "Here, NumPy has guessed that we want to multiply each element of the `data` array. Do it has \"broadcast\" the scalar value 1.6 to an array of the same shape as `data`. This is an illustration of what happened:"
      ]
    },
    {
      "cell_type": "markdown",
      "metadata": {
        "id": "TtZp7WojaF-8"
      },
      "source": [
        "<img src=\"https://numpy.org/doc/stable/_images/np_multiply_broadcasting.png\"/>"
      ]
    },
    {
      "cell_type": "markdown",
      "metadata": {
        "id": "JA1av9fw-G5l"
      },
      "source": [
        "As well as arithmetic, you can also perform comparisons. E.g., compute all values in the `data` array that are greater than one:"
      ]
    },
    {
      "cell_type": "code",
      "execution_count": 17,
      "metadata": {
        "colab": {
          "base_uri": "https://localhost:8080/"
        },
        "id": "q3IgyT182fiM",
        "outputId": "9f4d682d-3659-45eb-d0fb-f0511342c01b"
      },
      "outputs": [
        {
          "output_type": "execute_result",
          "data": {
            "text/plain": [
              "array([False,  True])"
            ]
          },
          "metadata": {},
          "execution_count": 17
        }
      ],
      "source": [
        "result = data > 1\n",
        "result"
      ]
    },
    {
      "cell_type": "markdown",
      "metadata": {
        "id": "DCF4xkYT-QX8"
      },
      "source": [
        "Note that the result is an array of Boolean values (either True or False)."
      ]
    },
    {
      "cell_type": "code",
      "execution_count": 18,
      "metadata": {
        "colab": {
          "base_uri": "https://localhost:8080/"
        },
        "id": "CQfvLWJA-V17",
        "outputId": "aa813528-1e4c-4e5e-a6cb-095d2ea72e39"
      },
      "outputs": [
        {
          "output_type": "execute_result",
          "data": {
            "text/plain": [
              "dtype('bool')"
            ]
          },
          "metadata": {},
          "execution_count": 18
        }
      ],
      "source": [
        "result.dtype"
      ]
    },
    {
      "cell_type": "markdown",
      "metadata": {
        "id": "1aOUt2SDbNwl"
      },
      "source": [
        "### 2-D arrays\n",
        "\n",
        "All of the same mathematical operations can be performed with 2-D arrays as well.\n",
        "\n",
        "E.g., add two arrays:"
      ]
    },
    {
      "cell_type": "code",
      "execution_count": 19,
      "metadata": {
        "colab": {
          "base_uri": "https://localhost:8080/"
        },
        "id": "kJKqkzsWbOyS",
        "outputId": "c65a9b16-eea3-47a6-be91-6760a42a8d64"
      },
      "outputs": [
        {
          "output_type": "execute_result",
          "data": {
            "text/plain": [
              "array([[2., 3.],\n",
              "       [4., 5.]])"
            ]
          },
          "metadata": {},
          "execution_count": 19
        }
      ],
      "source": [
        "data = np.array([[1, 2], [3, 4]])\n",
        "ones = np.ones((2, 2))\n",
        "data + ones"
      ]
    },
    {
      "cell_type": "markdown",
      "metadata": {
        "id": "LqhiGJAubWMz"
      },
      "source": [
        "<img src=\"https://numpy.org/doc/stable/_images/np_matrix_arithmetic.png\"/>"
      ]
    },
    {
      "cell_type": "markdown",
      "metadata": {
        "id": "0SA3Biah-hym"
      },
      "source": [
        "E.g., multiply an  array by a scalar:"
      ]
    },
    {
      "cell_type": "code",
      "execution_count": 20,
      "metadata": {
        "colab": {
          "base_uri": "https://localhost:8080/"
        },
        "id": "6fcK_TZzbcvm",
        "outputId": "b59a496b-fb53-4fee-e7f8-aeab9608f9b7"
      },
      "outputs": [
        {
          "output_type": "execute_result",
          "data": {
            "text/plain": [
              "array([[1.6, 3.2],\n",
              "       [4.8, 6.4]])"
            ]
          },
          "metadata": {},
          "execution_count": 20
        }
      ],
      "source": [
        "data * 1.6"
      ]
    },
    {
      "cell_type": "markdown",
      "metadata": {
        "id": "kAYvJJj7-k5O"
      },
      "source": [
        "E.g., compare an array with a scalar:"
      ]
    },
    {
      "cell_type": "code",
      "execution_count": 21,
      "metadata": {
        "colab": {
          "base_uri": "https://localhost:8080/"
        },
        "id": "pPhLfTHF2kSl",
        "outputId": "7c0ca277-cda3-4afb-8662-35eb723d7b86"
      },
      "outputs": [
        {
          "output_type": "execute_result",
          "data": {
            "text/plain": [
              "array([[False,  True],\n",
              "       [ True,  True]])"
            ]
          },
          "metadata": {},
          "execution_count": 21
        }
      ],
      "source": [
        "data > 1"
      ]
    },
    {
      "cell_type": "markdown",
      "metadata": {
        "id": "Y-iYF_7xRnYr"
      },
      "source": [
        "**Exercise 5 (English)**\n",
        "\n",
        "Create a new array initialised with the data values `[[0, 5, 23], [37, 42, 54], [61, 79, 88]]`.\n",
        "\n",
        "Multiply this array by itself.\n",
        "\n",
        "Add one to every element of this array.\n",
        "\n",
        "**Exercice 5 (Français)**\n",
        "\n",
        "Créer un nouvel array initialisé avec les valeurs `[[0, 5, 23], [37, 42, 54], [61, 79, 88]]`.\n",
        "\n",
        "Multiplier cet array par lui-même.\n",
        "\n",
        "Ajouter un à chaque élément de cet array."
      ]
    },
    {
      "cell_type": "markdown",
      "metadata": {
        "id": "uu8v0wfZaJer"
      },
      "source": [
        "## Aggregations\n",
        "\n",
        "NumPy also provides some aggregation functions, including `max()`, `min()`, `sum()`, and `count_nonzero()`, which you can use with arrays.\n",
        "\n",
        "Note that `max()`, `min()` and `sum()` can be called in two different ways: either as methods of an array, or as a function."
      ]
    },
    {
      "cell_type": "markdown",
      "metadata": {
        "id": "_7VHw2rOa3cZ"
      },
      "source": [
        "### 1-D arrays\n",
        "\n",
        "Here are examples of aggregation functions used with a 1-D array."
      ]
    },
    {
      "cell_type": "code",
      "execution_count": 22,
      "metadata": {
        "id": "yoHju24HabiY"
      },
      "outputs": [],
      "source": [
        "data = np.array([1, 2, 3])"
      ]
    },
    {
      "cell_type": "code",
      "execution_count": 23,
      "metadata": {
        "colab": {
          "base_uri": "https://localhost:8080/"
        },
        "id": "iAmqdT0jaky7",
        "outputId": "e5bfb536-4e76-4641-c70b-319aa3437c11"
      },
      "outputs": [
        {
          "output_type": "execute_result",
          "data": {
            "text/plain": [
              "3"
            ]
          },
          "metadata": {},
          "execution_count": 23
        }
      ],
      "source": [
        "data.max()"
      ]
    },
    {
      "cell_type": "code",
      "execution_count": 24,
      "metadata": {
        "colab": {
          "base_uri": "https://localhost:8080/"
        },
        "id": "IE3gMna4br6w",
        "outputId": "bd1cb9dd-4740-4566-afeb-45e730a702cc"
      },
      "outputs": [
        {
          "output_type": "execute_result",
          "data": {
            "text/plain": [
              "3"
            ]
          },
          "metadata": {},
          "execution_count": 24
        }
      ],
      "source": [
        "np.max(data)"
      ]
    },
    {
      "cell_type": "code",
      "execution_count": 25,
      "metadata": {
        "colab": {
          "base_uri": "https://localhost:8080/"
        },
        "id": "5Zl8bHZyalvg",
        "outputId": "c211bae8-ff1d-4e93-c7cd-accb8b396f6b"
      },
      "outputs": [
        {
          "output_type": "execute_result",
          "data": {
            "text/plain": [
              "1"
            ]
          },
          "metadata": {},
          "execution_count": 25
        }
      ],
      "source": [
        "data.min()"
      ]
    },
    {
      "cell_type": "code",
      "execution_count": 26,
      "metadata": {
        "colab": {
          "base_uri": "https://localhost:8080/"
        },
        "id": "OPz27potamTI",
        "outputId": "50627f0b-82f7-40e6-c0a3-7b20d2de44d6"
      },
      "outputs": [
        {
          "output_type": "execute_result",
          "data": {
            "text/plain": [
              "6"
            ]
          },
          "metadata": {},
          "execution_count": 26
        }
      ],
      "source": [
        "data.sum()"
      ]
    },
    {
      "cell_type": "markdown",
      "metadata": {
        "id": "K_VMXBl_am-o"
      },
      "source": [
        "<img src=\"https://numpy.org/doc/stable/_images/np_aggregation.png\"/>"
      ]
    },
    {
      "cell_type": "code",
      "execution_count": 27,
      "metadata": {
        "colab": {
          "base_uri": "https://localhost:8080/"
        },
        "id": "HW8CXnJs2vU8",
        "outputId": "0654d082-0c79-4194-f612-62b9c043bb61"
      },
      "outputs": [
        {
          "output_type": "execute_result",
          "data": {
            "text/plain": [
              "array([False,  True,  True])"
            ]
          },
          "metadata": {},
          "execution_count": 27
        }
      ],
      "source": [
        "data > 1"
      ]
    },
    {
      "cell_type": "code",
      "execution_count": 28,
      "metadata": {
        "colab": {
          "base_uri": "https://localhost:8080/"
        },
        "id": "KG79Yj4A2w2w",
        "outputId": "29270754-95eb-465e-cc57-eed216bccb36"
      },
      "outputs": [
        {
          "output_type": "execute_result",
          "data": {
            "text/plain": [
              "2"
            ]
          },
          "metadata": {},
          "execution_count": 28
        }
      ],
      "source": [
        "np.count_nonzero(data > 1)"
      ]
    },
    {
      "cell_type": "markdown",
      "metadata": {
        "id": "PdILVV-Za7Ci"
      },
      "source": [
        "### 2-D arrays\n",
        "\n",
        "Here are examples of aggregation functions used with a 2-D array."
      ]
    },
    {
      "cell_type": "code",
      "execution_count": 29,
      "metadata": {
        "id": "HzF4r-zvatRQ",
        "colab": {
          "base_uri": "https://localhost:8080/"
        },
        "outputId": "ccd95fda-6d4a-49ac-c5f3-e8d2f0c92867"
      },
      "outputs": [
        {
          "output_type": "execute_result",
          "data": {
            "text/plain": [
              "array([[1, 2],\n",
              "       [3, 4],\n",
              "       [5, 6]])"
            ]
          },
          "metadata": {},
          "execution_count": 29
        }
      ],
      "source": [
        "data = np.array([[1, 2], [3, 4], [5, 6]])\n",
        "data"
      ]
    },
    {
      "cell_type": "code",
      "execution_count": 30,
      "metadata": {
        "id": "MUyXKAd-a2zj",
        "colab": {
          "base_uri": "https://localhost:8080/"
        },
        "outputId": "6f246121-0f1e-470b-8f1b-65aea7a3c340"
      },
      "outputs": [
        {
          "output_type": "execute_result",
          "data": {
            "text/plain": [
              "6"
            ]
          },
          "metadata": {},
          "execution_count": 30
        }
      ],
      "source": [
        "data.max()"
      ]
    },
    {
      "cell_type": "code",
      "execution_count": 31,
      "metadata": {
        "id": "aPalAsaKa9wg",
        "colab": {
          "base_uri": "https://localhost:8080/"
        },
        "outputId": "539874b0-94ab-4c73-efce-7f0ffe3ca0de"
      },
      "outputs": [
        {
          "output_type": "execute_result",
          "data": {
            "text/plain": [
              "1"
            ]
          },
          "metadata": {},
          "execution_count": 31
        }
      ],
      "source": [
        "data.min()"
      ]
    },
    {
      "cell_type": "code",
      "execution_count": 32,
      "metadata": {
        "id": "WFr6TRmFa-M4",
        "colab": {
          "base_uri": "https://localhost:8080/"
        },
        "outputId": "b4d66d26-4e08-4f19-c0ba-7a28147a297c"
      },
      "outputs": [
        {
          "output_type": "execute_result",
          "data": {
            "text/plain": [
              "21"
            ]
          },
          "metadata": {},
          "execution_count": 32
        }
      ],
      "source": [
        "data.sum()"
      ]
    },
    {
      "cell_type": "markdown",
      "metadata": {
        "id": "LsotaOKba-wI"
      },
      "source": [
        "<img src=\"https://numpy.org/doc/stable/_images/np_matrix_aggregation.png\"/>"
      ]
    },
    {
      "cell_type": "markdown",
      "metadata": {
        "id": "CipeNaya_P1w"
      },
      "source": [
        "The `axis` parameter can also be used here to perform aggregation along a dimension of an array."
      ]
    },
    {
      "cell_type": "code",
      "execution_count": 33,
      "metadata": {
        "id": "zBl1-YnlbCJT",
        "colab": {
          "base_uri": "https://localhost:8080/"
        },
        "outputId": "a92ad4f6-e6c0-4687-b5eb-6b9656b21e77"
      },
      "outputs": [
        {
          "output_type": "execute_result",
          "data": {
            "text/plain": [
              "array([5, 6])"
            ]
          },
          "metadata": {},
          "execution_count": 33
        }
      ],
      "source": [
        "data.max(axis=0)"
      ]
    },
    {
      "cell_type": "code",
      "execution_count": 34,
      "metadata": {
        "id": "Jd5xVRuVbxgb",
        "colab": {
          "base_uri": "https://localhost:8080/"
        },
        "outputId": "08c6f8e3-6d4a-4cdc-8630-1061420a10ef"
      },
      "outputs": [
        {
          "output_type": "execute_result",
          "data": {
            "text/plain": [
              "array([2, 4, 6])"
            ]
          },
          "metadata": {},
          "execution_count": 34
        }
      ],
      "source": [
        "data.max(axis=1)"
      ]
    },
    {
      "cell_type": "markdown",
      "metadata": {
        "id": "4Yu2O7lIb96Q"
      },
      "source": [
        "<img src=\"https://numpy.org/doc/stable/_images/np_matrix_aggregation_row.png\"/>"
      ]
    },
    {
      "cell_type": "code",
      "execution_count": 35,
      "metadata": {
        "id": "ufjOyYVc24kY",
        "colab": {
          "base_uri": "https://localhost:8080/"
        },
        "outputId": "04b3bbfe-30cf-4cbe-8260-59383b284f01"
      },
      "outputs": [
        {
          "output_type": "execute_result",
          "data": {
            "text/plain": [
              "array([[False,  True],\n",
              "       [ True,  True],\n",
              "       [ True,  True]])"
            ]
          },
          "metadata": {},
          "execution_count": 35
        }
      ],
      "source": [
        "data > 1"
      ]
    },
    {
      "cell_type": "code",
      "execution_count": 36,
      "metadata": {
        "id": "mGQfo2nt25Uy",
        "colab": {
          "base_uri": "https://localhost:8080/"
        },
        "outputId": "91e136a6-3ef3-433e-b261-6d352ae530df"
      },
      "outputs": [
        {
          "output_type": "execute_result",
          "data": {
            "text/plain": [
              "5"
            ]
          },
          "metadata": {},
          "execution_count": 36
        }
      ],
      "source": [
        "np.count_nonzero(data > 1)"
      ]
    },
    {
      "cell_type": "code",
      "execution_count": 37,
      "metadata": {
        "id": "XBmm1PK228Kd",
        "colab": {
          "base_uri": "https://localhost:8080/"
        },
        "outputId": "b49672d1-7045-47d5-dca2-a5539994d513"
      },
      "outputs": [
        {
          "output_type": "execute_result",
          "data": {
            "text/plain": [
              "array([1, 2, 2])"
            ]
          },
          "metadata": {},
          "execution_count": 37
        }
      ],
      "source": [
        "np.count_nonzero(data > 1, axis=1)"
      ]
    },
    {
      "cell_type": "markdown",
      "metadata": {
        "id": "DNrKIxyyRnY2"
      },
      "source": [
        "**Exercise 6 (English)**\n",
        "\n",
        "Create a 2-D array of random numbers with 4 rows and 3 columns.\n",
        "\n",
        "Multiply the array by 100.\n",
        "\n",
        "Find the maximum, minimum and sum of the array.\n",
        "\n",
        "Find the maximum value in each row.\n",
        "\n",
        "Find the minimum value in each column.\n",
        "\n",
        "**Exercice 6 (Français)**\n",
        "\n",
        "Créer un array de dimension 2 avec 4 lignes et 3 colonnes de nombres aléatoires.\n",
        "\n",
        "Multiplier cet array par 100.\n",
        "\n",
        "Trouver le maximum, le minimum et la somme de cet array.\n",
        "\n",
        "Trouver le maximum de chaque ligne.\n",
        "\n",
        "Trouver le minimum de chaque colonne."
      ]
    },
    {
      "cell_type": "markdown",
      "metadata": {
        "id": "jlrhPpvCcBLA"
      },
      "source": [
        "## Working with mathematical formulas\n",
        "\n",
        "NumPy can be used to implement mathematical formulas and perform some computation over data of any size.\n",
        "\n",
        "For example, here is a formula for computing mean square error."
      ]
    },
    {
      "cell_type": "markdown",
      "metadata": {
        "id": "5e9D7jrHcfto"
      },
      "source": [
        "<img src=\"https://numpy.org/doc/stable/_images/np_MSE_formula.png\"/>"
      ]
    },
    {
      "cell_type": "markdown",
      "metadata": {
        "id": "ClzPEILZ_k09"
      },
      "source": [
        "To illustrate how we would implement this with NumPy, let's create some data:"
      ]
    },
    {
      "cell_type": "code",
      "execution_count": 38,
      "metadata": {
        "id": "sPqULeBzcmHD",
        "colab": {
          "base_uri": "https://localhost:8080/"
        },
        "outputId": "4816bb0a-5151-4036-cb6d-22b069bd7ea1"
      },
      "outputs": [
        {
          "output_type": "execute_result",
          "data": {
            "text/plain": [
              "array([1, 1, 1])"
            ]
          },
          "metadata": {},
          "execution_count": 38
        }
      ],
      "source": [
        "predictions = np.array([1, 1, 1])\n",
        "predictions"
      ]
    },
    {
      "cell_type": "code",
      "execution_count": 39,
      "metadata": {
        "id": "ipfddTVxctJQ",
        "colab": {
          "base_uri": "https://localhost:8080/"
        },
        "outputId": "4728a308-3a26-466d-819d-72476fb42157"
      },
      "outputs": [
        {
          "output_type": "execute_result",
          "data": {
            "text/plain": [
              "array([1, 2, 3])"
            ]
          },
          "metadata": {},
          "execution_count": 39
        }
      ],
      "source": [
        "labels = np.array([1, 2, 3])\n",
        "labels"
      ]
    },
    {
      "cell_type": "markdown",
      "metadata": {
        "id": "2EZVniPl_2me"
      },
      "source": [
        "Now implement the formula to compute the mean square error between `predictions` and `labels`:"
      ]
    },
    {
      "cell_type": "code",
      "execution_count": 40,
      "metadata": {
        "id": "qfd4upHPc05Y",
        "colab": {
          "base_uri": "https://localhost:8080/"
        },
        "outputId": "989b3b0f-ab65-4477-cf48-93b4161f775a"
      },
      "outputs": [
        {
          "output_type": "execute_result",
          "data": {
            "text/plain": [
              "1.6666666666666665"
            ]
          },
          "metadata": {},
          "execution_count": 40
        }
      ],
      "source": [
        "n = predictions.size\n",
        "error = (1/n) * np.sum(np.square(predictions - labels))\n",
        "error"
      ]
    },
    {
      "cell_type": "markdown",
      "metadata": {
        "id": "3wUDavZk_8AP"
      },
      "source": [
        "Here is a visual illustration of how NumPy performs this computation internally."
      ]
    },
    {
      "cell_type": "markdown",
      "metadata": {
        "id": "QQ_KMVe_dBjQ"
      },
      "source": [
        "<img src=\"https://numpy.org/doc/stable/_images/np_MSE_implementation.png\"/>\n",
        "\n",
        "<img src=\"https://numpy.org/doc/stable/_images/np_mse_viz1.png\"/>\n",
        "\n",
        "<img src=\"https://numpy.org/doc/stable/_images/np_mse_viz2.png\"/>\n",
        "\n",
        "<img src=\"https://numpy.org/doc/stable/_images/np_MSE_explanation2.png\"/>"
      ]
    },
    {
      "cell_type": "markdown",
      "metadata": {
        "id": "DzDKTbCvAITU"
      },
      "source": [
        "In fact, there is an even simpler way we could compute this, using the `np.mean()` function:"
      ]
    },
    {
      "cell_type": "code",
      "execution_count": 41,
      "metadata": {
        "id": "YZC9H3RGAJhE",
        "colab": {
          "base_uri": "https://localhost:8080/"
        },
        "outputId": "d5c96e8b-062e-470c-cb31-3e919804ce0c"
      },
      "outputs": [
        {
          "output_type": "execute_result",
          "data": {
            "text/plain": [
              "1.6666666666666667"
            ]
          },
          "metadata": {},
          "execution_count": 41
        }
      ],
      "source": [
        "error = np.mean(np.square(predictions - labels))\n",
        "error"
      ]
    },
    {
      "cell_type": "markdown",
      "metadata": {
        "id": "T_v7hShxAO99"
      },
      "source": [
        "Of course, the best part about this is, it doesn't matter how much data we have - we could pass arrays of any size into this computation."
      ]
    },
    {
      "cell_type": "markdown",
      "metadata": {
        "id": "hNdd8udZdbkz"
      },
      "source": [
        "## Data types (dtypes)\n",
        "\n",
        "Finally, let's take a very brief look at some of the different data types that NumPy supports."
      ]
    },
    {
      "cell_type": "markdown",
      "metadata": {
        "id": "tOb90HevAdN1"
      },
      "source": [
        "At the beginning of this module, we created an array from some existing data values using `np.array()`."
      ]
    },
    {
      "cell_type": "code",
      "execution_count": 42,
      "metadata": {
        "id": "SefHR1TPdt4o",
        "colab": {
          "base_uri": "https://localhost:8080/"
        },
        "outputId": "67d9ef7d-2336-4b69-d5c0-6eac4e0b6880"
      },
      "outputs": [
        {
          "output_type": "execute_result",
          "data": {
            "text/plain": [
              "array([1, 2, 3])"
            ]
          },
          "metadata": {},
          "execution_count": 42
        }
      ],
      "source": [
        "data = np.array([1, 2, 3])\n",
        "data"
      ]
    },
    {
      "cell_type": "markdown",
      "metadata": {
        "id": "-RCwKCgFAl4E"
      },
      "source": [
        "Because of the data values we provided, NumPy chose an integer data type for us:"
      ]
    },
    {
      "cell_type": "code",
      "execution_count": 43,
      "metadata": {
        "id": "lNqTQQQ0d8ix",
        "colab": {
          "base_uri": "https://localhost:8080/"
        },
        "outputId": "9096ce03-19ae-4f43-9326-7d14f75d455b"
      },
      "outputs": [
        {
          "output_type": "execute_result",
          "data": {
            "text/plain": [
              "dtype('int64')"
            ]
          },
          "metadata": {},
          "execution_count": 43
        }
      ],
      "source": [
        "data.dtype"
      ]
    },
    {
      "cell_type": "markdown",
      "metadata": {
        "id": "TAFqprvqAquH"
      },
      "source": [
        "Earlier, we created an array of zeros using the `np.zeros()` function."
      ]
    },
    {
      "cell_type": "code",
      "execution_count": 44,
      "metadata": {
        "id": "s9VY75qnd9mw",
        "colab": {
          "base_uri": "https://localhost:8080/"
        },
        "outputId": "af2d4d7c-00e6-4323-f534-57b4961e84de"
      },
      "outputs": [
        {
          "output_type": "execute_result",
          "data": {
            "text/plain": [
              "array([0., 0., 0.])"
            ]
          },
          "metadata": {},
          "execution_count": 44
        }
      ],
      "source": [
        "zeros = np.zeros(3)\n",
        "zeros"
      ]
    },
    {
      "cell_type": "markdown",
      "metadata": {
        "id": "ZXkHoHioAveF"
      },
      "source": [
        "By default, NumPy created this array with a floating-point data type:"
      ]
    },
    {
      "cell_type": "code",
      "execution_count": 45,
      "metadata": {
        "id": "ynVBmnJzeBy4",
        "colab": {
          "base_uri": "https://localhost:8080/"
        },
        "outputId": "f608610a-4c84-4bf8-e455-4b980269fe25"
      },
      "outputs": [
        {
          "output_type": "execute_result",
          "data": {
            "text/plain": [
              "dtype('float64')"
            ]
          },
          "metadata": {},
          "execution_count": 45
        }
      ],
      "source": [
        "zeros.dtype"
      ]
    },
    {
      "cell_type": "markdown",
      "metadata": {
        "id": "V7ulRk5SA5YH"
      },
      "source": [
        "If we knew we only wanted to store whole numbers, we could have used the `dtype` parameter to override the default, e.g.:"
      ]
    },
    {
      "cell_type": "code",
      "execution_count": 46,
      "metadata": {
        "id": "61UDvJhkgAlo",
        "colab": {
          "base_uri": "https://localhost:8080/"
        },
        "outputId": "6b1cfb6c-b638-484c-df3e-555033b46823"
      },
      "outputs": [
        {
          "output_type": "execute_result",
          "data": {
            "text/plain": [
              "array([0, 0, 0])"
            ]
          },
          "metadata": {},
          "execution_count": 46
        }
      ],
      "source": [
        "zeros = np.zeros(3, dtype=np.int64)\n",
        "zeros"
      ]
    },
    {
      "cell_type": "code",
      "execution_count": 47,
      "metadata": {
        "id": "KP8Y5FBD3b9K",
        "colab": {
          "base_uri": "https://localhost:8080/"
        },
        "outputId": "066a1ecf-29e3-4d42-a772-824ad340d0d2"
      },
      "outputs": [
        {
          "output_type": "execute_result",
          "data": {
            "text/plain": [
              "dtype('int64')"
            ]
          },
          "metadata": {},
          "execution_count": 47
        }
      ],
      "source": [
        "zeros.dtype"
      ]
    },
    {
      "cell_type": "markdown",
      "metadata": {
        "id": "i3X2nMFsBD5U"
      },
      "source": [
        "Here are all of the integer data types that NumPy supports, along with the range of possible data values for each:"
      ]
    },
    {
      "cell_type": "markdown",
      "metadata": {
        "id": "45AVmmRGfssU"
      },
      "source": [
        "<img src=\"https://miro.medium.com/max/1400/1*XDBcGPOkqTGd5C7DuRrAiw.png\"/>"
      ]
    },
    {
      "cell_type": "markdown",
      "metadata": {
        "id": "rYzIg1pIBPF2"
      },
      "source": [
        "Here are all of the floating-point data types that NumPy currently supports, along with the range of possible data values for each:"
      ]
    },
    {
      "cell_type": "markdown",
      "metadata": {
        "id": "UcJ-L-aue_MA"
      },
      "source": [
        "<img src=\"https://miro.medium.com/max/1400/1*aXnGirp9NLC5oljJ5wGcyA.png\"/>"
      ]
    },
    {
      "cell_type": "markdown",
      "metadata": {
        "id": "ohVE_Oi6BX5_"
      },
      "source": [
        "## Further reading\n",
        "\n",
        "Please see the [NumPy website](https://numpy.org/doc/stable/index.html) for a more complete introduction to NumPy and links to other tutorials and documentation.\n",
        "\n",
        "For more information about data types, see also [NumPy data types](https://numpy.org/doc/stable/user/basics.types.html) and [A comprehensive guide to NumPy data types](https://betterprogramming.pub/a-comprehensive-guide-to-numpy-data-types-8f62cb57ea83) by Lex Maximov."
      ]
    }
  ],
  "metadata": {
    "celltoolbar": "Tags",
    "colab": {
      "name": "Workshop 4 - Module 1 - 2022-06-07 - NumPy arrays.ipynb",
      "provenance": []
    },
    "kernelspec": {
      "display_name": "developer-developer-training-nb-maintenance-mgen-7.11.0",
      "language": "python",
      "name": "conda-env-developer-developer-training-nb-maintenance-mgen-7.11.0-py"
    },
    "language_info": {
      "codemirror_mode": {
        "name": "ipython",
        "version": 3
      },
      "file_extension": ".py",
      "mimetype": "text/x-python",
      "name": "python",
      "nbconvert_exporter": "python",
      "pygments_lexer": "ipython3",
      "version": "3.10.11"
    }
  },
  "nbformat": 4,
  "nbformat_minor": 0
}